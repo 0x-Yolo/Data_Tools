{
 "cells": [
  {
   "cell_type": "code",
   "execution_count": 1,
   "metadata": {},
   "outputs": [],
   "source": [
    "import dash\n",
    "import dash_core_components as dcc\n",
    "import dash_html_components as html\n",
    "import pandas as pd\n",
    "import numpy as np\n",
    "import plotly.express as px\n",
    "import json\n",
    "external_stylesheets = ['https://codepen.io/chriddyp/pen/bWLwgP.css']\n",
    "app = dash.Dash(__name__, external_stylesheets=external_stylesheets)"
   ]
  },
  {
   "cell_type": "markdown",
   "metadata": {},
   "source": [
    "## 数据读取"
   ]
  },
  {
   "cell_type": "code",
   "execution_count": 2,
   "metadata": {},
   "outputs": [],
   "source": [
    "json_io=r\"geojson-map-china\\china.json\"\n",
    "gs_data = open(json_io, encoding='utf8').read()\n",
    "gs_data = json.loads(gs_data)\n",
    "#整理plotly需要的格式：\n",
    "for i in range(len(gs_data[\"features\"])):\n",
    "    gs_data[\"features\"][i][\"id\"]=gs_data[\"features\"][i][\"properties\"][\"id\"]#id前置\n",
    "    gs_data[\"features\"][i][\"name\"]=gs_data[\"features\"][i][\"properties\"][\"name\"]\n",
    "### 匹配id和区域\n",
    "geo_id=[]\n",
    "geo_name=[]\n",
    "for i in range(len(gs_data[\"features\"])):\n",
    "    geo_id.append(gs_data[\"features\"][i][\"id\"])\n",
    "    geo_name.append(gs_data[\"features\"][i]['properties'][\"name\"])\n",
    "geo_data=pd.DataFrame({\"id\":geo_id,\"区域\":geo_name})\n",
    "data = pd.read_excel(\"城投债数据_t.xlsx\")\n",
    "GK=pd.read_excel(\"Credit_Assistant.xlsx\",sheet_name=\"国开可比基准\",skiprows=1,index_col=0).iloc[2:,:]\n",
    "GK_yield_base=GK.tail(1).T\n",
    "GK_yield_base.columns=[\"GK_yield\"]\n",
    "GK_yield_base[\"期限\"]=[1,2,3,4,5]\n"
   ]
  },
  {
   "cell_type": "markdown",
   "metadata": {},
   "source": [
    "## 函数"
   ]
  },
  {
   "cell_type": "code",
   "execution_count": 3,
   "metadata": {},
   "outputs": [],
   "source": [
    "\n",
    "## 定义根据债券余额加权的点乘积：\n",
    "def weighted_premium(dff_VS_GK):\n",
    "    weighted_premium=np.dot(dff_VS_GK[\"券种利差\"],dff_VS_GK[\"债券余额\\n[日期] 最新\\n[单位] 亿\"]/dff_VS_GK[\"债券余额\\n[日期] 最新\\n[单位] 亿\"].sum())\n",
    "    return round(weighted_premium,2)\n",
    "\n",
    "def get_credit_premium():\n",
    "    data= pd.read_excel(\"Credit_Assistant.xlsx\",skiprows=1,index_col=0).iloc[2:,:]\n",
    "    index_code=pd.read_excel(\"Credit_Assistant.xlsx\",skiprows=1,index_col=0).iloc[1,:].tolist()\n",
    "    index_name=pd.read_excel(\"Credit_Assistant.xlsx\").iloc[0,1:].tolist()\n",
    "    str=\",\"\n",
    "    err,df=w.edb(str.join(index_code),\"2019-01-01\", dt.datetime.today().strftime(\"%Y-%m-%d\"),\"Fill=Previous\",usedf=True)\n",
    "    df.columns=index_name\n",
    "    return df\n",
    "\n",
    "def get_credit_vs_gk_data():\n",
    "    GK_yield_base=GK_updated_yield()\n",
    "    dff_VS_GK=pd.merge(df[df[\"期限\"]<5],GK_yield_base,left_on=[\"期限_匹配\"],right_on=[\"期限\"],how=\"left\")\n",
    "    dff_VS_GK[\"券种利差\"]=(dff_VS_GK[\"债券估值(YY)\\n[单位] %\"]-dff_VS_GK[\"GK_yield\"])*100\n",
    "    dff_VS_GK=dff_VS_GK[dff_VS_GK[\"券种利差\"].isna()==False]\n",
    "    return dff_VS_GK\n",
    "\n",
    "info_dimension=\"券种利差\",\"债券余额\\n[日期] 最新\\n[单位] 亿\"\n",
    "\n",
    "def province_credit_premium_fig(df):\n",
    "\n",
    "    dff=pd.merge(pd.DataFrame(df,columns=[\"信用利差\"]),geo_data,left_on=\"区域\",right_on=\"区域\")\n",
    "    fig = px.choropleth_mapbox(dff, geojson=gs_data, locations='id', color='信用利差',\n",
    "            range_color=(20, 400),\n",
    "            zoom=3, center = {\"lat\": 37.4189, \"lon\": 116.4219},\n",
    "            mapbox_style='carto-positron',\n",
    "            hover_data=[\"区域\", \"信用利差\"]\n",
    "            )\n",
    "\n",
    "    fig.update_geos(fitbounds=\"locations\", visible=True)\n",
    "    fig.update_layout(margin={\"r\":0,\"t\":0,\"l\":0,\"b\":0})\n",
    "    return fig\n"
   ]
  },
  {
   "cell_type": "code",
   "execution_count": 4,
   "metadata": {},
   "outputs": [
    {
     "name": "stderr",
     "output_type": "stream",
     "text": [
      "C:\\ProgramData\\Anaconda3\\lib\\site-packages\\ipykernel_launcher.py:13: FutureWarning: Indexing with multiple keys (implicitly converted to a tuple of keys) will be deprecated, use a list instead.\n",
      "  del sys.path[0]\n"
     ]
    }
   ],
   "source": [
    "## 筛选非PPN\n",
    "data = data[data[\"证券简称\"].str.contains(\"PPN\")==False]\n",
    "#确定债券的可比期限\n",
    "data[\"含权债行权期限\"]=data[\"含权债行权期限\"].fillna(10)\n",
    "data[\"含权债行权期限\"]=data[\"含权债行权期限\"]*365\n",
    "df=pd.DataFrame(data=data)\n",
    "df[\"期限\"]=((data[[\"含权债行权期限\",\"剩余期限(天)\\n[日期] 最新\\n[单位] 天\"]].min(axis=1))/365).round(2)\n",
    "df[\"期限_匹配\"]=((data[[\"含权债行权期限\",\"剩余期限(天)\\n[日期] 最新\\n[单位] 天\"]].min(axis=1))/365).round(0)\n",
    "dff_VS_GK=pd.merge(df[df[\"期限\"]<5],GK_yield_base,left_on=[\"期限_匹配\"],right_on=[\"期限\"],how=\"left\")\n",
    "dff_VS_GK[\"券种利差\"]=(dff_VS_GK[\"债券估值(YY)\\n[单位] %\"]-dff_VS_GK[\"GK_yield\"])*100\n",
    "dff_VS_GK=dff_VS_GK[dff_VS_GK[\"券种利差\"].isna()==False]\n",
    "info_dimension=\"券种利差\",\"债券余额\\n[日期] 最新\\n[单位] 亿\"\n",
    "province_credit_premium=dff_VS_GK.groupby(\"区域\")[info_dimension].apply(lambda x : weighted_premium(x))"
   ]
  },
  {
   "cell_type": "code",
   "execution_count": 5,
   "metadata": {},
   "outputs": [],
   "source": [
    "# 每个省份对应的城市\n",
    "province_city = []\n",
    "for name,group in dff_VS_GK.groupby(\"区域\")['城市']:\n",
    "    temp = dict()\n",
    "    temp['label'] = name\n",
    "    temp['value'] = group.unique().tolist()\n",
    "    province_city.append(temp)\n",
    "    \n",
    "available_cities = dff_VS_GK['城市'].unique()\n",
    "\n",
    "\n",
    "    \n",
    "    \n",
    "    "
   ]
  },
  {
   "cell_type": "code",
   "execution_count": 6,
   "metadata": {},
   "outputs": [
    {
     "name": "stdout",
     "output_type": "stream",
     "text": [
      "Dash is running on http://127.0.0.1:8050/\n",
      "\n",
      " Warning: This is a development server. Do not use app.run_server\n",
      " in production, use a production WSGI server like gunicorn instead.\n",
      "\n",
      " * Serving Flask app \"__main__\" (lazy loading)\n",
      " * Environment: production\n",
      "   WARNING: This is a development server. Do not use it in a production deployment.\n",
      "   Use a production WSGI server instead.\n",
      " * Debug mode: on\n"
     ]
    },
    {
     "ename": "SystemExit",
     "evalue": "1",
     "output_type": "error",
     "traceback": [
      "An exception has occurred, use %tb to see the full traceback.\n",
      "\u001b[1;31mSystemExit\u001b[0m\u001b[1;31m:\u001b[0m 1\n"
     ]
    },
    {
     "name": "stderr",
     "output_type": "stream",
     "text": [
      "C:\\ProgramData\\Anaconda3\\lib\\site-packages\\IPython\\core\\interactiveshell.py:3339: UserWarning:\n",
      "\n",
      "To exit: use 'exit', 'quit', or Ctrl-D.\n",
      "\n"
     ]
    }
   ],
   "source": [
    "fig = province_credit_premium_fig(province_credit_premium)\n",
    "info_dimension=\"券种利差\",\"债券余额\\n[日期] 最新\\n[单位] 亿\"\n",
    "app.layout = html.Div(\n",
    "    \n",
    "    [\n",
    "        html.Div(\n",
    "        [dcc.Graph(id='China-bond-map',\n",
    "              figure = fig),\n",
    "         dcc.Graph( id='bond-by-city')]\n",
    "        ,style={'width': '49%', 'display': 'inline-block', 'padding': '0 20'}),\n",
    "        \n",
    "        dcc.Dropdown(id = 'choose-of-cities',\n",
    "                  options = [{'label': i, 'value': i} for i in available_cities],\n",
    "                  value=['上海市','北京市'],\n",
    "                  placeholder=\"请选择选择想要比较的城市\",\n",
    "                  multi = True),\n",
    "\n",
    "        dcc.Graph(id = 'compare-bond-by-city')\n",
    "    ]\n",
    "    \n",
    ")\n",
    "    \n",
    "    \n",
    "\n",
    "\n",
    "@app.callback(\n",
    "    dash.dependencies.Output('bond-by-city', 'figure'),\n",
    "    [dash.dependencies.Input('China-bond-map', 'clickData')])\n",
    "def update_figure(clickData):\n",
    "    df_province = dff_VS_GK[dff_VS_GK['区域'] == clickData['区域']].groupby(\"城市\")[\"券种利差\",\"债券余额\\n[日期] 最新\\n[单位] 亿\"].apply(lambda x : weighted_premium(x))\n",
    "    dff = pd.DataFrame(df_province,columns = ['信用利差']).reset_index()\n",
    "    fig = px.bar(dff, x=\"城市\", y=\"信用利差\")\n",
    "\n",
    " #   fig.update_layout(transition_duration=500)\n",
    "\n",
    "    return fig\n",
    "\n",
    "@app.callback(\n",
    "    dash.dependencies.Output('compare-bond-by-city', 'figure'),\n",
    "    [dash.dependencies.Input('choose-of-cities', 'value')])\n",
    "def compare_figure(cities):\n",
    "    dff = dff_VS_GK[dff_VS_GK['城市'].isin(cities)][\"券种利差\",\"债券余额\\n[日期] 最新\\n[单位] 亿\"].apply(lambda x : weighted_premium(x))\n",
    "    dff2 = pd.DataFrame(dff,columns = ['信用利差']).reset_index()\n",
    "    fig = px.bar(dff2, x=\"城市\", y=\"信用利差\")\n",
    "\n",
    "if __name__ == '__main__':\n",
    "    app.run_server(debug=True)"
   ]
  },
  {
   "cell_type": "code",
   "execution_count": null,
   "metadata": {},
   "outputs": [],
   "source": []
  }
 ],
 "metadata": {
  "kernelspec": {
   "display_name": "Python 3",
   "language": "python",
   "name": "python3"
  },
  "language_info": {
   "codemirror_mode": {
    "name": "ipython",
    "version": 3
   },
   "file_extension": ".py",
   "mimetype": "text/x-python",
   "name": "python",
   "nbconvert_exporter": "python",
   "pygments_lexer": "ipython3",
   "version": "3.7.6"
  }
 },
 "nbformat": 4,
 "nbformat_minor": 4
}
