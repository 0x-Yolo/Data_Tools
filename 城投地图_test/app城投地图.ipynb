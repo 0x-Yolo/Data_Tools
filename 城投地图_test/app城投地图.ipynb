{
 "cells": [
  {
   "cell_type": "code",
   "execution_count": 2,
   "metadata": {},
   "outputs": [],
   "source": [
    "import dash\n",
    "import dash_core_components as dcc\n",
    "import dash_html_components as html\n",
    "import pandas as pd\n",
    "import numpy as np\n",
    "import plotly.express as px\n",
    "import json\n",
    "external_stylesheets = ['https://codepen.io/chriddyp/pen/bWLwgP.css']\n",
    "app = dash.Dash(__name__, external_stylesheets=external_stylesheets)"
   ]
  },
  {
   "cell_type": "markdown",
   "metadata": {},
   "source": [
    "## 数据读取"
   ]
  },
  {
   "cell_type": "code",
   "execution_count": 3,
   "metadata": {},
   "outputs": [],
   "source": [
    "json_io=r\"geojson-map-china\\china.json\"\n",
    "gs_data = open(json_io, encoding='utf8').read()\n",
    "gs_data = json.loads(gs_data)\n",
    "#整理plotly需要的格式：\n",
    "for i in range(len(gs_data[\"features\"])):\n",
    "    gs_data[\"features\"][i][\"id\"]=gs_data[\"features\"][i][\"properties\"][\"id\"]#id前置\n",
    "    gs_data[\"features\"][i][\"name\"]=gs_data[\"features\"][i][\"properties\"][\"name\"]\n",
    "### 匹配id和区域\n",
    "geo_id=[]\n",
    "geo_name=[]\n",
    "for i in range(len(gs_data[\"features\"])):\n",
    "    geo_id.append(gs_data[\"features\"][i][\"id\"])\n",
    "    geo_name.append(gs_data[\"features\"][i]['properties'][\"name\"])\n",
    "geo_data=pd.DataFrame({\"id\":geo_id,\"区域\":geo_name})\n",
    "data = pd.read_excel(\"城投债数据_t.xlsx\")\n",
    "GK=pd.read_excel(\"Credit_Assistant.xlsx\",sheet_name=\"国开可比基准\",skiprows=1,index_col=0).iloc[2:,:]\n",
    "GK_yield_base=GK.tail(1).T\n",
    "GK_yield_base.columns=[\"GK_yield\"]\n",
    "GK_yield_base[\"期限\"]=[1,2,3,4,5]\n"
   ]
  },
  {
   "cell_type": "markdown",
   "metadata": {},
   "source": [
    "## 函数"
   ]
  },
  {
   "cell_type": "code",
   "execution_count": 6,
   "metadata": {},
   "outputs": [],
   "source": [
    "\n",
    "## 定义根据债券余额加权的点乘积：\n",
    "def weighted_premium(dff_VS_GK):\n",
    "    weighted_premium=np.dot(dff_VS_GK[\"券种利差\"],dff_VS_GK[\"债券余额\\n[日期] 最新\\n[单位] 亿\"]/dff_VS_GK[\"债券余额\\n[日期] 最新\\n[单位] 亿\"].sum())\n",
    "    return round(weighted_premium,2)\n",
    "\n",
    "def get_credit_premium():\n",
    "    data= pd.read_excel(\"Credit_Assistant.xlsx\",skiprows=1,index_col=0).iloc[2:,:]\n",
    "    index_code=pd.read_excel(\"Credit_Assistant.xlsx\",skiprows=1,index_col=0).iloc[1,:].tolist()\n",
    "    index_name=pd.read_excel(\"Credit_Assistant.xlsx\").iloc[0,1:].tolist()\n",
    "    str=\",\"\n",
    "    err,df=w.edb(str.join(index_code),\"2019-01-01\", dt.datetime.today().strftime(\"%Y-%m-%d\"),\"Fill=Previous\",usedf=True)\n",
    "    df.columns=index_name\n",
    "    return df\n",
    "\n",
    "def get_credit_vs_gk_data():\n",
    "    GK_yield_base=GK_updated_yield()\n",
    "    dff_VS_GK=pd.merge(df[df[\"期限\"]<5],GK_yield_base,left_on=[\"期限_匹配\"],right_on=[\"期限\"],how=\"left\")\n",
    "    dff_VS_GK[\"券种利差\"]=(dff_VS_GK[\"债券估值(YY)\\n[单位] %\"]-dff_VS_GK[\"GK_yield\"])*100\n",
    "    dff_VS_GK=dff_VS_GK[dff_VS_GK[\"券种利差\"].isna()==False]\n",
    "    return dff_VS_GK\n",
    "\n",
    "info_dimension=\"券种利差\",\"债券余额\\n[日期] 最新\\n[单位] 亿\"\n",
    "\n",
    "def province_credit_premium_fig(df):\n",
    "\n",
    "    dff=pd.merge(pd.DataFrame(df,columns=[\"信用利差\"]),geo_data,left_on=\"区域\",right_on=\"区域\")\n",
    "    fig = px.choropleth_mapbox(dff, geojson=gs_data, locations='id', color='信用利差',\n",
    "            range_color=(20, 400),\n",
    "            zoom=3, center = {\"lat\": 37.4189, \"lon\": 116.4219},\n",
    "            mapbox_style='carto-positron',\n",
    "            hover_data=[\"区域\", \"信用利差\"]\n",
    "            )\n",
    "\n",
    "    fig.update_geos(fitbounds=\"locations\", visible=True)\n",
    "    fig.update_layout(margin={\"r\":0,\"t\":0,\"l\":0,\"b\":0})\n",
    "    return fig\n"
   ]
  },
  {
   "cell_type": "code",
   "execution_count": 7,
   "metadata": {},
   "outputs": [],
   "source": [
    "## 筛选非PPN\n",
    "data = data[data[\"证券简称\"].str.contains(\"PPN\")==False]\n",
    "#确定债券的可比期限\n",
    "data[\"含权债行权期限\"]=data[\"含权债行权期限\"].fillna(10)\n",
    "data[\"含权债行权期限\"]=data[\"含权债行权期限\"]*365\n",
    "df=pd.DataFrame(data=data)\n",
    "df[\"期限\"]=((data[[\"含权债行权期限\",\"剩余期限(天)\\n[日期] 最新\\n[单位] 天\"]].min(axis=1))/365).round(2)\n",
    "df[\"期限_匹配\"]=((data[[\"含权债行权期限\",\"剩余期限(天)\\n[日期] 最新\\n[单位] 天\"]].min(axis=1))/365).round(0)\n",
    "dff_VS_GK=pd.merge(df[df[\"期限\"]<5],GK_yield_base,left_on=[\"期限_匹配\"],right_on=[\"期限\"],how=\"left\")\n",
    "dff_VS_GK[\"券种利差\"]=(dff_VS_GK[\"债券估值(YY)\\n[单位] %\"]-dff_VS_GK[\"GK_yield\"])*100\n",
    "dff_VS_GK=dff_VS_GK[dff_VS_GK[\"券种利差\"].isna()==False]\n",
    "info_dimension=\"券种利差\",\"债券余额\\n[日期] 最新\\n[单位] 亿\"\n",
    "province_credit_premium=dff_VS_GK.groupby(\"区域\")[info_dimension].apply(lambda x : weighted_premium(x))"
   ]
  },
  {
   "cell_type": "code",
   "execution_count": 8,
   "metadata": {},
   "outputs": [],
   "source": [
    "# 每个省份对应的城市\n",
    "province_city = []\n",
    "for name,group in dff_VS_GK.groupby(\"区域\")['城市']:\n",
    "    temp = dict()\n",
    "    temp['label'] = name\n",
    "    temp['value'] = group.unique().tolist()\n",
    "    province_city.append(temp)\n",
    "    \n",
    "available_cities = dff_VS_GK['城市'].unique()\n",
    "\n",
    "\n",
    "    \n",
    "    \n",
    "    "
   ]
  },
  {
   "cell_type": "code",
   "execution_count": 6,
   "metadata": {},
   "outputs": [
    {
     "name": "stdout",
     "output_type": "stream",
     "text": [
      "Dash is running on http://127.0.0.1:8050/\n",
      "\n",
      " Warning: This is a development server. Do not use app.run_server\n",
      " in production, use a production WSGI server like gunicorn instead.\n",
      "\n",
      " * Serving Flask app \"__main__\" (lazy loading)\n",
      " * Environment: production\n",
      "   WARNING: This is a development server. Do not use it in a production deployment.\n",
      "   Use a production WSGI server instead.\n",
      " * Debug mode: on\n"
     ]
    },
    {
     "ename": "SystemExit",
     "evalue": "1",
     "output_type": "error",
     "traceback": [
      "An exception has occurred, use %tb to see the full traceback.\n",
      "\u001b[1;31mSystemExit\u001b[0m\u001b[1;31m:\u001b[0m 1\n"
     ]
    },
    {
     "name": "stderr",
     "output_type": "stream",
     "text": [
      "C:\\ProgramData\\Anaconda3\\lib\\site-packages\\IPython\\core\\interactiveshell.py:3339: UserWarning:\n",
      "\n",
      "To exit: use 'exit', 'quit', or Ctrl-D.\n",
      "\n"
     ]
    }
   ],
   "source": [
    "fig = province_credit_premium_fig(province_credit_premium)\n",
    "info_dimension=\"券种利差\",\"债券余额\\n[日期] 最新\\n[单位] 亿\"\n",
    "app.layout = html.Div(\n",
    "    \n",
    "    [\n",
    "        html.Div(\n",
    "        [dcc.Graph(id='China-bond-map',\n",
    "              figure = fig),\n",
    "         dcc.Graph( id='bond-by-city')]\n",
    "        ,style={'width': '49%', 'display': 'inline-block', 'padding': '0 20'}),\n",
    "        \n",
    "        dcc.Dropdown(id = 'choose-of-cities',\n",
    "                  options = [{'label': i, 'value': i} for i in available_cities],\n",
    "                  value=['上海市','北京市'],\n",
    "                  placeholder=\"请选择选择想要比较的城市\",\n",
    "                  multi = True),\n",
    "\n",
    "        dcc.Graph(id = 'compare-bond-by-city')\n",
    "    ]\n",
    "    \n",
    ")\n",
    "    \n",
    "    \n",
    "\n",
    "\n",
    "@app.callback(\n",
    "    dash.dependencies.Output('bond-by-city', 'figure'),\n",
    "    [dash.dependencies.Input('China-bond-map', 'clickData')])\n",
    "def update_figure(clickData):\n",
    "    df_province = dff_VS_GK[dff_VS_GK['区域'] == clickData['区域']].groupby(\"城市\")[\"券种利差\",\"债券余额\\n[日期] 最新\\n[单位] 亿\"].apply(lambda x : weighted_premium(x))\n",
    "    dff = pd.DataFrame(df_province,columns = ['信用利差']).reset_index()\n",
    "    fig = px.bar(dff, x=\"城市\", y=\"信用利差\")\n",
    "\n",
    " #   fig.update_layout(transition_duration=500)\n",
    "\n",
    "    return fig\n",
    "\n",
    "@app.callback(\n",
    "    dash.dependencies.Output('compare-bond-by-city', 'figure'),\n",
    "    [dash.dependencies.Input('choose-of-cities', 'value')])\n",
    "def compare_figure(cities):\n",
    "    dff = dff_VS_GK[dff_VS_GK['城市'].isin(cities)][\"券种利差\",\"债券余额\\n[日期] 最新\\n[单位] 亿\"].apply(lambda x : weighted_premium(x))\n",
    "    dff2 = pd.DataFrame(dff,columns = ['信用利差']).reset_index()\n",
    "    fig = px.bar(dff2, x=\"城市\", y=\"信用利差\")\n",
    "\n",
    "if __name__ == '__main__':\n",
    "    app.run_server(debug=True)"
   ]
  },
  {
   "cell_type": "code",
   "execution_count": 4,
   "metadata": {},
   "outputs": [
    {
     "output_type": "error",
     "ename": "NameError",
     "evalue": "name 'available_cities' is not defined",
     "traceback": [
      "\u001b[1;31m---------------------------------------------------------------------------\u001b[0m",
      "\u001b[1;31mNameError\u001b[0m                                 Traceback (most recent call last)",
      "\u001b[1;32m<ipython-input-4-17c05e55a75b>\u001b[0m in \u001b[0;36m<module>\u001b[1;34m\u001b[0m\n\u001b[1;32m----> 1\u001b[1;33m \u001b[0mavailable_cities\u001b[0m\u001b[1;33m\u001b[0m\u001b[1;33m\u001b[0m\u001b[0m\n\u001b[0m",
      "\u001b[1;31mNameError\u001b[0m: name 'available_cities' is not defined"
     ]
    }
   ],
   "source": [
    "available_cities"
   ]
  },
  {
   "cell_type": "code",
   "execution_count": 9,
   "metadata": {},
   "outputs": [
    {
     "output_type": "execute_result",
     "data": {
      "text/plain": "array(['南昌市', '武汉市', '西安市', '北京市', '宁波市', '南宁市', '郑州市', '天津市', '南京市',\n       '沈阳市', '上海市', '成都市', '泸州市', '广州市', '青岛市', '莆田市', '重庆市', '济宁市',\n       '珠海市', '绍兴市', '靖江市', '苏州市', '北海市', '长沙市', '淮安市', '湖州市', '济南市',\n       '乌鲁木齐市', '海宁市', '常州市', '淮北市', '威海市', '宁德市', '贵阳市', '黔东南苗族侗族自治州',\n       '杭州市', '潍坊市', '可克达拉市', '咸阳市', '太原市', '余姚市', '漳州市', '锦州市', '江阴市',\n       '庄河市', '唐山市', '兰州市', '无锡市', '柳州市', '景德镇市', '长春市', '株洲市', '南通市',\n       '江门市', '昆明市', '郴州市', '连云港市', '舟山市', '绵阳市', '扬州市', '盐城市', '徐州市',\n       '赣州市', '吉安市', '北屯市', '衡阳市', '阿拉尔市', '泰州市', '湛江市', '宿迁市', '攀枝花市',\n       '海口市', '滁州市', '抚州市', '厦门市', '石家庄市', '呼和浩特市', '张家口市', '上饶市', '佛山市',\n       '巴中市', '开封市', '温州市', '嘉兴市', '遵义市', '日照市', '内江市', '德兴市', '襄阳市',\n       '启东市', '荆州市', '醴陵市', '浏阳市', '芜湖市', '雅安市', '太仓市', '永安市', '黄冈市',\n       '腾冲市', '建德市', '自贡市', '马鞍山市', '宜昌市', '眉山市', '遂宁市', '仁怀市', '周口市',\n       '张家港市', '营口市', '阳江市', '哈尔滨市', '简阳市', '怀化市', '德州市', '安阳市', '吉林市',\n       '延安市', '海安市', '诸暨市', '常熟市', '沧州市', '龙岩市', '松原市', '岳阳市', '平度市',\n       '河池市', '常德市', '十堰市', '拉萨市', '宣城市', '安庆市', '昌吉回族自治州', '新乡市', '铜陵市',\n       '临沂市', '嵊州市', '福州市', '邛崃市', '台州市', '湘潭市', '萍乡市', '孝感市', '菏泽市',\n       '邯郸市', '宜兴市', '泰安市', '六盘水市', '随州市', '玉环市', '鹰潭市', '衢州市', '海门市',\n       '深圳市', '镇江市', '张家界市', '昆山市', '泉州市', '南平市', '瓦房店市', '商丘市',\n       '凉山彝族自治州', '宜春市', '如皋市', '钦州市', '淄博市', '聊城市', '黄石市', '荆门市', '九江市',\n       '洛阳市', '什邡市', '西宁市', '宁乡市', '中山市', '乳山市', '桐乡市', '丹阳市', '松滋市',\n       '秦皇岛市', '寿光市', '达州市', '滨州市', '牡丹江市', '桂林市', '广元市', '合肥市', '阜阳市',\n       '蚌埠市', '金华市', '汕头市', '邢台市', '滕州市', '韩城市', '鸡西市', '信阳市', '石河子市',\n       '慈溪市', '浙江省', '丽水市', '阿克苏地区', '南安市', '新郑市', '义乌市', '咸宁市', '兴义市',\n       '益阳市', '高密市', '新余市', '宜宾市', '三门峡市', '德阳市', '铜仁市', '江油市',\n       '伊犁哈萨克自治州', '平湖市', '永康市', '淮南市', '临湘市', '临汾市', '瑞安市', '安顺市', '晋中市',\n       '神木市', '新沂市', '百色市', '兴化市', '克拉玛依市', '宝鸡市', '黔南布依族苗族自治州', '运城市',\n       '温岭市', '亳州市', '汝州市', '大连市', '长治市', '邳州市', '永州市', '大庆市', '湘乡市',\n       '濮阳市', '曲靖市', '溧阳市', '三明市', '晋江市', '邵阳市', '焦作市', '任丘市', '辽源市',\n       '铁门关市', '漯河市', '双鸭山市', '梅州市', '驻马店市', '奎屯市', '新泰市', '承德市', '毕节市',\n       '林州市', '东台市', '忻州市', '老河口市', '鹤壁市', '句容市', '海城市', '大冶市', '仪征市',\n       '伊宁市', '宜城市', '宜都市', '阿克苏市', '崇州市', '平顶山市', '邹城市', '平凉市', '五家渠市',\n       '吐鲁番市', '湘西土家族苗族自治州', '大同市', '渭南市', '鄂尔多斯市', '赤水市', '桐城市', '都江堰市',\n       '防城港市', '南充市', '巢湖市', '明光市', '韶山市', '惠州市', '黄山市', '荣成市', '江西省',\n       '东莞市', '宿州市', '六安市', '京山市', '资阳市', '潜山市', '乐清市', '鹤岗市', '射洪市',\n       '大石桥市', '南阳市', '许昌市', '汕尾市', '广安市', '隆昌市', '胶州市', '哈密市', '韶关市',\n       '池州市', '洪湖市', '珲春市', '资兴市', '蒙自市', '安丘市', '黔西南布依族苗族自治州', '钟祥市',\n       '枝江市', '青州市', '包头市', '宁国市', '兴宁市', '广德市', '高邮市', '诸城市',\n       '红河哈尼族彝族自治州', '齐齐哈尔市', '巴音郭楞蒙古自治州', '石首市', '邵东市', '长葛市', '应城市',\n       '广水市', '肇东市', '鹤山市', '七台河市', '昌吉市', '天门市', '恩施市', '盘锦市', '乐平市',\n       '彭州市', '葫芦岛市', '凯里市', '扬中市', '文山壮族苗族自治州', '莱西市', '东营市', '肇庆市',\n       '贵溪市', '赤壁市', '娄底市', '泰兴市', '樟树市', '瑞昌市', '安陆市', '银川市', '盘州市',\n       '吉林省', '阆中市', '仙桃市', '新密市', '武冈市', '巩义市', '当阳市', '和田地区', '共青城市',\n       '乌兰察布市', '肥城市', '枣阳市', '济源市', '大理白族自治州', '阿勒泰地区', '禹州市', '四会市',\n       '兴仁市', '都匀市', '潜江市', '金昌市', '兴安盟', '汨罗市', '凤城市', '汉中市', '沅江市',\n       '邵武市', '博尔塔拉蒙古自治州', '乐山市', '喀什市', '清远市', '石狮市', '呼伦贝尔市', '鄂州市',\n       '迁安市', '张掖市', '巴彦淖尔市', '库尔勒市', '阜新市', '丰城市', '德宏傣族景颇族自治州', '本溪市',\n       '河源市', '来宾市', '延边朝鲜族自治州', '晋城市', '嘉峪关市', '安康市', '揭阳市'],\n      dtype=object)"
     },
     "metadata": {},
     "execution_count": 9
    }
   ],
   "source": []
  },
  {
   "cell_type": "code",
   "execution_count": 14,
   "metadata": {},
   "outputs": [
    {
     "output_type": "execute_result",
     "data": {
      "text/plain": "    id   区域\n24  32  江苏省",
      "text/html": "<div>\n<style scoped>\n    .dataframe tbody tr th:only-of-type {\n        vertical-align: middle;\n    }\n\n    .dataframe tbody tr th {\n        vertical-align: top;\n    }\n\n    .dataframe thead th {\n        text-align: right;\n    }\n</style>\n<table border=\"1\" class=\"dataframe\">\n  <thead>\n    <tr style=\"text-align: right;\">\n      <th></th>\n      <th>id</th>\n      <th>区域</th>\n    </tr>\n  </thead>\n  <tbody>\n    <tr>\n      <th>24</th>\n      <td>32</td>\n      <td>江苏省</td>\n    </tr>\n  </tbody>\n</table>\n</div>"
     },
     "metadata": {},
     "execution_count": 14
    }
   ],
   "source": [
    "geo_data[geo_data[\"区域\"]==\"江苏省\"]"
   ]
  },
  {
   "cell_type": "code",
   "execution_count": 17,
   "metadata": {},
   "outputs": [
    {
     "output_type": "error",
     "ename": "KeyError",
     "evalue": "'区域'",
     "traceback": [
      "\u001b[1;31m---------------------------------------------------------------------------\u001b[0m",
      "\u001b[1;31mKeyError\u001b[0m                                  Traceback (most recent call last)",
      "\u001b[1;32m<ipython-input-17-9be157f23b2f>\u001b[0m in \u001b[0;36m<module>\u001b[1;34m\u001b[0m\n\u001b[1;32m----> 1\u001b[1;33m \u001b[0mprovince_credit_premium_fig\u001b[0m\u001b[1;33m(\u001b[0m\u001b[0mdf\u001b[0m\u001b[1;33m)\u001b[0m\u001b[1;33m\u001b[0m\u001b[1;33m\u001b[0m\u001b[0m\n\u001b[0m",
      "\u001b[1;32m<ipython-input-6-85418f06dd6a>\u001b[0m in \u001b[0;36mprovince_credit_premium_fig\u001b[1;34m(df)\u001b[0m\n\u001b[0;32m     24\u001b[0m \u001b[1;32mdef\u001b[0m \u001b[0mprovince_credit_premium_fig\u001b[0m\u001b[1;33m(\u001b[0m\u001b[0mdf\u001b[0m\u001b[1;33m)\u001b[0m\u001b[1;33m:\u001b[0m\u001b[1;33m\u001b[0m\u001b[1;33m\u001b[0m\u001b[0m\n\u001b[0;32m     25\u001b[0m \u001b[1;33m\u001b[0m\u001b[0m\n\u001b[1;32m---> 26\u001b[1;33m     \u001b[0mdff\u001b[0m\u001b[1;33m=\u001b[0m\u001b[0mpd\u001b[0m\u001b[1;33m.\u001b[0m\u001b[0mmerge\u001b[0m\u001b[1;33m(\u001b[0m\u001b[0mpd\u001b[0m\u001b[1;33m.\u001b[0m\u001b[0mDataFrame\u001b[0m\u001b[1;33m(\u001b[0m\u001b[0mdf\u001b[0m\u001b[1;33m,\u001b[0m\u001b[0mcolumns\u001b[0m\u001b[1;33m=\u001b[0m\u001b[1;33m[\u001b[0m\u001b[1;34m\"信用利差\"\u001b[0m\u001b[1;33m]\u001b[0m\u001b[1;33m)\u001b[0m\u001b[1;33m,\u001b[0m\u001b[0mgeo_data\u001b[0m\u001b[1;33m,\u001b[0m\u001b[0mleft_on\u001b[0m\u001b[1;33m=\u001b[0m\u001b[1;34m\"区域\"\u001b[0m\u001b[1;33m,\u001b[0m\u001b[0mright_on\u001b[0m\u001b[1;33m=\u001b[0m\u001b[1;34m\"区域\"\u001b[0m\u001b[1;33m)\u001b[0m\u001b[1;33m\u001b[0m\u001b[1;33m\u001b[0m\u001b[0m\n\u001b[0m\u001b[0;32m     27\u001b[0m     fig = px.choropleth_mapbox(dff, geojson=gs_data, locations='id', color='信用利差',\n\u001b[0;32m     28\u001b[0m             \u001b[0mrange_color\u001b[0m\u001b[1;33m=\u001b[0m\u001b[1;33m(\u001b[0m\u001b[1;36m20\u001b[0m\u001b[1;33m,\u001b[0m \u001b[1;36m400\u001b[0m\u001b[1;33m)\u001b[0m\u001b[1;33m,\u001b[0m\u001b[1;33m\u001b[0m\u001b[1;33m\u001b[0m\u001b[0m\n",
      "\u001b[1;32m~\\AppData\\Local\\Programs\\Python\\Python38\\lib\\site-packages\\pandas\\core\\reshape\\merge.py\u001b[0m in \u001b[0;36mmerge\u001b[1;34m(left, right, how, on, left_on, right_on, left_index, right_index, sort, suffixes, copy, indicator, validate)\u001b[0m\n\u001b[0;32m     71\u001b[0m     \u001b[0mvalidate\u001b[0m\u001b[1;33m=\u001b[0m\u001b[1;32mNone\u001b[0m\u001b[1;33m,\u001b[0m\u001b[1;33m\u001b[0m\u001b[1;33m\u001b[0m\u001b[0m\n\u001b[0;32m     72\u001b[0m ) -> \"DataFrame\":\n\u001b[1;32m---> 73\u001b[1;33m     op = _MergeOperation(\n\u001b[0m\u001b[0;32m     74\u001b[0m         \u001b[0mleft\u001b[0m\u001b[1;33m,\u001b[0m\u001b[1;33m\u001b[0m\u001b[1;33m\u001b[0m\u001b[0m\n\u001b[0;32m     75\u001b[0m         \u001b[0mright\u001b[0m\u001b[1;33m,\u001b[0m\u001b[1;33m\u001b[0m\u001b[1;33m\u001b[0m\u001b[0m\n",
      "\u001b[1;32m~\\AppData\\Local\\Programs\\Python\\Python38\\lib\\site-packages\\pandas\\core\\reshape\\merge.py\u001b[0m in \u001b[0;36m__init__\u001b[1;34m(self, left, right, how, on, left_on, right_on, axis, left_index, right_index, sort, suffixes, copy, indicator, validate)\u001b[0m\n\u001b[0;32m    625\u001b[0m             \u001b[0mself\u001b[0m\u001b[1;33m.\u001b[0m\u001b[0mright_join_keys\u001b[0m\u001b[1;33m,\u001b[0m\u001b[1;33m\u001b[0m\u001b[1;33m\u001b[0m\u001b[0m\n\u001b[0;32m    626\u001b[0m             \u001b[0mself\u001b[0m\u001b[1;33m.\u001b[0m\u001b[0mjoin_names\u001b[0m\u001b[1;33m,\u001b[0m\u001b[1;33m\u001b[0m\u001b[1;33m\u001b[0m\u001b[0m\n\u001b[1;32m--> 627\u001b[1;33m         ) = self._get_merge_keys()\n\u001b[0m\u001b[0;32m    628\u001b[0m \u001b[1;33m\u001b[0m\u001b[0m\n\u001b[0;32m    629\u001b[0m         \u001b[1;31m# validate the merge keys dtypes. We may need to coerce\u001b[0m\u001b[1;33m\u001b[0m\u001b[1;33m\u001b[0m\u001b[1;33m\u001b[0m\u001b[0m\n",
      "\u001b[1;32m~\\AppData\\Local\\Programs\\Python\\Python38\\lib\\site-packages\\pandas\\core\\reshape\\merge.py\u001b[0m in \u001b[0;36m_get_merge_keys\u001b[1;34m(self)\u001b[0m\n\u001b[0;32m    994\u001b[0m                         \u001b[0mright_keys\u001b[0m\u001b[1;33m.\u001b[0m\u001b[0mappend\u001b[0m\u001b[1;33m(\u001b[0m\u001b[0mrk\u001b[0m\u001b[1;33m)\u001b[0m\u001b[1;33m\u001b[0m\u001b[1;33m\u001b[0m\u001b[0m\n\u001b[0;32m    995\u001b[0m                     \u001b[1;32mif\u001b[0m \u001b[0mlk\u001b[0m \u001b[1;32mis\u001b[0m \u001b[1;32mnot\u001b[0m \u001b[1;32mNone\u001b[0m\u001b[1;33m:\u001b[0m\u001b[1;33m\u001b[0m\u001b[1;33m\u001b[0m\u001b[0m\n\u001b[1;32m--> 996\u001b[1;33m                         \u001b[0mleft_keys\u001b[0m\u001b[1;33m.\u001b[0m\u001b[0mappend\u001b[0m\u001b[1;33m(\u001b[0m\u001b[0mleft\u001b[0m\u001b[1;33m.\u001b[0m\u001b[0m_get_label_or_level_values\u001b[0m\u001b[1;33m(\u001b[0m\u001b[0mlk\u001b[0m\u001b[1;33m)\u001b[0m\u001b[1;33m)\u001b[0m\u001b[1;33m\u001b[0m\u001b[1;33m\u001b[0m\u001b[0m\n\u001b[0m\u001b[0;32m    997\u001b[0m                         \u001b[0mjoin_names\u001b[0m\u001b[1;33m.\u001b[0m\u001b[0mappend\u001b[0m\u001b[1;33m(\u001b[0m\u001b[0mlk\u001b[0m\u001b[1;33m)\u001b[0m\u001b[1;33m\u001b[0m\u001b[1;33m\u001b[0m\u001b[0m\n\u001b[0;32m    998\u001b[0m                     \u001b[1;32melse\u001b[0m\u001b[1;33m:\u001b[0m\u001b[1;33m\u001b[0m\u001b[1;33m\u001b[0m\u001b[0m\n",
      "\u001b[1;32m~\\AppData\\Local\\Programs\\Python\\Python38\\lib\\site-packages\\pandas\\core\\generic.py\u001b[0m in \u001b[0;36m_get_label_or_level_values\u001b[1;34m(self, key, axis)\u001b[0m\n\u001b[0;32m   1690\u001b[0m             \u001b[0mvalues\u001b[0m \u001b[1;33m=\u001b[0m \u001b[0mself\u001b[0m\u001b[1;33m.\u001b[0m\u001b[0maxes\u001b[0m\u001b[1;33m[\u001b[0m\u001b[0maxis\u001b[0m\u001b[1;33m]\u001b[0m\u001b[1;33m.\u001b[0m\u001b[0mget_level_values\u001b[0m\u001b[1;33m(\u001b[0m\u001b[0mkey\u001b[0m\u001b[1;33m)\u001b[0m\u001b[1;33m.\u001b[0m\u001b[0m_values\u001b[0m\u001b[1;33m\u001b[0m\u001b[1;33m\u001b[0m\u001b[0m\n\u001b[0;32m   1691\u001b[0m         \u001b[1;32melse\u001b[0m\u001b[1;33m:\u001b[0m\u001b[1;33m\u001b[0m\u001b[1;33m\u001b[0m\u001b[0m\n\u001b[1;32m-> 1692\u001b[1;33m             \u001b[1;32mraise\u001b[0m \u001b[0mKeyError\u001b[0m\u001b[1;33m(\u001b[0m\u001b[0mkey\u001b[0m\u001b[1;33m)\u001b[0m\u001b[1;33m\u001b[0m\u001b[1;33m\u001b[0m\u001b[0m\n\u001b[0m\u001b[0;32m   1693\u001b[0m \u001b[1;33m\u001b[0m\u001b[0m\n\u001b[0;32m   1694\u001b[0m         \u001b[1;31m# Check for duplicates\u001b[0m\u001b[1;33m\u001b[0m\u001b[1;33m\u001b[0m\u001b[1;33m\u001b[0m\u001b[0m\n",
      "\u001b[1;31mKeyError\u001b[0m: '区域'"
     ]
    }
   ],
   "source": [
    "province_credit_premium_fig(df)"
   ]
  },
  {
   "cell_type": "code",
   "execution_count": 36,
   "metadata": {},
   "outputs": [
    {
     "output_type": "execute_result",
     "data": {
      "text/plain": "Layout({\n    'coloraxis': {'cmax': 400,\n                  'cmin': 20,\n                  'colorbar': {'title': {'text': '信用利差'}},\n                  'colorscale': [[0.0, '#0d0887'], [0.1111111111111111,\n                                 '#46039f'], [0.2222222222222222, '#7201a8'],\n                                 [0.3333333333333333, '#9c179e'],\n                                 [0.4444444444444444, '#bd3786'],\n                                 [0.5555555555555556, '#d8576b'],\n                                 [0.6666666666666666, '#ed7953'],\n                                 [0.7777777777777778, '#fb9f3a'],\n                                 [0.8888888888888888, '#fdca26'], [1.0, '#f0f921']]},\n    'geo': {'fitbounds': 'locations', 'visible': True},\n    'legend': {'tracegroupgap': 0},\n    'mapbox': {'center': {'lat': 37.4189, 'lon': 116.4219},\n               'domain': {'x': [0.0, 1.0], 'y': [0.0, 1.0]},\n               'style': 'carto-positron',\n               'zoom': 3},\n    'margin': {'b': 0, 'l': 0, 'r': 0, 't': 0},\n    'template': '...'\n})"
     },
     "metadata": {},
     "execution_count": 36
    }
   ],
   "source": [
    "province_credit_premium_fig(province_credit_premium).layout"
   ]
  },
  {
   "cell_type": "code",
   "execution_count": 22,
   "metadata": {},
   "outputs": [],
   "source": [
    "import do.data_organize as do"
   ]
  },
  {
   "cell_type": "code",
   "execution_count": 33,
   "metadata": {},
   "outputs": [
    {
     "output_type": "execute_result",
     "data": {
      "text/plain": "    id        区域\n0   65  新疆维吾尔自治区\n1   54     西藏自治区\n2   15    内蒙古自治区\n3   63       青海省\n4   51       四川省\n5   23      黑龙江省\n6   62       甘肃省\n7   53       云南省\n8   45   广西壮族自治区\n9   43       湖南省\n10  61       陕西省\n11  44       广东省\n12  22       吉林省\n13  13       河北省\n14  42       湖北省\n15  52       贵州省\n16  37       山东省\n17  36       江西省\n18  41       河南省\n19  21       辽宁省\n20  14       山西省\n21  34       安徽省\n22  35       福建省\n23  33       浙江省\n24  32       江苏省\n25  50       重庆市\n26  64   宁夏回族自治区\n27  46       海南省\n28  71       台湾省\n29  11       北京市\n30  12       天津市\n31  31       上海市\n32  81   香港特别行政区\n33  82   澳门特别行政区",
      "text/html": "<div>\n<style scoped>\n    .dataframe tbody tr th:only-of-type {\n        vertical-align: middle;\n    }\n\n    .dataframe tbody tr th {\n        vertical-align: top;\n    }\n\n    .dataframe thead th {\n        text-align: right;\n    }\n</style>\n<table border=\"1\" class=\"dataframe\">\n  <thead>\n    <tr style=\"text-align: right;\">\n      <th></th>\n      <th>id</th>\n      <th>区域</th>\n    </tr>\n  </thead>\n  <tbody>\n    <tr>\n      <th>0</th>\n      <td>65</td>\n      <td>新疆维吾尔自治区</td>\n    </tr>\n    <tr>\n      <th>1</th>\n      <td>54</td>\n      <td>西藏自治区</td>\n    </tr>\n    <tr>\n      <th>2</th>\n      <td>15</td>\n      <td>内蒙古自治区</td>\n    </tr>\n    <tr>\n      <th>3</th>\n      <td>63</td>\n      <td>青海省</td>\n    </tr>\n    <tr>\n      <th>4</th>\n      <td>51</td>\n      <td>四川省</td>\n    </tr>\n    <tr>\n      <th>5</th>\n      <td>23</td>\n      <td>黑龙江省</td>\n    </tr>\n    <tr>\n      <th>6</th>\n      <td>62</td>\n      <td>甘肃省</td>\n    </tr>\n    <tr>\n      <th>7</th>\n      <td>53</td>\n      <td>云南省</td>\n    </tr>\n    <tr>\n      <th>8</th>\n      <td>45</td>\n      <td>广西壮族自治区</td>\n    </tr>\n    <tr>\n      <th>9</th>\n      <td>43</td>\n      <td>湖南省</td>\n    </tr>\n    <tr>\n      <th>10</th>\n      <td>61</td>\n      <td>陕西省</td>\n    </tr>\n    <tr>\n      <th>11</th>\n      <td>44</td>\n      <td>广东省</td>\n    </tr>\n    <tr>\n      <th>12</th>\n      <td>22</td>\n      <td>吉林省</td>\n    </tr>\n    <tr>\n      <th>13</th>\n      <td>13</td>\n      <td>河北省</td>\n    </tr>\n    <tr>\n      <th>14</th>\n      <td>42</td>\n      <td>湖北省</td>\n    </tr>\n    <tr>\n      <th>15</th>\n      <td>52</td>\n      <td>贵州省</td>\n    </tr>\n    <tr>\n      <th>16</th>\n      <td>37</td>\n      <td>山东省</td>\n    </tr>\n    <tr>\n      <th>17</th>\n      <td>36</td>\n      <td>江西省</td>\n    </tr>\n    <tr>\n      <th>18</th>\n      <td>41</td>\n      <td>河南省</td>\n    </tr>\n    <tr>\n      <th>19</th>\n      <td>21</td>\n      <td>辽宁省</td>\n    </tr>\n    <tr>\n      <th>20</th>\n      <td>14</td>\n      <td>山西省</td>\n    </tr>\n    <tr>\n      <th>21</th>\n      <td>34</td>\n      <td>安徽省</td>\n    </tr>\n    <tr>\n      <th>22</th>\n      <td>35</td>\n      <td>福建省</td>\n    </tr>\n    <tr>\n      <th>23</th>\n      <td>33</td>\n      <td>浙江省</td>\n    </tr>\n    <tr>\n      <th>24</th>\n      <td>32</td>\n      <td>江苏省</td>\n    </tr>\n    <tr>\n      <th>25</th>\n      <td>50</td>\n      <td>重庆市</td>\n    </tr>\n    <tr>\n      <th>26</th>\n      <td>64</td>\n      <td>宁夏回族自治区</td>\n    </tr>\n    <tr>\n      <th>27</th>\n      <td>46</td>\n      <td>海南省</td>\n    </tr>\n    <tr>\n      <th>28</th>\n      <td>71</td>\n      <td>台湾省</td>\n    </tr>\n    <tr>\n      <th>29</th>\n      <td>11</td>\n      <td>北京市</td>\n    </tr>\n    <tr>\n      <th>30</th>\n      <td>12</td>\n      <td>天津市</td>\n    </tr>\n    <tr>\n      <th>31</th>\n      <td>31</td>\n      <td>上海市</td>\n    </tr>\n    <tr>\n      <th>32</th>\n      <td>81</td>\n      <td>香港特别行政区</td>\n    </tr>\n    <tr>\n      <th>33</th>\n      <td>82</td>\n      <td>澳门特别行政区</td>\n    </tr>\n  </tbody>\n</table>\n</div>"
     },
     "metadata": {},
     "execution_count": 33
    }
   ],
   "source": [
    "geo_data"
   ]
  },
  {
   "cell_type": "code",
   "execution_count": 12,
   "metadata": {},
   "outputs": [],
   "source": [
    "b=str(A)"
   ]
  },
  {
   "cell_type": "code",
   "execution_count": 13,
   "metadata": {},
   "outputs": [
    {
     "output_type": "error",
     "ename": "AttributeError",
     "evalue": "'str' object has no attribute 'read'",
     "traceback": [
      "\u001b[1;31m---------------------------------------------------------------------------\u001b[0m",
      "\u001b[1;31mAttributeError\u001b[0m                            Traceback (most recent call last)",
      "\u001b[1;32m<ipython-input-13-0aa1d4e2db51>\u001b[0m in \u001b[0;36m<module>\u001b[1;34m\u001b[0m\n\u001b[0;32m      1\u001b[0m \u001b[1;32mimport\u001b[0m \u001b[0mjson\u001b[0m\u001b[1;33m\u001b[0m\u001b[1;33m\u001b[0m\u001b[0m\n\u001b[1;32m----> 2\u001b[1;33m \u001b[0mjson\u001b[0m\u001b[1;33m.\u001b[0m\u001b[0mload\u001b[0m\u001b[1;33m(\u001b[0m\u001b[0mb\u001b[0m\u001b[1;33m)\u001b[0m\u001b[1;33m\u001b[0m\u001b[1;33m\u001b[0m\u001b[0m\n\u001b[0m",
      "\u001b[1;32m~\\AppData\\Local\\Programs\\Python\\Python38\\lib\\json\\__init__.py\u001b[0m in \u001b[0;36mload\u001b[1;34m(fp, cls, object_hook, parse_float, parse_int, parse_constant, object_pairs_hook, **kw)\u001b[0m\n\u001b[0;32m    291\u001b[0m     \u001b[0mkwarg\u001b[0m\u001b[1;33m;\u001b[0m \u001b[0motherwise\u001b[0m\u001b[0;31m \u001b[0m\u001b[0;31m`\u001b[0m\u001b[0;31m`\u001b[0m\u001b[0mJSONDecoder\u001b[0m\u001b[0;31m`\u001b[0m\u001b[0;31m`\u001b[0m \u001b[1;32mis\u001b[0m \u001b[0mused\u001b[0m\u001b[1;33m.\u001b[0m\u001b[1;33m\u001b[0m\u001b[1;33m\u001b[0m\u001b[0m\n\u001b[0;32m    292\u001b[0m     \"\"\"\n\u001b[1;32m--> 293\u001b[1;33m     return loads(fp.read(),\n\u001b[0m\u001b[0;32m    294\u001b[0m         \u001b[0mcls\u001b[0m\u001b[1;33m=\u001b[0m\u001b[0mcls\u001b[0m\u001b[1;33m,\u001b[0m \u001b[0mobject_hook\u001b[0m\u001b[1;33m=\u001b[0m\u001b[0mobject_hook\u001b[0m\u001b[1;33m,\u001b[0m\u001b[1;33m\u001b[0m\u001b[1;33m\u001b[0m\u001b[0m\n\u001b[0;32m    295\u001b[0m         \u001b[0mparse_float\u001b[0m\u001b[1;33m=\u001b[0m\u001b[0mparse_float\u001b[0m\u001b[1;33m,\u001b[0m \u001b[0mparse_int\u001b[0m\u001b[1;33m=\u001b[0m\u001b[0mparse_int\u001b[0m\u001b[1;33m,\u001b[0m\u001b[1;33m\u001b[0m\u001b[1;33m\u001b[0m\u001b[0m\n",
      "\u001b[1;31mAttributeError\u001b[0m: 'str' object has no attribute 'read'"
     ]
    }
   ],
   "source": [
    "import json\n",
    "json.load(b)"
   ]
  },
  {
   "cell_type": "code",
   "execution_count": 15,
   "metadata": {},
   "outputs": [
    {
     "output_type": "execute_result",
     "data": {
      "text/plain": "\"{'points': [{'curveNumber': 0, 'pointNumber': 14, 'pointIndex': 14, 'location': '41', 'z': 166.49, 'customdata': '河南省'}]}\""
     },
     "metadata": {},
     "execution_count": 15
    }
   ],
   "source": []
  },
  {
   "cell_type": "code",
   "execution_count": 19,
   "metadata": {},
   "outputs": [],
   "source": [
    "a={\"points\": [{\"curveNumber\": 0, \"pointNumber\": 8, \"pointIndex\": 8, \"location\": \"44\", \"z\": 71.54, \"customdata\": \"广东省\"}]}"
   ]
  },
  {
   "cell_type": "code",
   "execution_count": 20,
   "metadata": {},
   "outputs": [],
   "source": [
    "b=str(a)"
   ]
  },
  {
   "cell_type": "code",
   "execution_count": 25,
   "metadata": {},
   "outputs": [
    {
     "output_type": "execute_result",
     "data": {
      "text/plain": "\"{'points': [{'curveNumber': 0, 'pointNumber': 8, 'pointIndex': 8, 'location': '44', 'z': 71.54, 'customdata': '广东省'}]}\""
     },
     "metadata": {},
     "execution_count": 25
    }
   ],
   "source": [
    "b"
   ]
  },
  {
   "cell_type": "code",
   "execution_count": 45,
   "metadata": {},
   "outputs": [],
   "source": [
    "a= \"{'curveNumber': 0, 'pointNumber': 8, 'pointIndex': 8, 'location': '44', 'z': 71.54, 'customdata': '广东省'}\""
   ]
  },
  {
   "cell_type": "code",
   "execution_count": 43,
   "metadata": {},
   "outputs": [],
   "source": [
    " import demjson\n"
   ]
  },
  {
   "cell_type": "code",
   "execution_count": 48,
   "metadata": {},
   "outputs": [],
   "source": [
    " v = demjson.decode(a)"
   ]
  },
  {
   "cell_type": "code",
   "execution_count": 50,
   "metadata": {},
   "outputs": [],
   "source": [
    "a=\"{'points': [{'curveNumber': 0, 'pointNumber': 8, 'pointIndex': 8, 'location': '44', 'z': 71.54, 'customdata': '广东省'}]}\""
   ]
  },
  {
   "cell_type": "code",
   "execution_count": 51,
   "metadata": {},
   "outputs": [],
   "source": [
    "v = demjson.decode(a)"
   ]
  },
  {
   "cell_type": "code",
   "execution_count": 55,
   "metadata": {},
   "outputs": [
    {
     "output_type": "execute_result",
     "data": {
      "text/plain": "[{'curveNumber': 0,\n  'pointNumber': 8,\n  'pointIndex': 8,\n  'location': '44',\n  'z': 71.54,\n  'customdata': '广东省'}]"
     },
     "metadata": {},
     "execution_count": 55
    }
   ],
   "source": [
    "v[\"points\"][0][]"
   ]
  },
  {
   "cell_type": "code",
   "execution_count": null,
   "metadata": {},
   "outputs": [],
   "source": []
  }
 ],
 "metadata": {
  "kernelspec": {
   "display_name": "Python 3",
   "language": "python",
   "name": "python3"
  },
  "language_info": {
   "codemirror_mode": {
    "name": "ipython",
    "version": 3
   },
   "file_extension": ".py",
   "mimetype": "text/x-python",
   "name": "python",
   "nbconvert_exporter": "python",
   "pygments_lexer": "ipython3",
   "version": "3.8.5-final"
  }
 },
 "nbformat": 4,
 "nbformat_minor": 4
}