{
 "metadata": {
  "language_info": {
   "codemirror_mode": {
    "name": "ipython",
    "version": 3
   },
   "file_extension": ".py",
   "mimetype": "text/x-python",
   "name": "python",
   "nbconvert_exporter": "python",
   "pygments_lexer": "ipython3",
   "version": "3.8.5-final"
  },
  "orig_nbformat": 2,
  "kernelspec": {
   "name": "python38364bit5302da5f568b4083ba445fe65021f7cc",
   "display_name": "Python 3.8.3 64-bit"
  }
 },
 "nbformat": 4,
 "nbformat_minor": 2,
 "cells": [
  {
   "cell_type": "code",
   "execution_count": 1,
   "metadata": {},
   "outputs": [],
   "source": [
    "import data_organize"
   ]
  },
  {
   "cell_type": "code",
   "execution_count": 3,
   "metadata": {},
   "outputs": [
    {
     "output_type": "execute_result",
     "data": {
      "text/plain": "(('AAA_CD_prc',),\n ('GK_prc',),\n ('Net_buy_bond',),\n ('Repo_amt_prc_for_collateral',),\n ('Repo_amt_prc_for_terms',),\n ('Repo_price_for_investors',),\n ('amt_fund_type',),\n ('bank_financial_products_ytm',),\n ('bond_financing',),\n ('consumption',),\n ('cpi_food',),\n ('currency',),\n ('economic_climate',),\n ('economy_growth',),\n ('fixed_asset_investment',),\n ('high_frequency_for_prediction',),\n ('housing',),\n ('industry_finance',),\n ('industry_value',),\n ('industry_volumn',),\n ('interest_rate_day',),\n ('interest_rate_month',),\n ('international_bs',),\n ('ir_bond1',),\n ('liquidity_prc_of_money_mkt',),\n ('margin_newfund_amt',),\n ('margin_newfund_scale',),\n ('name',),\n ('net_assets_fund_type',),\n ('price_index',),\n ('resoure_table',),\n ('scale_fund_type',),\n ('unemployment',))"
     },
     "metadata": {},
     "execution_count": 3
    }
   ],
   "source": [
    "data_organize.get_all_table_name()"
   ]
  },
  {
   "cell_type": "code",
   "execution_count": null,
   "metadata": {},
   "outputs": [],
   "source": []
  }
 ]
}