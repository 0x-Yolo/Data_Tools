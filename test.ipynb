{
 "metadata": {
  "language_info": {
   "codemirror_mode": {
    "name": "ipython",
    "version": 3
   },
   "file_extension": ".py",
   "mimetype": "text/x-python",
   "name": "python",
   "nbconvert_exporter": "python",
   "pygments_lexer": "ipython3",
   "version": "3.8.5-final"
  },
  "orig_nbformat": 2,
  "kernelspec": {
   "name": "python38364bit5302da5f568b4083ba445fe65021f7cc",
   "display_name": "Python 3.8.3 64-bit"
  }
 },
 "nbformat": 4,
 "nbformat_minor": 2,
 "cells": [
  {
   "cell_type": "code",
   "execution_count": 9,
   "metadata": {},
   "outputs": [],
   "source": [
    "import data_organize as do\n",
    "import pandas as pd"
   ]
  },
  {
   "cell_type": "code",
   "execution_count": 3,
   "metadata": {},
   "outputs": [
    {
     "output_type": "execute_result",
     "data": {
      "text/plain": "(('AAA_CD_prc',),\n ('GK_prc',),\n ('Net_buy_bond',),\n ('Repo_amt_prc_for_collateral',),\n ('Repo_amt_prc_for_terms',),\n ('Repo_price_for_investors',),\n ('amt_fund_type',),\n ('bank_financial_products_ytm',),\n ('bond_financing',),\n ('consumption',),\n ('cpi_food',),\n ('currency',),\n ('economic_climate',),\n ('economy_growth',),\n ('fixed_asset_investment',),\n ('high_frequency_for_prediction',),\n ('housing',),\n ('industry_finance',),\n ('industry_value',),\n ('industry_volumn',),\n ('interest_rate_day',),\n ('interest_rate_month',),\n ('international_bs',),\n ('ir_bond1',),\n ('liquidity_prc_of_money_mkt',),\n ('margin_newfund_amt',),\n ('margin_newfund_scale',),\n ('name',),\n ('net_assets_fund_type',),\n ('price_index',),\n ('resoure_table',),\n ('scale_fund_type',),\n ('unemployment',))"
     },
     "metadata": {},
     "execution_count": 3
    }
   ],
   "source": [
    "do.get_all_table_name()"
   ]
  },
  {
   "cell_type": "code",
   "execution_count": 7,
   "metadata": {},
   "outputs": [
    {
     "output_type": "execute_result",
     "data": {
      "text/plain": "    股票型基金  债券型基金  混合型基金  货币市场型基金  另类投资基金  QDII基金      date\n0    11.0   47.0   19.0      0.0     0.0     4.0  2019年01月\n1    10.0   29.0   30.0      0.0     0.0     0.0  2019年02月\n2     9.0   24.0   24.0      0.0     0.0     0.0  2019年03月\n3    16.0   37.0   41.0      0.0     0.0     0.0  2019年04月\n4    15.0   45.0   30.0      0.0     0.0     6.0  2019年05月\n5    12.0   38.0   24.0      0.0     0.0     1.0  2019年06月\n6    21.0   46.0   11.0      0.0     0.0     2.0  2019年07月\n7    20.0   51.0   29.0      6.0     0.0     0.0  2019年08月\n8    21.0   41.0   20.0      0.0     3.0     1.0  2019年09月\n9    23.0   53.0   13.0      0.0     0.0     1.0  2019年10月\n10   25.0   39.0   23.0      0.0     1.0     1.0  2019年11月\n11   22.0   68.0   41.0      0.0     1.0     1.0  2019年12月\n12   16.0   27.0   20.0      0.0     1.0     3.0  2020年01月\n13   20.0   26.0   47.0      0.0     3.0     0.0  2020年02月\n14   52.0   43.0   62.0      0.0     3.0     4.0  2020年03月\n15   16.0   46.0   45.0      0.0     4.0     2.0  2020年04月\n16   12.0   54.0   51.0      0.0     1.0     1.0  2020年05月\n17    5.0   16.0   33.0      0.0     0.0     0.0  2020年06月",
      "text/html": "<div>\n<style scoped>\n    .dataframe tbody tr th:only-of-type {\n        vertical-align: middle;\n    }\n\n    .dataframe tbody tr th {\n        vertical-align: top;\n    }\n\n    .dataframe thead th {\n        text-align: right;\n    }\n</style>\n<table border=\"1\" class=\"dataframe\">\n  <thead>\n    <tr style=\"text-align: right;\">\n      <th></th>\n      <th>股票型基金</th>\n      <th>债券型基金</th>\n      <th>混合型基金</th>\n      <th>货币市场型基金</th>\n      <th>另类投资基金</th>\n      <th>QDII基金</th>\n      <th>date</th>\n    </tr>\n  </thead>\n  <tbody>\n    <tr>\n      <th>0</th>\n      <td>11.0</td>\n      <td>47.0</td>\n      <td>19.0</td>\n      <td>0.0</td>\n      <td>0.0</td>\n      <td>4.0</td>\n      <td>2019年01月</td>\n    </tr>\n    <tr>\n      <th>1</th>\n      <td>10.0</td>\n      <td>29.0</td>\n      <td>30.0</td>\n      <td>0.0</td>\n      <td>0.0</td>\n      <td>0.0</td>\n      <td>2019年02月</td>\n    </tr>\n    <tr>\n      <th>2</th>\n      <td>9.0</td>\n      <td>24.0</td>\n      <td>24.0</td>\n      <td>0.0</td>\n      <td>0.0</td>\n      <td>0.0</td>\n      <td>2019年03月</td>\n    </tr>\n    <tr>\n      <th>3</th>\n      <td>16.0</td>\n      <td>37.0</td>\n      <td>41.0</td>\n      <td>0.0</td>\n      <td>0.0</td>\n      <td>0.0</td>\n      <td>2019年04月</td>\n    </tr>\n    <tr>\n      <th>4</th>\n      <td>15.0</td>\n      <td>45.0</td>\n      <td>30.0</td>\n      <td>0.0</td>\n      <td>0.0</td>\n      <td>6.0</td>\n      <td>2019年05月</td>\n    </tr>\n    <tr>\n      <th>5</th>\n      <td>12.0</td>\n      <td>38.0</td>\n      <td>24.0</td>\n      <td>0.0</td>\n      <td>0.0</td>\n      <td>1.0</td>\n      <td>2019年06月</td>\n    </tr>\n    <tr>\n      <th>6</th>\n      <td>21.0</td>\n      <td>46.0</td>\n      <td>11.0</td>\n      <td>0.0</td>\n      <td>0.0</td>\n      <td>2.0</td>\n      <td>2019年07月</td>\n    </tr>\n    <tr>\n      <th>7</th>\n      <td>20.0</td>\n      <td>51.0</td>\n      <td>29.0</td>\n      <td>6.0</td>\n      <td>0.0</td>\n      <td>0.0</td>\n      <td>2019年08月</td>\n    </tr>\n    <tr>\n      <th>8</th>\n      <td>21.0</td>\n      <td>41.0</td>\n      <td>20.0</td>\n      <td>0.0</td>\n      <td>3.0</td>\n      <td>1.0</td>\n      <td>2019年09月</td>\n    </tr>\n    <tr>\n      <th>9</th>\n      <td>23.0</td>\n      <td>53.0</td>\n      <td>13.0</td>\n      <td>0.0</td>\n      <td>0.0</td>\n      <td>1.0</td>\n      <td>2019年10月</td>\n    </tr>\n    <tr>\n      <th>10</th>\n      <td>25.0</td>\n      <td>39.0</td>\n      <td>23.0</td>\n      <td>0.0</td>\n      <td>1.0</td>\n      <td>1.0</td>\n      <td>2019年11月</td>\n    </tr>\n    <tr>\n      <th>11</th>\n      <td>22.0</td>\n      <td>68.0</td>\n      <td>41.0</td>\n      <td>0.0</td>\n      <td>1.0</td>\n      <td>1.0</td>\n      <td>2019年12月</td>\n    </tr>\n    <tr>\n      <th>12</th>\n      <td>16.0</td>\n      <td>27.0</td>\n      <td>20.0</td>\n      <td>0.0</td>\n      <td>1.0</td>\n      <td>3.0</td>\n      <td>2020年01月</td>\n    </tr>\n    <tr>\n      <th>13</th>\n      <td>20.0</td>\n      <td>26.0</td>\n      <td>47.0</td>\n      <td>0.0</td>\n      <td>3.0</td>\n      <td>0.0</td>\n      <td>2020年02月</td>\n    </tr>\n    <tr>\n      <th>14</th>\n      <td>52.0</td>\n      <td>43.0</td>\n      <td>62.0</td>\n      <td>0.0</td>\n      <td>3.0</td>\n      <td>4.0</td>\n      <td>2020年03月</td>\n    </tr>\n    <tr>\n      <th>15</th>\n      <td>16.0</td>\n      <td>46.0</td>\n      <td>45.0</td>\n      <td>0.0</td>\n      <td>4.0</td>\n      <td>2.0</td>\n      <td>2020年04月</td>\n    </tr>\n    <tr>\n      <th>16</th>\n      <td>12.0</td>\n      <td>54.0</td>\n      <td>51.0</td>\n      <td>0.0</td>\n      <td>1.0</td>\n      <td>1.0</td>\n      <td>2020年05月</td>\n    </tr>\n    <tr>\n      <th>17</th>\n      <td>5.0</td>\n      <td>16.0</td>\n      <td>33.0</td>\n      <td>0.0</td>\n      <td>0.0</td>\n      <td>0.0</td>\n      <td>2020年06月</td>\n    </tr>\n  </tbody>\n</table>\n</div>"
     },
     "metadata": {},
     "execution_count": 7
    }
   ],
   "source": [
    "do.get_data(\"margin_newfund_amt\")"
   ]
  },
  {
   "cell_type": "code",
   "execution_count": 12,
   "metadata": {},
   "outputs": [
    {
     "output_type": "execute_result",
     "data": {
      "text/plain": "         代码                 名称   类型 频率      table_name\n0  M0039354       GDP:不变价:当季同比  EDB  季  economy_growth\n1  M5567901  GDP:不变价:第一产业:当季同比  EDB  季  economy_growth\n2  M5567902  GDP:不变价:第二产业:当季同比  EDB  季  economy_growth\n3  M5567903  GDP:不变价:第三产业:当季同比  EDB  季  economy_growth",
      "text/html": "<div>\n<style scoped>\n    .dataframe tbody tr th:only-of-type {\n        vertical-align: middle;\n    }\n\n    .dataframe tbody tr th {\n        vertical-align: top;\n    }\n\n    .dataframe thead th {\n        text-align: right;\n    }\n</style>\n<table border=\"1\" class=\"dataframe\">\n  <thead>\n    <tr style=\"text-align: right;\">\n      <th></th>\n      <th>代码</th>\n      <th>名称</th>\n      <th>类型</th>\n      <th>频率</th>\n      <th>table_name</th>\n    </tr>\n  </thead>\n  <tbody>\n    <tr>\n      <th>0</th>\n      <td>M0039354</td>\n      <td>GDP:不变价:当季同比</td>\n      <td>EDB</td>\n      <td>季</td>\n      <td>economy_growth</td>\n    </tr>\n    <tr>\n      <th>1</th>\n      <td>M5567901</td>\n      <td>GDP:不变价:第一产业:当季同比</td>\n      <td>EDB</td>\n      <td>季</td>\n      <td>economy_growth</td>\n    </tr>\n    <tr>\n      <th>2</th>\n      <td>M5567902</td>\n      <td>GDP:不变价:第二产业:当季同比</td>\n      <td>EDB</td>\n      <td>季</td>\n      <td>economy_growth</td>\n    </tr>\n    <tr>\n      <th>3</th>\n      <td>M5567903</td>\n      <td>GDP:不变价:第三产业:当季同比</td>\n      <td>EDB</td>\n      <td>季</td>\n      <td>economy_growth</td>\n    </tr>\n  </tbody>\n</table>\n</div>"
     },
     "metadata": {},
     "execution_count": 12
    }
   ],
   "source": []
  },
  {
   "cell_type": "code",
   "execution_count": null,
   "metadata": {},
   "outputs": [],
   "source": []
  }
 ]
}