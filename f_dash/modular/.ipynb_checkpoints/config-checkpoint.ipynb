{
 "cells": [
  {
   "cell_type": "code",
   "execution_count": 1,
   "metadata": {},
   "outputs": [],
   "source": [
    "\n",
    "import datetime as dt\n",
    "import pandas as pd\n",
    "import  pymysql"
   ]
  },
  {
   "cell_type": "code",
   "execution_count": 20,
   "metadata": {},
   "outputs": [],
   "source": [
    "class Inter_Graph: \n",
    "    \n",
    "    #定义基本属性 \n",
    "    conn = pymysql.connect(\n",
    "        host = '47.116.3.109',\t\n",
    "        user = 'user1',\t\n",
    "        passwd = '123456',\t\n",
    "        db = 'finance',\t\n",
    "        port=3306,\t\n",
    "        charset = 'utf8'\t\n",
    "    )\n",
    "    df = pd.read_sql('select * from Net_buy_bond',conn)\n",
    "    bond_type_OL = df.columns[3:-1].tolist()\n",
    "    bond_duration_OL = df[\"期限\"].unique().tolist()\n",
    "    bond_buyer_OL = df[\"机构名称\"].unique().tolist()\n",
    "    \n",
    "    dff = pd.read_sql('select * from Repo_amt_prc_for_terms',conn)\n",
    "    repo_terms_OL = dff[\"期限品种\"].unique().tolist()\n",
    "    repo_loaner_OL = dff[\"机构类型\"].unique().tolist()"
   ]
  },
  {
   "cell_type": "code",
   "execution_count": null,
   "metadata": {},
   "outputs": [],
   "source": []
  }
 ],
 "metadata": {
  "hide_input": false,
  "kernelspec": {
   "display_name": "Python 3.8.3 64-bit",
   "language": "python",
   "name": "python38364bit76fc72a01f564d21a880115544760878"
  },
  "language_info": {
   "codemirror_mode": {
    "name": "ipython",
    "version": 3
   },
   "file_extension": ".py",
   "mimetype": "text/x-python",
   "name": "python",
   "nbconvert_exporter": "python",
   "pygments_lexer": "ipython3",
   "version": "3.8.3"
  },
  "toc": {
   "base_numbering": 1,
   "nav_menu": {},
   "number_sections": true,
   "sideBar": true,
   "skip_h1_title": false,
   "title_cell": "Table of Contents",
   "title_sidebar": "Contents",
   "toc_cell": false,
   "toc_position": {},
   "toc_section_display": true,
   "toc_window_display": false
  }
 },
 "nbformat": 4,
 "nbformat_minor": 4
}
