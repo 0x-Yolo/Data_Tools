{
 "cells": [
  {
   "cell_type": "markdown",
   "metadata": {},
   "source": [
    "### 导入所需库"
   ]
  },
  {
   "cell_type": "code",
   "execution_count": 1,
   "metadata": {},
   "outputs": [],
   "source": [
    "from IPython.core.interactiveshell import InteractiveShell\n",
    "InteractiveShell.ast_node_interactivity = \"all\"\n",
    "import abc\n",
    "import xlrd\n",
    "from xlrd import xldate_as_tuple\n",
    "import os\n",
    "import pandas as pd\n",
    "import numpy as np\n",
    "from datetime import datetime\n",
    "import statsmodels.api as sm\n",
    "import statsmodels.formula.api as smf\n",
    "from itertools import product\n",
    "from statsmodels.tsa.arima_model import ARMA,ARIMA\n",
    "import warnings\n",
    "warnings.filterwarnings('ignore')"
   ]
  },
  {
   "cell_type": "markdown",
   "metadata": {},
   "source": [
    "### 自定义函数"
   ]
  },
  {
   "cell_type": "code",
   "execution_count": 2,
   "metadata": {},
   "outputs": [],
   "source": [
    "def read_from_excel(wb,sheet_name):\n",
    "    sheet = wb.sheet_by_name(sheet_name)# 获取名为sheet\n",
    "    dat = []  # 创建空list记录每行数据\n",
    "    for row in range(sheet.nrows):  # 循环读取表格内容（每次读取一行数据）\n",
    "        cells = sheet.row_values(row)  # 每行数据赋值给cells\n",
    "        for col in range(sheet.ncols):\n",
    "            value = sheet.cell(row, col).value\n",
    "            if sheet.cell(row, col).ctype == 3: # ctype=3表示日期格式\n",
    "                date = xldate_as_tuple(sheet.cell(row, col).value, 0)\n",
    "                value = datetime(*date).strftime('%Y-%m-%d') # 将日期格式标准化\n",
    "            cells[col] = value\n",
    "        dat.append(cells) #把每次循环读取的数据插入到list\n",
    "    df = pd.DataFrame(dat[1:],columns = dat[0])\n",
    "    return df"
   ]
  },
  {
   "cell_type": "code",
   "execution_count": 3,
   "metadata": {},
   "outputs": [],
   "source": [
    "def mom_to_yoy(df): \n",
    "    \n",
    "    # 将环比数据转换为同比数据\n",
    "    \n",
    "    df['同比'] = 0\n",
    "    df = df.reset_index(drop = True)\n",
    "    for i in range(11,df.shape[0]):\n",
    "        df.iloc[i,1] = (df.iloc[(i-11):(i+1),0]+100).prod()/100**11-100\n",
    " \n",
    "    return df"
   ]
  },
  {
   "cell_type": "code",
   "execution_count": 4,
   "metadata": {},
   "outputs": [],
   "source": [
    "def choose_best_ARMA(df):\n",
    "    ps = range(0, 4)\n",
    "    qs = range(0, 4)\n",
    "    parameters = product(ps, qs)\n",
    "    parameters_list = list(parameters)\n",
    "    best_aic = float('inf')\n",
    "    results = []\n",
    "    for param in parameters_list:\n",
    "        try:\n",
    "            model = ARMA(df, order=(param[0], param[1])).fit()\n",
    "        except ValueError:\n",
    "            continue\n",
    "        aic = model.aic\n",
    "        if aic < best_aic:\n",
    "            best_model = model\n",
    "            best_aic = model.aic\n",
    "            best_param = param\n",
    "        results.append([param, model.aic])\n",
    "    results_table = pd.DataFrame(results)\n",
    "    results_table.columns = ['parameters', 'aic']\n",
    "    return best_model"
   ]
  },
  {
   "cell_type": "markdown",
   "metadata": {},
   "source": [
    "### 新建抽象类"
   ]
  },
  {
   "cell_type": "code",
   "execution_count": 5,
   "metadata": {},
   "outputs": [],
   "source": [
    "class model(object,metaclass = abc.ABCMeta): # 抽象基类\n",
    "    \n",
    "    @abc.abstractmethod    \n",
    "    def PPI_by_Industry(self,industry_names,verbose = 0):\n",
    "        # 分别预测重要行业的PPI，再将其拟合成最终的PPI\n",
    "        pass\n",
    "    \n",
    "    @abc.abstractmethod    \n",
    "    def PPI_by_PMI(self,verbose = 0):\n",
    "        # 通过PMI:主要原材料购进价格来预测PPI环比\n",
    "        pass\n",
    "    \n"
   ]
  },
  {
   "cell_type": "markdown",
   "metadata": {},
   "source": [
    "### 新建继承类"
   ]
  },
  {
   "cell_type": "code",
   "execution_count": 15,
   "metadata": {},
   "outputs": [],
   "source": [
    "\n",
    "class PPI_model(model):\n",
    "    \n",
    "    def __init__(self,workbook,date):\n",
    "        self.workbook = workbook\n",
    "        self.date = date\n",
    "   \n",
    "    def PPI_by_Industry(self,industry_names,verbose = 0):\n",
    "        date2 = datetime.strptime(self.date,'%Y-%m-%d')                                    # 预测时间格式标准化\n",
    "        nmonths = 1                                                                        # 预测的总月份数 \n",
    "        PPI_by_industry_pre = np.zeros(shape=(nmonths,len(industry_names)))                # 新建数组来记录预测值\n",
    "    \n",
    "        ######## 对行业分别进行预测 ########\n",
    "    \n",
    "        for i,name in enumerate(industry_names):\n",
    "            df = read_from_excel(self.workbook,name)                                        # 通过名称获取\n",
    "            df_train = df[df.date < self.date]                                              # 用date以前的数据建模\n",
    "            df_test = df[df.date == self.date]                                              # 预测date\n",
    "            y = np.asarray(df_train.y,'float32')\n",
    "            x = df_train.drop(['date','y'],axis = 1)\n",
    "            x2 = sm.add_constant(x)                                                         # 添加常数1\n",
    "            est = sm.OLS(y, x2).fit()                                                       # 建模  \n",
    "            x_test = sm.add_constant(np.asarray(df_test.drop(['date','y'],axis = 1)),\n",
    "                                     has_constant='add')                                    # 添加常数1\n",
    "            PPI_by_industry_pre[:,i] = est.predict(x_test)                                  # 逐列添加每个行业的预测值       \n",
    "\n",
    "            if verbose == 1:                                                                # 如果 verbose=1，输出模型细节\n",
    "                print(name,\n",
    "                  \"的修正R方为\",\n",
    "                  '{:.2%}'.format(est.rsquared_adj))                                        # 输出修正R方\n",
    "                summary = pd.DataFrame({\n",
    "                                    '系数':est.params[1:],\n",
    "                                    'p值':est.pvalues[1:]})                                  # 新建df记录系数和p值\n",
    "                print(summary)                                                               # 输出系数和p值\n",
    "        \n",
    "    \n",
    "        ######## 计算各行业的系数并拟合总体PPI ########\n",
    "    \n",
    "        df = read_from_excel(self.workbook,\"计算系数\")\n",
    "        df.index = pd.DatetimeIndex(df.date)\n",
    "        df = df.drop('date',axis = 1)\n",
    "        df = df.apply(pd.to_numeric,axis = 1)\n",
    "        x = np.zeros(shape = (df[df.index<date2].shape[0],len(industry_names)))\n",
    "        for i,name in enumerate(industry_names):                                             # 按照顺序添加各行业PPI作为自变量\n",
    "            x[:,i] = df[df.index<date2][name]\n",
    "        x2 = np.asarray(sm.add_constant(x))                                                  # 添加常数1\n",
    "        y = np.asarray(df[df.index<date2]['PPI环比'])\n",
    "        est_coef = sm.OLS(y, x2).fit()                                                       # 建模  \n",
    "        summary = pd.DataFrame({'系数':est_coef.params,\n",
    "                                    'p值':est_coef.pvalues})                                  # 新建df记录各行业系数和p值\n",
    "        print(\"即将输出各行业系数...\")\n",
    "        print(summary)                                                                        # 输出各行业系数和p值\n",
    "        x_test_final = sm.add_constant(PPI_by_industry_pre,has_constant='add')\n",
    "        PPI_mom_pre = est_coef.predict(x_test_final)\n",
    "        PPI_mom = pd.DataFrame(np.hstack((y,PPI_mom_pre)),columns=['PPI环比'],\n",
    "                               index = range(y.shape[0]+1))                                   # 最终PPI环比预测\n",
    "    \n",
    "        ######## 环比数据转为同比数据 ########  \n",
    "        \n",
    "        PPI_yoy = mom_to_yoy(PPI_mom)\n",
    "        PPI_yoy.index = pd.date_range(start = df.index[0],periods = y.shape[0]+1,freq = 'M')\n",
    "    \n",
    "        return PPI_yoy                                                                        # 返回所有PPI环比和同比\n",
    "    \n",
    "    def PPI_by_PMI(self,verbose = 0):\n",
    "        \n",
    "        ######## 通过测试集上MSE最小来选择最优的建模开始时间 ########\n",
    "        \n",
    "        df = read_from_excel(self.workbook,\"PMI数据\")\n",
    "        date2 = datetime.strptime(self.date,'%Y-%m-%d')                         # 预测时间格式标准化\n",
    "        tp = pd.DatetimeIndex(df.date)\n",
    "        df.index = tp\n",
    "        df = df.drop('date',axis = 1)\n",
    "        df = df.apply(pd.to_numeric,axis = 1)\n",
    "        df_train = df[df.index < '2018-05-31']                                  # 设定2019年5月以前的数据作训练集\n",
    "        df_test = df[df.index >= '2018-05-31']                                  # 设定2019年5月以后的数据作测试集   \n",
    "        train_latest_start = '2015-05-01'                                       # 设定训练集的开始时间不能晚于2016年5月\n",
    "        train_start_tp = tp[tp < train_latest_start]                            # 训练集开始时间集合         \n",
    "        mse = 0                                                                 # 首先设定MSE=0\n",
    "        for i in train_start_tp:                                                # 遍历训练集开始时间集合中的每一天\n",
    "            train_set = df_train[df_train.index >= i]\n",
    "            test_set = df_test\n",
    "            model = smf.ols('y~PMI',train_set).fit()                          \n",
    "            y_pred = model.predict(test_set.PMI)                                \n",
    "            if mse == 0:\n",
    "                mse = ((y_pred - test_set.y)**2).mean()\n",
    "            elif (((y_pred - test_set.y)**2).mean() < mse ):\n",
    "                mse = ((y_pred - test_set.y)**2).mean()\n",
    "                start = i                                                       # 记录更优的建模开始时间\n",
    "                linear_model_best = model                                       # 记录更优的回归模型\n",
    "        print(\"从\",start,\"开始建模...\")\n",
    "        \n",
    "        ######## 建立回归模型 ########\n",
    "        \n",
    "        df_final = df[(df.index >= start)&(df.index < date2)]\n",
    "        reg_model = smf.ols('y~PMI',df_final).fit()                             # 建模    \n",
    "        y_reg_pre = reg_model.params[0]+reg_model.params[1]*df.loc[self.date,'PMI']\n",
    "        \n",
    "        \n",
    "        ######## 对回归残差拟合ARMA模型 ########\n",
    "        \n",
    "        df_res = pd.DataFrame(reg_model.resid)\n",
    "        df_res.index = pd.DatetimeIndex(reg_model.resid.index,freq = 'MS')\n",
    "        best_ARMA = choose_best_ARMA(df_res)\n",
    "        res_pre = best_ARMA.forecast(steps = 1)[0]\n",
    "        PPI_mom_pre = y_reg_pre+res_pre\n",
    "        if verbose == 1:\n",
    "            print('回归模型：')\n",
    "            print(reg_model.summary())\n",
    "            print('ARMA模型：')\n",
    "            print(best_ARMA.summary())\n",
    "        y = np.asarray(df[df.index<self.date]['y'])\n",
    "        PPI_mom = pd.DataFrame(np.hstack((y,PPI_mom_pre)),columns=['PPI环比'],\n",
    "                               index = range(y.shape[0]+1))                    # 最终PPI环比预测\n",
    "        \n",
    "        ######## 环比数据转为同比数据 ########  \n",
    "        \n",
    "        PPI_yoy = mom_to_yoy(PPI_mom)\n",
    "        PPI_yoy.index = pd.date_range(start = df.index[0],periods = y.shape[0]+1,freq = 'M')\n",
    "    \n",
    "        return PPI_yoy\n",
    "    \n",
    "    \n",
    "    \n",
    "\n",
    "    "
   ]
  },
  {
   "cell_type": "markdown",
   "metadata": {},
   "source": [
    "### 读取数据以及参数设定"
   ]
  },
  {
   "cell_type": "code",
   "execution_count": 28,
   "metadata": {},
   "outputs": [],
   "source": [
    "wb = xlrd.open_workbook(os.path.join(os.getcwd(), 'PPI预测模型数据.xlsx'))# 打开Excel文件\n",
    "industry_names = ['煤炭',\n",
    "                  '石油和天然气开采业',\n",
    "                  '石油加工炼焦',\n",
    "                  '有色冶炼',\n",
    "                  '化学原料及化学品',\n",
    "                  '化学纤维',\n",
    "                  '黑色金属矿采',\n",
    "                  '黑色加工',\n",
    "                  '农副',\n",
    "                  '非金属矿物制品业']\n",
    "date = '2020-08-01'"
   ]
  },
  {
   "cell_type": "code",
   "execution_count": 29,
   "metadata": {},
   "outputs": [
    {
     "name": "stdout",
     "output_type": "stream",
     "text": [
      "即将输出各行业系数...\n",
      "          系数            p值\n",
      "0  -0.013386  9.388675e-02\n",
      "1   0.024183  8.663499e-07\n",
      "2   0.001616  2.390075e-01\n",
      "3   0.046252  1.660093e-13\n",
      "4   0.039837  3.869337e-07\n",
      "5   0.117626  6.833693e-09\n",
      "6   0.016348  6.364178e-02\n",
      "7   0.013009  9.466673e-03\n",
      "8   0.071462  6.459088e-21\n",
      "9   0.052513  1.848035e-03\n",
      "10  0.109636  1.292498e-11\n"
     ]
    },
    {
     "data": {
      "text/html": [
       "<div>\n",
       "<style scoped>\n",
       "    .dataframe tbody tr th:only-of-type {\n",
       "        vertical-align: middle;\n",
       "    }\n",
       "\n",
       "    .dataframe tbody tr th {\n",
       "        vertical-align: top;\n",
       "    }\n",
       "\n",
       "    .dataframe thead th {\n",
       "        text-align: right;\n",
       "    }\n",
       "</style>\n",
       "<table border=\"1\" class=\"dataframe\">\n",
       "  <thead>\n",
       "    <tr style=\"text-align: right;\">\n",
       "      <th></th>\n",
       "      <th>PPI环比</th>\n",
       "      <th>同比</th>\n",
       "    </tr>\n",
       "  </thead>\n",
       "  <tbody>\n",
       "    <tr>\n",
       "      <th>2020-04-30</th>\n",
       "      <td>-1.300000</td>\n",
       "      <td>-3.067820</td>\n",
       "    </tr>\n",
       "    <tr>\n",
       "      <th>2020-05-31</th>\n",
       "      <td>-0.400000</td>\n",
       "      <td>-3.648252</td>\n",
       "    </tr>\n",
       "    <tr>\n",
       "      <th>2020-06-30</th>\n",
       "      <td>0.400000</td>\n",
       "      <td>-2.971760</td>\n",
       "    </tr>\n",
       "    <tr>\n",
       "      <th>2020-07-31</th>\n",
       "      <td>0.400000</td>\n",
       "      <td>-2.388424</td>\n",
       "    </tr>\n",
       "    <tr>\n",
       "      <th>2020-08-31</th>\n",
       "      <td>0.292895</td>\n",
       "      <td>-2.004529</td>\n",
       "    </tr>\n",
       "  </tbody>\n",
       "</table>\n",
       "</div>"
      ],
      "text/plain": [
       "               PPI环比        同比\n",
       "2020-04-30 -1.300000 -3.067820\n",
       "2020-05-31 -0.400000 -3.648252\n",
       "2020-06-30  0.400000 -2.971760\n",
       "2020-07-31  0.400000 -2.388424\n",
       "2020-08-31  0.292895 -2.004529"
      ]
     },
     "execution_count": 29,
     "metadata": {},
     "output_type": "execute_result"
    }
   ],
   "source": [
    "PPI_predict = PPI_model(wb,date)\n",
    "# 用分行业法预测2020年6月PPI\n",
    "PPI_pre1 = PPI_predict.PPI_by_Industry(industry_names)\n",
    "PPI_pre1.tail(5)"
   ]
  },
  {
   "cell_type": "code",
   "execution_count": 30,
   "metadata": {},
   "outputs": [
    {
     "name": "stdout",
     "output_type": "stream",
     "text": [
      "从 2008-07-01 00:00:00 开始建模...\n"
     ]
    },
    {
     "data": {
      "text/html": [
       "<div>\n",
       "<style scoped>\n",
       "    .dataframe tbody tr th:only-of-type {\n",
       "        vertical-align: middle;\n",
       "    }\n",
       "\n",
       "    .dataframe tbody tr th {\n",
       "        vertical-align: top;\n",
       "    }\n",
       "\n",
       "    .dataframe thead th {\n",
       "        text-align: right;\n",
       "    }\n",
       "</style>\n",
       "<table border=\"1\" class=\"dataframe\">\n",
       "  <thead>\n",
       "    <tr style=\"text-align: right;\">\n",
       "      <th></th>\n",
       "      <th>PPI环比</th>\n",
       "      <th>同比</th>\n",
       "    </tr>\n",
       "  </thead>\n",
       "  <tbody>\n",
       "    <tr>\n",
       "      <th>2020-04-30</th>\n",
       "      <td>-1.300000</td>\n",
       "      <td>-3.067820</td>\n",
       "    </tr>\n",
       "    <tr>\n",
       "      <th>2020-05-31</th>\n",
       "      <td>-0.400000</td>\n",
       "      <td>-3.648252</td>\n",
       "    </tr>\n",
       "    <tr>\n",
       "      <th>2020-06-30</th>\n",
       "      <td>0.400000</td>\n",
       "      <td>-2.971760</td>\n",
       "    </tr>\n",
       "    <tr>\n",
       "      <th>2020-07-31</th>\n",
       "      <td>0.400000</td>\n",
       "      <td>-2.388424</td>\n",
       "    </tr>\n",
       "    <tr>\n",
       "      <th>2020-08-31</th>\n",
       "      <td>0.483514</td>\n",
       "      <td>-1.818277</td>\n",
       "    </tr>\n",
       "  </tbody>\n",
       "</table>\n",
       "</div>"
      ],
      "text/plain": [
       "               PPI环比        同比\n",
       "2020-04-30 -1.300000 -3.067820\n",
       "2020-05-31 -0.400000 -3.648252\n",
       "2020-06-30  0.400000 -2.971760\n",
       "2020-07-31  0.400000 -2.388424\n",
       "2020-08-31  0.483514 -1.818277"
      ]
     },
     "execution_count": 30,
     "metadata": {},
     "output_type": "execute_result"
    }
   ],
   "source": [
    "# 用PMI法预测\n",
    "PPI_pre2 = PPI_predict.PPI_by_PMI()\n",
    "PPI_pre2.tail()\n"
   ]
  },
  {
   "cell_type": "markdown",
   "metadata": {},
   "source": [
    "### 模型效果可视化"
   ]
  },
  {
   "cell_type": "code",
   "execution_count": 22,
   "metadata": {},
   "outputs": [
    {
     "name": "stdout",
     "output_type": "stream",
     "text": [
      "即将输出各行业系数...\n",
      "          系数            p值\n",
      "0  -0.015057  7.861356e-02\n",
      "1   0.026503  9.140965e-07\n",
      "2   0.002983  2.136820e-01\n",
      "3   0.041826  2.376313e-08\n",
      "4   0.033360  2.016092e-04\n",
      "5   0.124194  1.343748e-08\n",
      "6   0.022856  2.027952e-02\n",
      "7   0.011575  2.641390e-02\n",
      "8   0.070008  1.968012e-18\n",
      "9   0.057814  1.466185e-03\n",
      "10  0.114722  9.636075e-11\n",
      "从 2008-07-01 00:00:00 开始建模...\n",
      "即将输出各行业系数...\n",
      "          系数            p值\n",
      "0  -0.014485  8.654881e-02\n",
      "1   0.026319  8.737899e-07\n",
      "2   0.003008  2.073766e-01\n",
      "3   0.042271  1.255301e-08\n",
      "4   0.033966  1.312096e-04\n",
      "5   0.122453  1.153427e-08\n",
      "6   0.022951  1.910189e-02\n",
      "7   0.011741  2.343038e-02\n",
      "8   0.069896  1.231968e-18\n",
      "9   0.056970  1.545669e-03\n",
      "10  0.114729  7.380354e-11\n",
      "从 2008-07-01 00:00:00 开始建模...\n",
      "即将输出各行业系数...\n",
      "          系数            p值\n",
      "0  -0.014855  7.325281e-02\n",
      "1   0.026191  7.305167e-07\n",
      "2   0.003056  1.958338e-01\n",
      "3   0.042472  7.330955e-09\n",
      "4   0.034328  8.486838e-05\n",
      "5   0.121712  8.091216e-09\n",
      "6   0.022800  1.879338e-02\n",
      "7   0.011653  2.315853e-02\n",
      "8   0.070012  5.504413e-19\n",
      "9   0.056592  1.478590e-03\n",
      "10  0.115064  4.351735e-11\n",
      "从 2008-07-01 00:00:00 开始建模...\n",
      "即将输出各行业系数...\n",
      "          系数            p值\n",
      "0  -0.015161  6.156119e-02\n",
      "1   0.026003  4.822663e-07\n",
      "2   0.003094  1.858673e-01\n",
      "3   0.042626  4.278594e-09\n",
      "4   0.034793  3.483062e-05\n",
      "5   0.121040  4.810925e-09\n",
      "6   0.022862  1.755909e-02\n",
      "7   0.011560  2.267497e-02\n",
      "8   0.070003  2.962614e-19\n",
      "9   0.056834  1.271715e-03\n",
      "10  0.115636  1.481477e-11\n",
      "从 2008-07-01 00:00:00 开始建模...\n",
      "即将输出各行业系数...\n",
      "          系数            p值\n",
      "0  -0.014693  7.140931e-02\n",
      "1   0.025062  9.396031e-07\n",
      "2   0.001323  4.979822e-01\n",
      "3   0.046133  3.161136e-11\n",
      "4   0.035250  3.060794e-05\n",
      "5   0.120530  6.092249e-09\n",
      "6   0.018818  3.988837e-02\n",
      "7   0.011904  1.971416e-02\n",
      "8   0.071871  2.043727e-20\n",
      "9   0.054116  2.064984e-03\n",
      "10  0.111990  2.703134e-11\n",
      "从 2008-07-01 00:00:00 开始建模...\n",
      "即将输出各行业系数...\n",
      "          系数            p值\n",
      "0  -0.014102  8.213705e-02\n",
      "1   0.024097  1.229834e-06\n",
      "2   0.001219  5.314731e-01\n",
      "3   0.046171  2.738696e-11\n",
      "4   0.037692  3.472601e-06\n",
      "5   0.118931  7.218315e-09\n",
      "6   0.018511  4.282392e-02\n",
      "7   0.012373  1.496482e-02\n",
      "8   0.071738  1.583980e-20\n",
      "9   0.050536  3.059471e-03\n",
      "10  0.112866  1.729341e-11\n",
      "从 2008-07-01 00:00:00 开始建模...\n",
      "即将输出各行业系数...\n",
      "          系数            p值\n",
      "0  -0.013904  8.256036e-02\n",
      "1   0.024192  8.737481e-07\n",
      "2   0.001546  2.602841e-01\n",
      "3   0.045532  4.676864e-13\n",
      "4   0.037940  2.139099e-06\n",
      "5   0.118808  5.713602e-09\n",
      "6   0.018348  4.253466e-02\n",
      "7   0.012488  1.300711e-02\n",
      "8   0.071637  7.624182e-21\n",
      "9   0.050821  2.645848e-03\n",
      "10  0.112552  1.164975e-11\n",
      "从 2008-07-01 00:00:00 开始建模...\n"
     ]
    }
   ],
   "source": [
    "df = read_from_excel(wb,'真实数据')\n",
    "train = df[df.date < '2020-01-31'][['date','PPI同比']]\n",
    "test = df[df.date >= '2020-01-31'][['date','PPI同比']]\n",
    "pre_date = ['2020-01-01','2020-02-01','2020-03-01','2020-04-01','2020-05-01','2020-06-01','2020-07-01']\n",
    "\n",
    "pred = np.zeros(shape = (7,2))\n",
    "for i,date in enumerate(pre_date):\n",
    "    pred[i,0] = PPI_model(wb,date).PPI_by_Industry(industry_names).iloc[-1,-1]\n",
    "    pred[i,1] = PPI_model(wb,date).PPI_by_PMI(industry_names).iloc[-1,-1]\n",
    "\n"
   ]
  },
  {
   "cell_type": "code",
   "execution_count": 23,
   "metadata": {},
   "outputs": [],
   "source": [
    "pred_df = pd.DataFrame(pred,columns = ['分行业预测值','PMI预测值'])\n",
    "pred_df['date'] = pre_date"
   ]
  },
  {
   "cell_type": "code",
   "execution_count": 24,
   "metadata": {},
   "outputs": [
    {
     "data": {
      "text/html": [
       "        <script type=\"text/javascript\">\n",
       "        window.PlotlyConfig = {MathJaxConfig: 'local'};\n",
       "        if (window.MathJax) {MathJax.Hub.Config({SVG: {font: \"STIX-Web\"}});}\n",
       "        if (typeof require !== 'undefined') {\n",
       "        require.undef(\"plotly\");\n",
       "        requirejs.config({\n",
       "            paths: {\n",
       "                'plotly': ['https://cdn.plot.ly/plotly-latest.min']\n",
       "            }\n",
       "        });\n",
       "        require(['plotly'], function(Plotly) {\n",
       "            window._Plotly = Plotly;\n",
       "        });\n",
       "        }\n",
       "        </script>\n",
       "        "
      ]
     },
     "metadata": {},
     "output_type": "display_data"
    },
    {
     "data": {
      "application/vnd.plotly.v1+json": {
       "config": {
        "linkText": "Export to plot.ly",
        "plotlyServerURL": "https://plot.ly",
        "showLink": false
       },
       "data": [
        {
         "name": "训练集真实值",
         "type": "scatter",
         "x": [
          "2009-06-01",
          "2009-07-01",
          "2009-08-01",
          "2009-09-01",
          "2009-10-01",
          "2009-11-01",
          "2009-12-01",
          "2010-01-01",
          "2010-02-01",
          "2010-03-01",
          "2010-04-01",
          "2010-05-01",
          "2010-06-01",
          "2010-07-01",
          "2010-08-01",
          "2010-09-01",
          "2010-10-01",
          "2010-11-01",
          "2010-12-01",
          "2011-01-01",
          "2011-02-01",
          "2011-03-01",
          "2011-04-01",
          "2011-05-01",
          "2011-06-01",
          "2011-07-01",
          "2011-08-01",
          "2011-09-01",
          "2011-10-01",
          "2011-11-01",
          "2011-12-01",
          "2012-01-01",
          "2012-02-01",
          "2012-03-01",
          "2012-04-01",
          "2012-05-01",
          "2012-06-01",
          "2012-07-01",
          "2012-08-01",
          "2012-09-01",
          "2012-10-01",
          "2012-11-01",
          "2012-12-01",
          "2013-01-01",
          "2013-02-01",
          "2013-03-01",
          "2013-04-01",
          "2013-05-01",
          "2013-06-01",
          "2013-07-01",
          "2013-08-01",
          "2013-09-01",
          "2013-10-01",
          "2013-11-01",
          "2013-12-01",
          "2014-01-01",
          "2014-02-01",
          "2014-03-01",
          "2014-04-01",
          "2014-05-01",
          "2014-06-01",
          "2014-07-01",
          "2014-08-01",
          "2014-09-01",
          "2014-10-01",
          "2014-11-01",
          "2014-12-01",
          "2015-01-01",
          "2015-02-01",
          "2015-03-01",
          "2015-04-01",
          "2015-05-01",
          "2015-06-01",
          "2015-07-01",
          "2015-08-01",
          "2015-09-01",
          "2015-10-01",
          "2015-11-01",
          "2015-12-01",
          "2016-01-01",
          "2016-02-01",
          "2016-03-01",
          "2016-04-01",
          "2016-05-01",
          "2016-06-01",
          "2016-07-01",
          "2016-08-01",
          "2016-09-01",
          "2016-10-01",
          "2016-11-01",
          "2016-12-01",
          "2017-01-01",
          "2017-02-01",
          "2017-03-01",
          "2017-04-01",
          "2017-05-01",
          "2017-06-01",
          "2017-07-01",
          "2017-08-01",
          "2017-09-01",
          "2017-10-01",
          "2017-11-01",
          "2017-12-01",
          "2018-01-01",
          "2018-02-01",
          "2018-03-01",
          "2018-04-01",
          "2018-05-01",
          "2018-06-01",
          "2018-07-01",
          "2018-08-01",
          "2018-09-01",
          "2018-10-01",
          "2018-11-01",
          "2018-12-01",
          "2019-01-01",
          "2019-02-01",
          "2019-03-01",
          "2019-04-01",
          "2019-05-01",
          "2019-06-01",
          "2019-07-01",
          "2019-08-01",
          "2019-09-01",
          "2019-10-01",
          "2019-11-01",
          "2019-12-01",
          "2020-01-01"
         ],
         "y": [
          -7.8,
          -8.2,
          -7.86,
          -6.99,
          -5.85,
          -2.08,
          1.7,
          4.32,
          5.39,
          5.91,
          6.81,
          7.13,
          6.41,
          4.84,
          4.32,
          4.33,
          5.04,
          6.06,
          5.93,
          6.6,
          7.23,
          7.31,
          6.82,
          6.79,
          7.12,
          7.54,
          7.25,
          6.52,
          5,
          2.72,
          1.69,
          0.73,
          0.03,
          -0.32,
          -0.7,
          -1.4,
          -2.08,
          -2.87,
          -3.48,
          -3.55,
          -2.76,
          -2.2,
          -1.94,
          -1.64,
          -1.63,
          -1.92,
          -2.62,
          -2.87,
          -2.7,
          -2.27,
          -1.62,
          -1.34,
          -1.51,
          -1.42,
          -1.36,
          -1.64,
          -2,
          -2.3019,
          -2.0042,
          -1.4464,
          -1.1092,
          -0.8688,
          -1.2038,
          -1.7996,
          -2.2428,
          -2.6928,
          -3.3152,
          -4.3202,
          -4.7976,
          -4.5603,
          -4.5725,
          -4.607,
          -4.8135,
          -5.3692,
          -5.9227,
          -5.945,
          -5.9,
          -5.9,
          -5.9,
          -5.3,
          -4.9,
          -4.3,
          -3.4,
          -2.8,
          -2.6,
          -1.7,
          -0.8,
          0.1,
          1.2,
          3.3,
          5.5,
          6.9,
          7.8,
          7.6,
          6.4,
          5.5,
          5.5,
          5.5,
          6.3,
          6.9,
          6.9,
          5.8,
          4.9,
          4.3,
          3.7,
          3.1,
          3.4,
          4.1,
          4.7,
          4.6,
          4.1,
          3.6,
          3.3,
          2.7,
          0.9,
          0.1,
          0.1,
          0.4,
          0.9,
          0.6,
          0,
          -0.3,
          -0.8,
          -1.2,
          -1.6,
          -1.4,
          -0.5,
          0.1
         ]
        },
        {
         "name": "预测集真实值",
         "type": "scatter",
         "x": [
          "2020-02-01",
          "2020-03-01",
          "2020-04-01",
          "2020-05-01",
          "2020-06-01",
          "2020-07-01",
          "2020-08-01"
         ],
         "y": [
          -0.4,
          -1.5,
          -3.1,
          -3.7,
          -3,
          -2.4,
          0
         ]
        },
        {
         "mode": "markers",
         "name": "分行业预测值",
         "type": "scatter",
         "x": [
          "2020-01-01",
          "2020-02-01",
          "2020-03-01",
          "2020-04-01",
          "2020-05-01",
          "2020-06-01",
          "2020-07-01"
         ],
         "y": [
          0.03402715162245329,
          -0.2360632105204843,
          -1.5028226077443207,
          -2.9715268188536186,
          -3.518834871231519,
          -2.897166609843296,
          -2.3580830163513866
         ]
        },
        {
         "mode": "markers",
         "name": "PMI预测值",
         "type": "scatter",
         "x": [
          "2020-01-01",
          "2020-02-01",
          "2020-03-01",
          "2020-04-01",
          "2020-05-01",
          "2020-06-01",
          "2020-07-01"
         ],
         "y": [
          0.08454188899273163,
          -0.06339215472594617,
          -1.2522574512181421,
          -2.843896169961198,
          -3.668147219554214,
          -3.265248209498523,
          -2.33915571254218
         ]
        }
       ],
       "layout": {
        "template": {
         "data": {
          "bar": [
           {
            "error_x": {
             "color": "#2a3f5f"
            },
            "error_y": {
             "color": "#2a3f5f"
            },
            "marker": {
             "line": {
              "color": "#E5ECF6",
              "width": 0.5
             }
            },
            "type": "bar"
           }
          ],
          "barpolar": [
           {
            "marker": {
             "line": {
              "color": "#E5ECF6",
              "width": 0.5
             }
            },
            "type": "barpolar"
           }
          ],
          "carpet": [
           {
            "aaxis": {
             "endlinecolor": "#2a3f5f",
             "gridcolor": "white",
             "linecolor": "white",
             "minorgridcolor": "white",
             "startlinecolor": "#2a3f5f"
            },
            "baxis": {
             "endlinecolor": "#2a3f5f",
             "gridcolor": "white",
             "linecolor": "white",
             "minorgridcolor": "white",
             "startlinecolor": "#2a3f5f"
            },
            "type": "carpet"
           }
          ],
          "choropleth": [
           {
            "colorbar": {
             "outlinewidth": 0,
             "ticks": ""
            },
            "type": "choropleth"
           }
          ],
          "contour": [
           {
            "colorbar": {
             "outlinewidth": 0,
             "ticks": ""
            },
            "colorscale": [
             [
              0,
              "#0d0887"
             ],
             [
              0.1111111111111111,
              "#46039f"
             ],
             [
              0.2222222222222222,
              "#7201a8"
             ],
             [
              0.3333333333333333,
              "#9c179e"
             ],
             [
              0.4444444444444444,
              "#bd3786"
             ],
             [
              0.5555555555555556,
              "#d8576b"
             ],
             [
              0.6666666666666666,
              "#ed7953"
             ],
             [
              0.7777777777777778,
              "#fb9f3a"
             ],
             [
              0.8888888888888888,
              "#fdca26"
             ],
             [
              1,
              "#f0f921"
             ]
            ],
            "type": "contour"
           }
          ],
          "contourcarpet": [
           {
            "colorbar": {
             "outlinewidth": 0,
             "ticks": ""
            },
            "type": "contourcarpet"
           }
          ],
          "heatmap": [
           {
            "colorbar": {
             "outlinewidth": 0,
             "ticks": ""
            },
            "colorscale": [
             [
              0,
              "#0d0887"
             ],
             [
              0.1111111111111111,
              "#46039f"
             ],
             [
              0.2222222222222222,
              "#7201a8"
             ],
             [
              0.3333333333333333,
              "#9c179e"
             ],
             [
              0.4444444444444444,
              "#bd3786"
             ],
             [
              0.5555555555555556,
              "#d8576b"
             ],
             [
              0.6666666666666666,
              "#ed7953"
             ],
             [
              0.7777777777777778,
              "#fb9f3a"
             ],
             [
              0.8888888888888888,
              "#fdca26"
             ],
             [
              1,
              "#f0f921"
             ]
            ],
            "type": "heatmap"
           }
          ],
          "heatmapgl": [
           {
            "colorbar": {
             "outlinewidth": 0,
             "ticks": ""
            },
            "colorscale": [
             [
              0,
              "#0d0887"
             ],
             [
              0.1111111111111111,
              "#46039f"
             ],
             [
              0.2222222222222222,
              "#7201a8"
             ],
             [
              0.3333333333333333,
              "#9c179e"
             ],
             [
              0.4444444444444444,
              "#bd3786"
             ],
             [
              0.5555555555555556,
              "#d8576b"
             ],
             [
              0.6666666666666666,
              "#ed7953"
             ],
             [
              0.7777777777777778,
              "#fb9f3a"
             ],
             [
              0.8888888888888888,
              "#fdca26"
             ],
             [
              1,
              "#f0f921"
             ]
            ],
            "type": "heatmapgl"
           }
          ],
          "histogram": [
           {
            "marker": {
             "colorbar": {
              "outlinewidth": 0,
              "ticks": ""
             }
            },
            "type": "histogram"
           }
          ],
          "histogram2d": [
           {
            "colorbar": {
             "outlinewidth": 0,
             "ticks": ""
            },
            "colorscale": [
             [
              0,
              "#0d0887"
             ],
             [
              0.1111111111111111,
              "#46039f"
             ],
             [
              0.2222222222222222,
              "#7201a8"
             ],
             [
              0.3333333333333333,
              "#9c179e"
             ],
             [
              0.4444444444444444,
              "#bd3786"
             ],
             [
              0.5555555555555556,
              "#d8576b"
             ],
             [
              0.6666666666666666,
              "#ed7953"
             ],
             [
              0.7777777777777778,
              "#fb9f3a"
             ],
             [
              0.8888888888888888,
              "#fdca26"
             ],
             [
              1,
              "#f0f921"
             ]
            ],
            "type": "histogram2d"
           }
          ],
          "histogram2dcontour": [
           {
            "colorbar": {
             "outlinewidth": 0,
             "ticks": ""
            },
            "colorscale": [
             [
              0,
              "#0d0887"
             ],
             [
              0.1111111111111111,
              "#46039f"
             ],
             [
              0.2222222222222222,
              "#7201a8"
             ],
             [
              0.3333333333333333,
              "#9c179e"
             ],
             [
              0.4444444444444444,
              "#bd3786"
             ],
             [
              0.5555555555555556,
              "#d8576b"
             ],
             [
              0.6666666666666666,
              "#ed7953"
             ],
             [
              0.7777777777777778,
              "#fb9f3a"
             ],
             [
              0.8888888888888888,
              "#fdca26"
             ],
             [
              1,
              "#f0f921"
             ]
            ],
            "type": "histogram2dcontour"
           }
          ],
          "mesh3d": [
           {
            "colorbar": {
             "outlinewidth": 0,
             "ticks": ""
            },
            "type": "mesh3d"
           }
          ],
          "parcoords": [
           {
            "line": {
             "colorbar": {
              "outlinewidth": 0,
              "ticks": ""
             }
            },
            "type": "parcoords"
           }
          ],
          "pie": [
           {
            "automargin": true,
            "type": "pie"
           }
          ],
          "scatter": [
           {
            "marker": {
             "colorbar": {
              "outlinewidth": 0,
              "ticks": ""
             }
            },
            "type": "scatter"
           }
          ],
          "scatter3d": [
           {
            "line": {
             "colorbar": {
              "outlinewidth": 0,
              "ticks": ""
             }
            },
            "marker": {
             "colorbar": {
              "outlinewidth": 0,
              "ticks": ""
             }
            },
            "type": "scatter3d"
           }
          ],
          "scattercarpet": [
           {
            "marker": {
             "colorbar": {
              "outlinewidth": 0,
              "ticks": ""
             }
            },
            "type": "scattercarpet"
           }
          ],
          "scattergeo": [
           {
            "marker": {
             "colorbar": {
              "outlinewidth": 0,
              "ticks": ""
             }
            },
            "type": "scattergeo"
           }
          ],
          "scattergl": [
           {
            "marker": {
             "colorbar": {
              "outlinewidth": 0,
              "ticks": ""
             }
            },
            "type": "scattergl"
           }
          ],
          "scattermapbox": [
           {
            "marker": {
             "colorbar": {
              "outlinewidth": 0,
              "ticks": ""
             }
            },
            "type": "scattermapbox"
           }
          ],
          "scatterpolar": [
           {
            "marker": {
             "colorbar": {
              "outlinewidth": 0,
              "ticks": ""
             }
            },
            "type": "scatterpolar"
           }
          ],
          "scatterpolargl": [
           {
            "marker": {
             "colorbar": {
              "outlinewidth": 0,
              "ticks": ""
             }
            },
            "type": "scatterpolargl"
           }
          ],
          "scatterternary": [
           {
            "marker": {
             "colorbar": {
              "outlinewidth": 0,
              "ticks": ""
             }
            },
            "type": "scatterternary"
           }
          ],
          "surface": [
           {
            "colorbar": {
             "outlinewidth": 0,
             "ticks": ""
            },
            "colorscale": [
             [
              0,
              "#0d0887"
             ],
             [
              0.1111111111111111,
              "#46039f"
             ],
             [
              0.2222222222222222,
              "#7201a8"
             ],
             [
              0.3333333333333333,
              "#9c179e"
             ],
             [
              0.4444444444444444,
              "#bd3786"
             ],
             [
              0.5555555555555556,
              "#d8576b"
             ],
             [
              0.6666666666666666,
              "#ed7953"
             ],
             [
              0.7777777777777778,
              "#fb9f3a"
             ],
             [
              0.8888888888888888,
              "#fdca26"
             ],
             [
              1,
              "#f0f921"
             ]
            ],
            "type": "surface"
           }
          ],
          "table": [
           {
            "cells": {
             "fill": {
              "color": "#EBF0F8"
             },
             "line": {
              "color": "white"
             }
            },
            "header": {
             "fill": {
              "color": "#C8D4E3"
             },
             "line": {
              "color": "white"
             }
            },
            "type": "table"
           }
          ]
         },
         "layout": {
          "annotationdefaults": {
           "arrowcolor": "#2a3f5f",
           "arrowhead": 0,
           "arrowwidth": 1
          },
          "coloraxis": {
           "colorbar": {
            "outlinewidth": 0,
            "ticks": ""
           }
          },
          "colorscale": {
           "diverging": [
            [
             0,
             "#8e0152"
            ],
            [
             0.1,
             "#c51b7d"
            ],
            [
             0.2,
             "#de77ae"
            ],
            [
             0.3,
             "#f1b6da"
            ],
            [
             0.4,
             "#fde0ef"
            ],
            [
             0.5,
             "#f7f7f7"
            ],
            [
             0.6,
             "#e6f5d0"
            ],
            [
             0.7,
             "#b8e186"
            ],
            [
             0.8,
             "#7fbc41"
            ],
            [
             0.9,
             "#4d9221"
            ],
            [
             1,
             "#276419"
            ]
           ],
           "sequential": [
            [
             0,
             "#0d0887"
            ],
            [
             0.1111111111111111,
             "#46039f"
            ],
            [
             0.2222222222222222,
             "#7201a8"
            ],
            [
             0.3333333333333333,
             "#9c179e"
            ],
            [
             0.4444444444444444,
             "#bd3786"
            ],
            [
             0.5555555555555556,
             "#d8576b"
            ],
            [
             0.6666666666666666,
             "#ed7953"
            ],
            [
             0.7777777777777778,
             "#fb9f3a"
            ],
            [
             0.8888888888888888,
             "#fdca26"
            ],
            [
             1,
             "#f0f921"
            ]
           ],
           "sequentialminus": [
            [
             0,
             "#0d0887"
            ],
            [
             0.1111111111111111,
             "#46039f"
            ],
            [
             0.2222222222222222,
             "#7201a8"
            ],
            [
             0.3333333333333333,
             "#9c179e"
            ],
            [
             0.4444444444444444,
             "#bd3786"
            ],
            [
             0.5555555555555556,
             "#d8576b"
            ],
            [
             0.6666666666666666,
             "#ed7953"
            ],
            [
             0.7777777777777778,
             "#fb9f3a"
            ],
            [
             0.8888888888888888,
             "#fdca26"
            ],
            [
             1,
             "#f0f921"
            ]
           ]
          },
          "colorway": [
           "#636efa",
           "#EF553B",
           "#00cc96",
           "#ab63fa",
           "#FFA15A",
           "#19d3f3",
           "#FF6692",
           "#B6E880",
           "#FF97FF",
           "#FECB52"
          ],
          "font": {
           "color": "#2a3f5f"
          },
          "geo": {
           "bgcolor": "white",
           "lakecolor": "white",
           "landcolor": "#E5ECF6",
           "showlakes": true,
           "showland": true,
           "subunitcolor": "white"
          },
          "hoverlabel": {
           "align": "left"
          },
          "hovermode": "closest",
          "mapbox": {
           "style": "light"
          },
          "paper_bgcolor": "white",
          "plot_bgcolor": "#E5ECF6",
          "polar": {
           "angularaxis": {
            "gridcolor": "white",
            "linecolor": "white",
            "ticks": ""
           },
           "bgcolor": "#E5ECF6",
           "radialaxis": {
            "gridcolor": "white",
            "linecolor": "white",
            "ticks": ""
           }
          },
          "scene": {
           "xaxis": {
            "backgroundcolor": "#E5ECF6",
            "gridcolor": "white",
            "gridwidth": 2,
            "linecolor": "white",
            "showbackground": true,
            "ticks": "",
            "zerolinecolor": "white"
           },
           "yaxis": {
            "backgroundcolor": "#E5ECF6",
            "gridcolor": "white",
            "gridwidth": 2,
            "linecolor": "white",
            "showbackground": true,
            "ticks": "",
            "zerolinecolor": "white"
           },
           "zaxis": {
            "backgroundcolor": "#E5ECF6",
            "gridcolor": "white",
            "gridwidth": 2,
            "linecolor": "white",
            "showbackground": true,
            "ticks": "",
            "zerolinecolor": "white"
           }
          },
          "shapedefaults": {
           "line": {
            "color": "#2a3f5f"
           }
          },
          "ternary": {
           "aaxis": {
            "gridcolor": "white",
            "linecolor": "white",
            "ticks": ""
           },
           "baxis": {
            "gridcolor": "white",
            "linecolor": "white",
            "ticks": ""
           },
           "bgcolor": "#E5ECF6",
           "caxis": {
            "gridcolor": "white",
            "linecolor": "white",
            "ticks": ""
           }
          },
          "title": {
           "x": 0.05
          },
          "xaxis": {
           "automargin": true,
           "gridcolor": "white",
           "linecolor": "white",
           "ticks": "",
           "title": {
            "standoff": 15
           },
           "zerolinecolor": "white",
           "zerolinewidth": 2
          },
          "yaxis": {
           "automargin": true,
           "gridcolor": "white",
           "linecolor": "white",
           "ticks": "",
           "title": {
            "standoff": 15
           },
           "zerolinecolor": "white",
           "zerolinewidth": 2
          }
         }
        }
       }
      },
      "text/html": [
       "<div>\n",
       "        \n",
       "        \n",
       "            <div id=\"92ee593f-1446-4d6a-89ec-b1da35925fa8\" class=\"plotly-graph-div\" style=\"height:525px; width:100%;\"></div>\n",
       "            <script type=\"text/javascript\">\n",
       "                require([\"plotly\"], function(Plotly) {\n",
       "                    window.PLOTLYENV=window.PLOTLYENV || {};\n",
       "                    \n",
       "                if (document.getElementById(\"92ee593f-1446-4d6a-89ec-b1da35925fa8\")) {\n",
       "                    Plotly.newPlot(\n",
       "                        '92ee593f-1446-4d6a-89ec-b1da35925fa8',\n",
       "                        [{\"name\": \"\\u8bad\\u7ec3\\u96c6\\u771f\\u5b9e\\u503c\", \"type\": \"scatter\", \"x\": [\"2009-06-01\", \"2009-07-01\", \"2009-08-01\", \"2009-09-01\", \"2009-10-01\", \"2009-11-01\", \"2009-12-01\", \"2010-01-01\", \"2010-02-01\", \"2010-03-01\", \"2010-04-01\", \"2010-05-01\", \"2010-06-01\", \"2010-07-01\", \"2010-08-01\", \"2010-09-01\", \"2010-10-01\", \"2010-11-01\", \"2010-12-01\", \"2011-01-01\", \"2011-02-01\", \"2011-03-01\", \"2011-04-01\", \"2011-05-01\", \"2011-06-01\", \"2011-07-01\", \"2011-08-01\", \"2011-09-01\", \"2011-10-01\", \"2011-11-01\", \"2011-12-01\", \"2012-01-01\", \"2012-02-01\", \"2012-03-01\", \"2012-04-01\", \"2012-05-01\", \"2012-06-01\", \"2012-07-01\", \"2012-08-01\", \"2012-09-01\", \"2012-10-01\", \"2012-11-01\", \"2012-12-01\", \"2013-01-01\", \"2013-02-01\", \"2013-03-01\", \"2013-04-01\", \"2013-05-01\", \"2013-06-01\", \"2013-07-01\", \"2013-08-01\", \"2013-09-01\", \"2013-10-01\", \"2013-11-01\", \"2013-12-01\", \"2014-01-01\", \"2014-02-01\", \"2014-03-01\", \"2014-04-01\", \"2014-05-01\", \"2014-06-01\", \"2014-07-01\", \"2014-08-01\", \"2014-09-01\", \"2014-10-01\", \"2014-11-01\", \"2014-12-01\", \"2015-01-01\", \"2015-02-01\", \"2015-03-01\", \"2015-04-01\", \"2015-05-01\", \"2015-06-01\", \"2015-07-01\", \"2015-08-01\", \"2015-09-01\", \"2015-10-01\", \"2015-11-01\", \"2015-12-01\", \"2016-01-01\", \"2016-02-01\", \"2016-03-01\", \"2016-04-01\", \"2016-05-01\", \"2016-06-01\", \"2016-07-01\", \"2016-08-01\", \"2016-09-01\", \"2016-10-01\", \"2016-11-01\", \"2016-12-01\", \"2017-01-01\", \"2017-02-01\", \"2017-03-01\", \"2017-04-01\", \"2017-05-01\", \"2017-06-01\", \"2017-07-01\", \"2017-08-01\", \"2017-09-01\", \"2017-10-01\", \"2017-11-01\", \"2017-12-01\", \"2018-01-01\", \"2018-02-01\", \"2018-03-01\", \"2018-04-01\", \"2018-05-01\", \"2018-06-01\", \"2018-07-01\", \"2018-08-01\", \"2018-09-01\", \"2018-10-01\", \"2018-11-01\", \"2018-12-01\", \"2019-01-01\", \"2019-02-01\", \"2019-03-01\", \"2019-04-01\", \"2019-05-01\", \"2019-06-01\", \"2019-07-01\", \"2019-08-01\", \"2019-09-01\", \"2019-10-01\", \"2019-11-01\", \"2019-12-01\", \"2020-01-01\"], \"y\": [-7.8, -8.2, -7.86, -6.99, -5.85, -2.08, 1.7, 4.32, 5.39, 5.91, 6.81, 7.13, 6.41, 4.84, 4.32, 4.33, 5.04, 6.06, 5.93, 6.6, 7.23, 7.31, 6.82, 6.79, 7.12, 7.54, 7.25, 6.52, 5.0, 2.72, 1.69, 0.73, 0.03, -0.32, -0.7, -1.4, -2.08, -2.87, -3.48, -3.55, -2.76, -2.2, -1.94, -1.64, -1.63, -1.92, -2.62, -2.87, -2.7, -2.27, -1.62, -1.34, -1.51, -1.42, -1.36, -1.64, -2.0, -2.3019, -2.0042, -1.4464, -1.1092, -0.8688, -1.2038, -1.7996, -2.2428, -2.6928, -3.3152, -4.3202, -4.7976, -4.5603, -4.5725, -4.607, -4.8135, -5.3692, -5.9227, -5.945, -5.9, -5.9, -5.9, -5.3, -4.9, -4.3, -3.4, -2.8, -2.6, -1.7, -0.8, 0.1, 1.2, 3.3, 5.5, 6.9, 7.8, 7.6, 6.4, 5.5, 5.5, 5.5, 6.3, 6.9, 6.9, 5.8, 4.9, 4.3, 3.7, 3.1, 3.4, 4.1, 4.7, 4.6, 4.1, 3.6, 3.3, 2.7, 0.9, 0.1, 0.1, 0.4, 0.9, 0.6, 0.0, -0.3, -0.8, -1.2, -1.6, -1.4, -0.5, 0.1]}, {\"name\": \"\\u9884\\u6d4b\\u96c6\\u771f\\u5b9e\\u503c\", \"type\": \"scatter\", \"x\": [\"2020-02-01\", \"2020-03-01\", \"2020-04-01\", \"2020-05-01\", \"2020-06-01\", \"2020-07-01\", \"2020-08-01\"], \"y\": [-0.4, -1.5, -3.1, -3.7, -3.0, -2.4, 0.0]}, {\"mode\": \"markers\", \"name\": \"\\u5206\\u884c\\u4e1a\\u9884\\u6d4b\\u503c\", \"type\": \"scatter\", \"x\": [\"2020-01-01\", \"2020-02-01\", \"2020-03-01\", \"2020-04-01\", \"2020-05-01\", \"2020-06-01\", \"2020-07-01\"], \"y\": [0.03402715162245329, -0.2360632105204843, -1.5028226077443207, -2.9715268188536186, -3.518834871231519, -2.897166609843296, -2.3580830163513866]}, {\"mode\": \"markers\", \"name\": \"PMI\\u9884\\u6d4b\\u503c\", \"type\": \"scatter\", \"x\": [\"2020-01-01\", \"2020-02-01\", \"2020-03-01\", \"2020-04-01\", \"2020-05-01\", \"2020-06-01\", \"2020-07-01\"], \"y\": [0.08454188899273163, -0.06339215472594617, -1.2522574512181421, -2.843896169961198, -3.668147219554214, -3.265248209498523, -2.33915571254218]}],\n",
       "                        {\"template\": {\"data\": {\"bar\": [{\"error_x\": {\"color\": \"#2a3f5f\"}, \"error_y\": {\"color\": \"#2a3f5f\"}, \"marker\": {\"line\": {\"color\": \"#E5ECF6\", \"width\": 0.5}}, \"type\": \"bar\"}], \"barpolar\": [{\"marker\": {\"line\": {\"color\": \"#E5ECF6\", \"width\": 0.5}}, \"type\": \"barpolar\"}], \"carpet\": [{\"aaxis\": {\"endlinecolor\": \"#2a3f5f\", \"gridcolor\": \"white\", \"linecolor\": \"white\", \"minorgridcolor\": \"white\", \"startlinecolor\": \"#2a3f5f\"}, \"baxis\": {\"endlinecolor\": \"#2a3f5f\", \"gridcolor\": \"white\", \"linecolor\": \"white\", \"minorgridcolor\": \"white\", \"startlinecolor\": \"#2a3f5f\"}, \"type\": \"carpet\"}], \"choropleth\": [{\"colorbar\": {\"outlinewidth\": 0, \"ticks\": \"\"}, \"type\": \"choropleth\"}], \"contour\": [{\"colorbar\": {\"outlinewidth\": 0, \"ticks\": \"\"}, \"colorscale\": [[0.0, \"#0d0887\"], [0.1111111111111111, \"#46039f\"], [0.2222222222222222, \"#7201a8\"], [0.3333333333333333, \"#9c179e\"], [0.4444444444444444, \"#bd3786\"], [0.5555555555555556, \"#d8576b\"], [0.6666666666666666, \"#ed7953\"], [0.7777777777777778, \"#fb9f3a\"], [0.8888888888888888, \"#fdca26\"], [1.0, \"#f0f921\"]], \"type\": \"contour\"}], \"contourcarpet\": [{\"colorbar\": {\"outlinewidth\": 0, \"ticks\": \"\"}, \"type\": \"contourcarpet\"}], \"heatmap\": [{\"colorbar\": {\"outlinewidth\": 0, \"ticks\": \"\"}, \"colorscale\": [[0.0, \"#0d0887\"], [0.1111111111111111, \"#46039f\"], [0.2222222222222222, \"#7201a8\"], [0.3333333333333333, \"#9c179e\"], [0.4444444444444444, \"#bd3786\"], [0.5555555555555556, \"#d8576b\"], [0.6666666666666666, \"#ed7953\"], [0.7777777777777778, \"#fb9f3a\"], [0.8888888888888888, \"#fdca26\"], [1.0, \"#f0f921\"]], \"type\": \"heatmap\"}], \"heatmapgl\": [{\"colorbar\": {\"outlinewidth\": 0, \"ticks\": \"\"}, \"colorscale\": [[0.0, \"#0d0887\"], [0.1111111111111111, \"#46039f\"], [0.2222222222222222, \"#7201a8\"], [0.3333333333333333, \"#9c179e\"], [0.4444444444444444, \"#bd3786\"], [0.5555555555555556, \"#d8576b\"], [0.6666666666666666, \"#ed7953\"], [0.7777777777777778, \"#fb9f3a\"], [0.8888888888888888, \"#fdca26\"], [1.0, \"#f0f921\"]], \"type\": \"heatmapgl\"}], \"histogram\": [{\"marker\": {\"colorbar\": {\"outlinewidth\": 0, \"ticks\": \"\"}}, \"type\": \"histogram\"}], \"histogram2d\": [{\"colorbar\": {\"outlinewidth\": 0, \"ticks\": \"\"}, \"colorscale\": [[0.0, \"#0d0887\"], [0.1111111111111111, \"#46039f\"], [0.2222222222222222, \"#7201a8\"], [0.3333333333333333, \"#9c179e\"], [0.4444444444444444, \"#bd3786\"], [0.5555555555555556, \"#d8576b\"], [0.6666666666666666, \"#ed7953\"], [0.7777777777777778, \"#fb9f3a\"], [0.8888888888888888, \"#fdca26\"], [1.0, \"#f0f921\"]], \"type\": \"histogram2d\"}], \"histogram2dcontour\": [{\"colorbar\": {\"outlinewidth\": 0, \"ticks\": \"\"}, \"colorscale\": [[0.0, \"#0d0887\"], [0.1111111111111111, \"#46039f\"], [0.2222222222222222, \"#7201a8\"], [0.3333333333333333, \"#9c179e\"], [0.4444444444444444, \"#bd3786\"], [0.5555555555555556, \"#d8576b\"], [0.6666666666666666, \"#ed7953\"], [0.7777777777777778, \"#fb9f3a\"], [0.8888888888888888, \"#fdca26\"], [1.0, \"#f0f921\"]], \"type\": \"histogram2dcontour\"}], \"mesh3d\": [{\"colorbar\": {\"outlinewidth\": 0, \"ticks\": \"\"}, \"type\": \"mesh3d\"}], \"parcoords\": [{\"line\": {\"colorbar\": {\"outlinewidth\": 0, \"ticks\": \"\"}}, \"type\": \"parcoords\"}], \"pie\": [{\"automargin\": true, \"type\": \"pie\"}], \"scatter\": [{\"marker\": {\"colorbar\": {\"outlinewidth\": 0, \"ticks\": \"\"}}, \"type\": \"scatter\"}], \"scatter3d\": [{\"line\": {\"colorbar\": {\"outlinewidth\": 0, \"ticks\": \"\"}}, \"marker\": {\"colorbar\": {\"outlinewidth\": 0, \"ticks\": \"\"}}, \"type\": \"scatter3d\"}], \"scattercarpet\": [{\"marker\": {\"colorbar\": {\"outlinewidth\": 0, \"ticks\": \"\"}}, \"type\": \"scattercarpet\"}], \"scattergeo\": [{\"marker\": {\"colorbar\": {\"outlinewidth\": 0, \"ticks\": \"\"}}, \"type\": \"scattergeo\"}], \"scattergl\": [{\"marker\": {\"colorbar\": {\"outlinewidth\": 0, \"ticks\": \"\"}}, \"type\": \"scattergl\"}], \"scattermapbox\": [{\"marker\": {\"colorbar\": {\"outlinewidth\": 0, \"ticks\": \"\"}}, \"type\": \"scattermapbox\"}], \"scatterpolar\": [{\"marker\": {\"colorbar\": {\"outlinewidth\": 0, \"ticks\": \"\"}}, \"type\": \"scatterpolar\"}], \"scatterpolargl\": [{\"marker\": {\"colorbar\": {\"outlinewidth\": 0, \"ticks\": \"\"}}, \"type\": \"scatterpolargl\"}], \"scatterternary\": [{\"marker\": {\"colorbar\": {\"outlinewidth\": 0, \"ticks\": \"\"}}, \"type\": \"scatterternary\"}], \"surface\": [{\"colorbar\": {\"outlinewidth\": 0, \"ticks\": \"\"}, \"colorscale\": [[0.0, \"#0d0887\"], [0.1111111111111111, \"#46039f\"], [0.2222222222222222, \"#7201a8\"], [0.3333333333333333, \"#9c179e\"], [0.4444444444444444, \"#bd3786\"], [0.5555555555555556, \"#d8576b\"], [0.6666666666666666, \"#ed7953\"], [0.7777777777777778, \"#fb9f3a\"], [0.8888888888888888, \"#fdca26\"], [1.0, \"#f0f921\"]], \"type\": \"surface\"}], \"table\": [{\"cells\": {\"fill\": {\"color\": \"#EBF0F8\"}, \"line\": {\"color\": \"white\"}}, \"header\": {\"fill\": {\"color\": \"#C8D4E3\"}, \"line\": {\"color\": \"white\"}}, \"type\": \"table\"}]}, \"layout\": {\"annotationdefaults\": {\"arrowcolor\": \"#2a3f5f\", \"arrowhead\": 0, \"arrowwidth\": 1}, \"coloraxis\": {\"colorbar\": {\"outlinewidth\": 0, \"ticks\": \"\"}}, \"colorscale\": {\"diverging\": [[0, \"#8e0152\"], [0.1, \"#c51b7d\"], [0.2, \"#de77ae\"], [0.3, \"#f1b6da\"], [0.4, \"#fde0ef\"], [0.5, \"#f7f7f7\"], [0.6, \"#e6f5d0\"], [0.7, \"#b8e186\"], [0.8, \"#7fbc41\"], [0.9, \"#4d9221\"], [1, \"#276419\"]], \"sequential\": [[0.0, \"#0d0887\"], [0.1111111111111111, \"#46039f\"], [0.2222222222222222, \"#7201a8\"], [0.3333333333333333, \"#9c179e\"], [0.4444444444444444, \"#bd3786\"], [0.5555555555555556, \"#d8576b\"], [0.6666666666666666, \"#ed7953\"], [0.7777777777777778, \"#fb9f3a\"], [0.8888888888888888, \"#fdca26\"], [1.0, \"#f0f921\"]], \"sequentialminus\": [[0.0, \"#0d0887\"], [0.1111111111111111, \"#46039f\"], [0.2222222222222222, \"#7201a8\"], [0.3333333333333333, \"#9c179e\"], [0.4444444444444444, \"#bd3786\"], [0.5555555555555556, \"#d8576b\"], [0.6666666666666666, \"#ed7953\"], [0.7777777777777778, \"#fb9f3a\"], [0.8888888888888888, \"#fdca26\"], [1.0, \"#f0f921\"]]}, \"colorway\": [\"#636efa\", \"#EF553B\", \"#00cc96\", \"#ab63fa\", \"#FFA15A\", \"#19d3f3\", \"#FF6692\", \"#B6E880\", \"#FF97FF\", \"#FECB52\"], \"font\": {\"color\": \"#2a3f5f\"}, \"geo\": {\"bgcolor\": \"white\", \"lakecolor\": \"white\", \"landcolor\": \"#E5ECF6\", \"showlakes\": true, \"showland\": true, \"subunitcolor\": \"white\"}, \"hoverlabel\": {\"align\": \"left\"}, \"hovermode\": \"closest\", \"mapbox\": {\"style\": \"light\"}, \"paper_bgcolor\": \"white\", \"plot_bgcolor\": \"#E5ECF6\", \"polar\": {\"angularaxis\": {\"gridcolor\": \"white\", \"linecolor\": \"white\", \"ticks\": \"\"}, \"bgcolor\": \"#E5ECF6\", \"radialaxis\": {\"gridcolor\": \"white\", \"linecolor\": \"white\", \"ticks\": \"\"}}, \"scene\": {\"xaxis\": {\"backgroundcolor\": \"#E5ECF6\", \"gridcolor\": \"white\", \"gridwidth\": 2, \"linecolor\": \"white\", \"showbackground\": true, \"ticks\": \"\", \"zerolinecolor\": \"white\"}, \"yaxis\": {\"backgroundcolor\": \"#E5ECF6\", \"gridcolor\": \"white\", \"gridwidth\": 2, \"linecolor\": \"white\", \"showbackground\": true, \"ticks\": \"\", \"zerolinecolor\": \"white\"}, \"zaxis\": {\"backgroundcolor\": \"#E5ECF6\", \"gridcolor\": \"white\", \"gridwidth\": 2, \"linecolor\": \"white\", \"showbackground\": true, \"ticks\": \"\", \"zerolinecolor\": \"white\"}}, \"shapedefaults\": {\"line\": {\"color\": \"#2a3f5f\"}}, \"ternary\": {\"aaxis\": {\"gridcolor\": \"white\", \"linecolor\": \"white\", \"ticks\": \"\"}, \"baxis\": {\"gridcolor\": \"white\", \"linecolor\": \"white\", \"ticks\": \"\"}, \"bgcolor\": \"#E5ECF6\", \"caxis\": {\"gridcolor\": \"white\", \"linecolor\": \"white\", \"ticks\": \"\"}}, \"title\": {\"x\": 0.05}, \"xaxis\": {\"automargin\": true, \"gridcolor\": \"white\", \"linecolor\": \"white\", \"ticks\": \"\", \"title\": {\"standoff\": 15}, \"zerolinecolor\": \"white\", \"zerolinewidth\": 2}, \"yaxis\": {\"automargin\": true, \"gridcolor\": \"white\", \"linecolor\": \"white\", \"ticks\": \"\", \"title\": {\"standoff\": 15}, \"zerolinecolor\": \"white\", \"zerolinewidth\": 2}}}},\n",
       "                        {\"responsive\": true}\n",
       "                    ).then(function(){\n",
       "                            \n",
       "var gd = document.getElementById('92ee593f-1446-4d6a-89ec-b1da35925fa8');\n",
       "var x = new MutationObserver(function (mutations, observer) {{\n",
       "        var display = window.getComputedStyle(gd).display;\n",
       "        if (!display || display === 'none') {{\n",
       "            console.log([gd, 'removed!']);\n",
       "            Plotly.purge(gd);\n",
       "            observer.disconnect();\n",
       "        }}\n",
       "}});\n",
       "\n",
       "// Listen for the removal of the full notebook cells\n",
       "var notebookContainer = gd.closest('#notebook-container');\n",
       "if (notebookContainer) {{\n",
       "    x.observe(notebookContainer, {childList: true});\n",
       "}}\n",
       "\n",
       "// Listen for the clearing of the current output cell\n",
       "var outputEl = gd.closest('.output');\n",
       "if (outputEl) {{\n",
       "    x.observe(outputEl, {childList: true});\n",
       "}}\n",
       "\n",
       "                        })\n",
       "                };\n",
       "                });\n",
       "            </script>\n",
       "        </div>"
      ]
     },
     "metadata": {},
     "output_type": "display_data"
    }
   ],
   "source": [
    "import plotly\n",
    "import plotly.graph_objs as go\n",
    "from plotly.offline import init_notebook_mode,iplot\n",
    "init_notebook_mode(connected=True)\n",
    "trace1 = go.Scatter(\n",
    "        x=train['date'],\n",
    "        y=train['PPI同比'],\n",
    "        name = '训练集真实值'\n",
    "    )\n",
    "trace2 = go.Scatter(\n",
    "        x=test['date'],\n",
    "        y=test['PPI同比'],\n",
    "        name = '预测集真实值'\n",
    "    )\n",
    "trace3 = go.Scatter(\n",
    "        x=pred_df['date'],\n",
    "        y=pred_df['分行业预测值'],\n",
    "        name = '分行业预测值', \n",
    "        mode=\"markers\"\n",
    "       )\n",
    "trace4 = go.Scatter(\n",
    "        x=pred_df['date'],\n",
    "        y=pred_df['PMI预测值'],\n",
    "        name = 'PMI预测值',  \n",
    "        mode=\"markers\"\n",
    "       )\n",
    "\n",
    "d = [trace1,trace2,trace3,trace4]\n",
    "\n",
    "fig = go.Figure(data = d)\n",
    "iplot(fig)"
   ]
  },
  {
   "cell_type": "code",
   "execution_count": null,
   "metadata": {},
   "outputs": [],
   "source": []
  }
 ],
 "metadata": {
  "kernelspec": {
   "display_name": "Python 3",
   "language": "python",
   "name": "python3"
  },
  "language_info": {
   "codemirror_mode": {
    "name": "ipython",
    "version": 3
   },
   "file_extension": ".py",
   "mimetype": "text/x-python",
   "name": "python",
   "nbconvert_exporter": "python",
   "pygments_lexer": "ipython3",
   "version": "3.7.6"
  }
 },
 "nbformat": 4,
 "nbformat_minor": 4
}
