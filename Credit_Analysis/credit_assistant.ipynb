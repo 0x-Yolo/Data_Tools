{
 "metadata": {
  "language_info": {
   "codemirror_mode": {
    "name": "ipython",
    "version": 3
   },
   "file_extension": ".py",
   "mimetype": "text/x-python",
   "name": "python",
   "nbconvert_exporter": "python",
   "pygments_lexer": "ipython3",
   "version": "3.8.5-final"
  },
  "orig_nbformat": 2,
  "kernelspec": {
   "name": "python38364bit5302da5f568b4083ba445fe65021f7cc",
   "display_name": "Python 3.8.3 64-bit"
  }
 },
 "nbformat": 4,
 "nbformat_minor": 2,
 "cells": [
  {
   "cell_type": "code",
   "execution_count": null,
   "metadata": {},
   "outputs": [],
   "source": [
    "import pandas as pd\n",
    "from WindPy import w\n",
    "import datetime as dt\n",
    "import seaborn as sns\n",
    "import matplotlib.pyplot as plt\n",
    "import numpy as np\n",
    "import json"
   ]
  },
  {
   "cell_type": "code",
   "execution_count": null,
   "metadata": {
    "tags": []
   },
   "outputs": [],
   "source": [
    "w.start()"
   ]
  },
  {
   "cell_type": "markdown",
   "metadata": {},
   "source": [
    "## 导入数据，定义函数"
   ]
  },
  {
   "cell_type": "markdown",
   "metadata": {
    "tags": []
   },
   "source": []
  },
  {
   "cell_type": "code",
   "execution_count": null,
   "metadata": {},
   "outputs": [],
   "source": [
    "plt.rcParams['font.sans-serif'] = ['SimHei']  # 中文字体设置-黑体\n",
    "plt.rcParams['axes.unicode_minus'] = False  # 解决保存图像是负号'-'显示为方块的问题\n",
    "sns.set(font='SimHei',font_scale=1.5)  # 解决Seaborn中文显示问题并调整字体大小"
   ]
  },
  {
   "cell_type": "code",
   "execution_count": null,
   "metadata": {},
   "outputs": [],
   "source": [
    "## 定义根据债券余额加权的点乘积：\n",
    "def weighted_premium(dff_VS_GK):\n",
    "    weighted_premium=np.dot(dff_VS_GK[\"券种利差\"],dff_VS_GK[\"债券余额\\n[日期] 最新\\n[单位] 亿\"]/dff_VS_GK[\"债券余额\\n[日期] 最新\\n[单位] 亿\"].sum())\n",
    "    return weighted_premium.round(2)\n",
    "\n",
    "def get_credit_premium():\n",
    "    data= pd.read_excel(\"Credit_Assistant.xlsx\",skiprows=1,index_col=0).iloc[2:,:]\n",
    "    index_code=pd.read_excel(\"Credit_Assistant.xlsx\",skiprows=1,index_col=0).iloc[1,:].tolist()\n",
    "    index_name=pd.read_excel(\"Credit_Assistant.xlsx\").iloc[0,1:].tolist()\n",
    "    str=\",\"\n",
    "    err,df=w.edb(str.join(index_code),\"2019-01-01\", dt.datetime.today().strftime(\"%Y-%m-%d\"),\"Fill=Previous\",usedf=True)\n",
    "    df.columns=index_name\n",
    "    return df"
   ]
  },
  {
   "cell_type": "code",
   "execution_count": null,
   "metadata": {},
   "outputs": [],
   "source": []
  },
  {
   "cell_type": "code",
   "execution_count": null,
   "metadata": {},
   "outputs": [],
   "source": [
    "def weekly_change():\n",
    "    data.index=pd.to_datetime(data.index)\n",
    "    weekly_data = data.resample('W').mean()\n",
    "    weekly_chg = weekly_data.diff(1).round(2)\n",
    "    "
   ]
  },
  {
   "cell_type": "code",
   "execution_count": null,
   "metadata": {},
   "outputs": [],
   "source": [
    "data= pd.read_excel(\"Credit_Assistant.xlsx\",sheet_name=\"地产债\",index_col=0)\n"
   ]
  },
  {
   "cell_type": "code",
   "execution_count": null,
   "metadata": {},
   "outputs": [],
   "source": [
    "#读取城投债数据\n",
    "io=r\"城投债数据_t.xlsx\"\n",
    "data=pd.read_excel(io)"
   ]
  },
  {
   "cell_type": "code",
   "execution_count": null,
   "metadata": {},
   "outputs": [],
   "source": [
    "## 筛选非PPN\n",
    "data = data[data[\"证券简称\"].str.contains(\"PPN\")==False]\n",
    "#确定债券的可比期限\n",
    "data[\"含权债行权期限\"]=data[\"含权债行权期限\"].fillna(10)\n",
    "data[\"含权债行权期限\"]=data[\"含权债行权期限\"]*365\n",
    "df=pd.DataFrame(data=data)\n",
    "df[\"期限\"]=((data[[\"含权债行权期限\",\"剩余期限(天)\\n[日期] 最新\\n[单位] 天\"]].min(axis=1))/365).round(2)\n",
    "df[\"期限_匹配\"]=((data[[\"含权债行权期限\",\"剩余期限(天)\\n[日期] 最新\\n[单位] 天\"]].min(axis=1))/365).round(0)"
   ]
  },
  {
   "cell_type": "code",
   "execution_count": null,
   "metadata": {},
   "outputs": [],
   "source": [
    "#获取最新的国开收益率基准\n",
    "def GK_updated_yield(date=dt.datetime.today().strftime(\"%Y-%m-%d\")):\n",
    "    w.start()\n",
    "    GK=pd.read_excel(\"Credit_Assistant.xlsx\",sheet_name=\"国开可比基准\",skiprows=1,index_col=0).iloc[2:,:]\n",
    "    GK_index_name=GK.columns.tolist()\n",
    "    str=\",\"\n",
    "\n",
    "    GK_index_code=str.join(pd.read_excel(\"Credit_Assistant.xlsx\",sheet_name=\"国开可比基准\",skiprows=1,index_col=0).iloc[1,:].tolist())\n",
    "\n",
    "    err,GK_yield=w.edb(GK_index_code, \"2020-7-1\", date,\"Fill=Previous\",usedf=True)\n",
    "    GK_yield.columns=GK_index_name\n",
    "\n",
    "    df=GK_yield.tail(1).T\n",
    "    df.columns=[\"GK_yield\"]\n",
    "    df[\"期限\"]=[1,2,3,4,5]\n",
    "\n",
    "    return df\n",
    "    "
   ]
  },
  {
   "cell_type": "code",
   "execution_count": null,
   "metadata": {
    "tags": []
   },
   "outputs": [],
   "source": [
    "def get_credit_vs_gk_data():\n",
    "    GK_yield_base=GK_updated_yield()\n",
    "    dff_VS_GK=pd.merge(df[df[\"期限\"]<5],GK_yield_base,left_on=[\"期限_匹配\"],right_on=[\"期限\"],how=\"left\")\n",
    "    dff_VS_GK[\"券种利差\"]=(dff_VS_GK[\"债券估值(YY)\\n[单位] %\"]-dff_VS_GK[\"GK_yield\"])*100\n",
    "    dff_VS_GK=dff_VS_GK[dff_VS_GK[\"券种利差\"].isna()==False]\n",
    "    return dff_VS_GK"
   ]
  },
  {
   "cell_type": "code",
   "execution_count": null,
   "metadata": {},
   "outputs": [],
   "source": [
    "dff_VS_GK=get_credit_vs_gk_data()"
   ]
  },
  {
   "cell_type": "code",
   "execution_count": null,
   "metadata": {},
   "outputs": [],
   "source": [
    "## 主体债券维度：获取主体的债券维度与科目\n",
    "\n",
    "statistic_method=np.median\n",
    "info_dimension=\"证券代码\",\"证券简称\",\"期限\",\"估价收益率(%)(中债)\\n[日期] 最新收盘日\\n[估值类型] 推荐\",\"债券估值(YY)\\n[单位] %\",\"区域\",\"城市\",\n",
    "loaner_name=\"青岛国信发展(集团)有限责任公司\"\n",
    "\n",
    "#def get_loaner_info(loaner_name,info_dimension,loaner_name): \n",
    "data_loaner=dff_VS_GK.groupby(\"主体名称\")[info_dimension].get_group(loaner_name)\n"
   ]
  },
  {
   "cell_type": "code",
   "execution_count": null,
   "metadata": {},
   "outputs": [],
   "source": [
    "city_name=\"青岛市\"\n",
    "info_dimension=\"券种利差\",\"债券余额\\n[日期] 最新\\n[单位] 亿\"\n",
    "agg_dimension=\"城市\"\n",
    "## 求城市的利差\n",
    "#def 集合利利差\n",
    "\n",
    "city_credit_premium=dff_VS_GK.groupby(\"城市\")[info_dimension].apply(lambda x : weighted_premium(x))\n",
    "province_credit_premium=dff_VS_GK.groupby(\"区域\")[info_dimension].apply(lambda x : weighted_premium(x))"
   ]
  },
  {
   "cell_type": "code",
   "execution_count": null,
   "metadata": {},
   "outputs": [],
   "source": [
    "info_dimension=\"证券代码\",\"证券简称\",\"期限\",\"估价收益率(%)(中债)\\n[日期] 最新收盘日\\n[估值类型] 推荐\",\"债券估值(YY)\\n[单位] %\",\"债券余额\\n[日期] 最新\\n[单位] 亿\",\"券种利差\",\n",
    "city_name=\"青岛市\"\n",
    "\n",
    "dff_VS_GK.groupby(\"城市\")[info_dimension].get_group(city_name)"
   ]
  },
  {
   "cell_type": "code",
   "execution_count": null,
   "metadata": {},
   "outputs": [],
   "source": []
  },
  {
   "cell_type": "code",
   "execution_count": null,
   "metadata": {},
   "outputs": [],
   "source": []
  },
  {
   "cell_type": "markdown",
   "metadata": {},
   "source": [
    "## 制作地理位置图"
   ]
  },
  {
   "cell_type": "code",
   "execution_count": null,
   "metadata": {},
   "outputs": [],
   "source": [
    "import json\n",
    "json_io=r\"geojson-map-china\\china.json\"\n",
    "gs_data = open(json_io, encoding='utf8').read()\n",
    "gs_data = json.loads(gs_data)\n",
    "#整理plotly需要的格式：\n",
    "for i in range(len(gs_data[\"features\"])):\n",
    "    gs_data[\"features\"][i][\"id\"]=gs_data[\"features\"][i][\"properties\"][\"id\"]#id前置\n",
    "    gs_data[\"features\"][i][\"name\"]=gs_data[\"features\"][i][\"properties\"][\"name\"]\n",
    "\n",
    "### 匹配id和区域\n",
    "geo_id=[]\n",
    "geo_name=[]\n",
    "for i in range(len(gs_data[\"features\"])):\n",
    "    geo_id.append(gs_data[\"features\"][i][\"id\"])\n",
    "    geo_name.append(gs_data[\"features\"][i]['properties'][\"name\"])\n",
    "geo_data=pd.DataFrame({\"id\":geo_id,\"区域\":geo_name})"
   ]
  },
  {
   "cell_type": "code",
   "execution_count": null,
   "metadata": {},
   "outputs": [],
   "source": [
    "# 看看区域的信用利差表现\n",
    "df=province_credit_premium\n",
    "\n",
    "def province_credit_premium_fig(df):\n",
    "\n",
    "    dff=pd.merge(pd.DataFrame(df,columns=[\"信用利差\"]),geo_data,left_on=\"区域\",right_on=\"区域\")\n",
    "\n",
    "    fig = px.choropleth_mapbox(dff, geojson=gs_data, locations='id', color='信用利差',\n",
    "            range_color=(20, 400),\n",
    "            zoom=3, center = {\"lat\": 37.4189, \"lon\": 116.4219},\n",
    "            mapbox_style='carto-positron',\n",
    "            hover_data=[\"区域\", \"信用利差\"]\n",
    "            )\n",
    "\n",
    "    fig.update_geos(fitbounds=\"locations\", visible=True)\n",
    "    fig.update_layout(margin={\"r\":0,\"t\":0,\"l\":0,\"b\":0})\n",
    "    return fig"
   ]
  },
  {
   "cell_type": "code",
   "execution_count": null,
   "metadata": {},
   "outputs": [],
   "source": []
  },
  {
   "cell_type": "code",
   "execution_count": null,
   "metadata": {},
   "outputs": [],
   "source": []
  }
 ]
}