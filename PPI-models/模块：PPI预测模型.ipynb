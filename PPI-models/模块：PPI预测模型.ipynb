{
 "cells": [
  {
   "cell_type": "markdown",
   "metadata": {},
   "source": [
    "### 导入所需库"
   ]
  },
  {
   "cell_type": "code",
   "execution_count": 1,
   "metadata": {},
   "outputs": [],
   "source": [
    "from IPython.core.interactiveshell import InteractiveShell\n",
    "InteractiveShell.ast_node_interactivity = \"all\"\n",
    "import abc\n",
    "import xlrd\n",
    "from xlrd import xldate_as_tuple\n",
    "import os\n",
    "import pandas as pd\n",
    "import numpy as np\n",
    "from datetime import datetime\n",
    "import statsmodels.api as sm\n",
    "import statsmodels.formula.api as smf\n",
    "from itertools import product\n",
    "from statsmodels.tsa.arima_model import ARMA,ARIMA\n",
    "import warnings\n",
    "warnings.filterwarnings('ignore')"
   ]
  },
  {
   "cell_type": "markdown",
   "metadata": {},
   "source": [
    "### 自定义函数"
   ]
  },
  {
   "cell_type": "code",
   "execution_count": 2,
   "metadata": {},
   "outputs": [],
   "source": [
    "def read_from_excel(wb,sheet_name):\n",
    "    sheet = wb.sheet_by_name(sheet_name)# 获取名为sheet\n",
    "    dat = []  # 创建空list记录每行数据\n",
    "    for row in range(sheet.nrows):  # 循环读取表格内容（每次读取一行数据）\n",
    "        cells = sheet.row_values(row)  # 每行数据赋值给cells\n",
    "        for col in range(sheet.ncols):\n",
    "            value = sheet.cell(row, col).value\n",
    "            if sheet.cell(row, col).ctype == 3: # ctype=3表示日期格式\n",
    "                date = xldate_as_tuple(sheet.cell(row, col).value, 0)\n",
    "                value = datetime(*date).strftime('%Y-%m-%d') # 将日期格式标准化\n",
    "            cells[col] = value\n",
    "        dat.append(cells) #把每次循环读取的数据插入到list\n",
    "    df = pd.DataFrame(dat[1:],columns = dat[0])\n",
    "    return df"
   ]
  },
  {
   "cell_type": "code",
   "execution_count": 3,
   "metadata": {},
   "outputs": [],
   "source": [
    "def mom_to_yoy(df): \n",
    "    \n",
    "    # 将环比数据转换为同比数据\n",
    "    \n",
    "    df['同比'] = 0\n",
    "    df = df.reset_index(drop = True)\n",
    "    for i in range(11,df.shape[0]):\n",
    "        df.iloc[i,1] = (df.iloc[(i-11):(i+1),0]+100).prod()/100**11-100\n",
    " \n",
    "    return df"
   ]
  },
  {
   "cell_type": "code",
   "execution_count": 4,
   "metadata": {},
   "outputs": [],
   "source": [
    "def choose_best_ARMA(df):\n",
    "    ps = range(0, 4)\n",
    "    qs = range(0, 4)\n",
    "    parameters = product(ps, qs)\n",
    "    parameters_list = list(parameters)\n",
    "    best_aic = float('inf')\n",
    "    results = []\n",
    "    for param in parameters_list:\n",
    "        try:\n",
    "            model = ARMA(df, order=(param[0], param[1])).fit()\n",
    "        except ValueError:\n",
    "            continue\n",
    "        aic = model.aic\n",
    "        if aic < best_aic:\n",
    "            best_model = model\n",
    "            best_aic = model.aic\n",
    "            best_param = param\n",
    "        results.append([param, model.aic])\n",
    "    results_table = pd.DataFrame(results)\n",
    "    results_table.columns = ['parameters', 'aic']\n",
    "    return best_model"
   ]
  },
  {
   "cell_type": "markdown",
   "metadata": {},
   "source": [
    "### 新建抽象类"
   ]
  },
  {
   "cell_type": "code",
   "execution_count": 5,
   "metadata": {},
   "outputs": [],
   "source": [
    "class model(object,metaclass = abc.ABCMeta): # 抽象基类\n",
    "    \n",
    "    @abc.abstractmethod    \n",
    "    def PPI_by_Industry(self,industry_names,verbose = 0):\n",
    "        # 分别预测重要行业的PPI，再将其拟合成最终的PPI\n",
    "        pass\n",
    "    \n",
    "    @abc.abstractmethod    \n",
    "    def PPI_by_PMI(self,verbose = 0):\n",
    "        # 通过PMI:主要原材料购进价格来预测PPI环比\n",
    "        pass\n",
    "    \n"
   ]
  },
  {
   "cell_type": "markdown",
   "metadata": {},
   "source": [
    "### 新建继承类"
   ]
  },
  {
   "cell_type": "code",
   "execution_count": 6,
   "metadata": {},
   "outputs": [],
   "source": [
    "\n",
    "class PPI_model(model):\n",
    "    \n",
    "    def __init__(self,workbook,date):\n",
    "        self.workbook = workbook\n",
    "        self.date = date\n",
    "   \n",
    "    def PPI_by_Industry(self,industry_names,verbose = 0):\n",
    "        date2 = datetime.strptime(self.date,'%Y-%m-%d')                                    # 预测时间格式标准化\n",
    "        nmonths = 1                                                                        # 预测的总月份数 \n",
    "        PPI_by_industry_pre = np.zeros(shape=(nmonths,len(industry_names)))                # 新建数组来记录预测值\n",
    "    \n",
    "        ######## 对行业分别进行预测 ########\n",
    "    \n",
    "        for i,name in enumerate(industry_names):\n",
    "            df = read_from_excel(self.workbook,name)                                        # 通过名称获取\n",
    "            df_train = df[df.date < self.date]                                                   # 用2020年5月以前的数据建模\n",
    "            df_test = df[df.date == self.date]                                                   # 预测2020年5月\n",
    "            y = np.asarray(df_train.y,'float32')\n",
    "            x = df_train.drop(['date','y'],axis = 1)\n",
    "            x2 = sm.add_constant(x)                                                         # 添加常数1\n",
    "            est = sm.OLS(y, x2).fit()                                                       # 建模  \n",
    "            x_test = sm.add_constant(np.asarray(df_test.drop(['date','y'],axis = 1)),\n",
    "                                     has_constant='add')                                    # 添加常数1\n",
    "            PPI_by_industry_pre[:,i] = est.predict(x_test)                                  # 逐列添加每个行业的预测值       \n",
    "\n",
    "            if verbose == 1:                                                                # 如果 verbose=1，输出模型细节\n",
    "                print(name,\n",
    "                  \"的修正R方为\",\n",
    "                  '{:.2%}'.format(est.rsquared_adj))                                        # 输出修正R方\n",
    "                summary = pd.DataFrame({\n",
    "                                    '系数':est.params[1:],\n",
    "                                    'p值':est.pvalues[1:]})                                  # 新建df记录系数和p值\n",
    "                print(summary)                                                               # 输出系数和p值\n",
    "        \n",
    "    \n",
    "        ######## 计算各行业的系数并拟合总体PPI ########\n",
    "    \n",
    "        df = read_from_excel(self.workbook,\"综合\")\n",
    "        df.index = pd.DatetimeIndex(df.date)\n",
    "        df = df.drop('date',axis = 1)\n",
    "        df = df.apply(pd.to_numeric,axis = 1)\n",
    "        x = np.zeros(shape = (df[df.index<date2].shape[0],len(industry_names)))\n",
    "        for i,name in enumerate(industry_names):                                             # 按照顺序添加各行业PPI作为自变量\n",
    "            x[:,i] = df[df.index<date2][name]\n",
    "        x2 = np.asarray(sm.add_constant(x))                                                  # 添加常数1\n",
    "        y = np.asarray(df[df.index<date2]['PPI环比'])\n",
    "        est_coef = sm.OLS(y, x2).fit()                                                       # 建模  \n",
    "        summary = pd.DataFrame({'系数':est_coef.params,\n",
    "                                    'p值':est_coef.pvalues})                                  # 新建df记录各行业系数和p值\n",
    "        print(\"即将输出各行业系数...\")\n",
    "        print(summary)                                                                        # 输出各行业系数和p值\n",
    "        x_test_final = sm.add_constant(PPI_by_industry_pre,has_constant='add')\n",
    "        PPI_mom_pre = est_coef.predict(x_test_final)\n",
    "        PPI_mom = pd.DataFrame(np.hstack((y,PPI_mom_pre)),columns=['PPI环比'],\n",
    "                               index = range(y.shape[0]+1))                                   # 最终PPI环比预测\n",
    "    \n",
    "        ######## 环比数据转为同比数据 ########  \n",
    "        \n",
    "        PPI_yoy = mom_to_yoy(PPI_mom)\n",
    "        PPI_yoy.index = pd.date_range(start = df.index[0],periods = y.shape[0]+1,freq = 'M')\n",
    "    \n",
    "        return PPI_yoy                                                                        # 返回所有PPI环比和同比\n",
    "    \n",
    "    def PPI_by_PMI(self,verbose = 0):\n",
    "        \n",
    "        ######## 通过测试集上MSE最小来选择最优的建模开始时间 ########\n",
    "        \n",
    "        df = read_from_excel(self.workbook,\"PMI数据\")\n",
    "        date2 = datetime.strptime(self.date,'%Y-%m-%d')                         # 预测时间格式标准化\n",
    "        tp = pd.DatetimeIndex(df.date)\n",
    "        df.index = tp\n",
    "        df = df.drop('date',axis = 1)\n",
    "        df = df.apply(pd.to_numeric,axis = 1)\n",
    "        df_train = df[df.index < '2018-05-31']                                  # 设定2019年5月以前的数据作训练集\n",
    "        df_test = df[df.index >= '2018-05-31']                                  # 设定2019年5月以后的数据作测试集   \n",
    "        train_latest_start = '2015-05-01'                                       # 设定训练集的开始时间不能晚于2016年5月\n",
    "        train_start_tp = tp[tp < train_latest_start]                            # 训练集开始时间集合         \n",
    "        mse = 0                                                                 # 首先设定MSE=0\n",
    "        for i in train_start_tp:                                                # 遍历训练集开始时间集合中的每一天\n",
    "            train_set = df_train[df_train.index >= i]\n",
    "            test_set = df_test\n",
    "            model = smf.ols('y~PMI',train_set).fit()                          \n",
    "            y_pred = model.predict(test_set.PMI)                                \n",
    "            if mse == 0:\n",
    "                mse = ((y_pred - test_set.y)**2).mean()\n",
    "            elif (((y_pred - test_set.y)**2).mean() < mse ):\n",
    "                mse = ((y_pred - test_set.y)**2).mean()\n",
    "                start = i                                                       # 记录更优的建模开始时间\n",
    "                linear_model_best = model                                       # 记录更优的回归模型\n",
    "        print(\"从\",start,\"开始建模...\")\n",
    "        \n",
    "        ######## 建立回归模型 ########\n",
    "        \n",
    "        df_final = df[(df.index >= start)&(df.index < date2)]\n",
    "        reg_model = smf.ols('y~PMI',df_final).fit()                             # 建模    \n",
    "        y_reg_pre = reg_model.params[0]+reg_model.params[1]*df.loc[self.date,'PMI']\n",
    "        \n",
    "        \n",
    "        ######## 对回归残差拟合ARMA模型 ########\n",
    "        \n",
    "        df_res = pd.DataFrame(reg_model.resid)\n",
    "        df_res.index = pd.DatetimeIndex(reg_model.resid.index,freq = 'MS')\n",
    "        best_ARMA = choose_best_ARMA(df_res)\n",
    "        res_pre = best_ARMA.forecast(steps = 1)[0]\n",
    "        PPI_mom_pre = y_reg_pre+res_pre\n",
    "        if verbose == 1:\n",
    "            print('回归模型：')\n",
    "            print(reg_model.summary())\n",
    "            print('ARMA模型：')\n",
    "            print(best_ARMA.summary())\n",
    "        y = np.asarray(df[df.index<self.date]['y'])\n",
    "        PPI_mom = pd.DataFrame(np.hstack((y,PPI_mom_pre)),columns=['PPI环比'],\n",
    "                               index = range(y.shape[0]+1))                    # 最终PPI环比预测\n",
    "        \n",
    "        ######## 环比数据转为同比数据 ########  \n",
    "        \n",
    "        PPI_yoy = mom_to_yoy(PPI_mom)\n",
    "        PPI_yoy.index = pd.date_range(start = df.index[0],periods = y.shape[0]+1,freq = 'M')\n",
    "    \n",
    "        return PPI_yoy\n",
    "    \n",
    "    \n",
    "    \n",
    "\n",
    "    "
   ]
  },
  {
   "cell_type": "markdown",
   "metadata": {},
   "source": [
    "### 读取数据以及参数设定"
   ]
  },
  {
   "cell_type": "code",
   "execution_count": 8,
   "metadata": {},
   "outputs": [],
   "source": [
    "wb = xlrd.open_workbook(os.path.join(os.getcwd(), 'PPI预测模型数据.xlsx'))# 打开Excel文件\n",
    "industry_names = ['煤炭',\n",
    "                  '石油和天然气开采业',\n",
    "                  '石油加工炼焦',\n",
    "                  '有色冶炼',\n",
    "                  '化学原料及化学品',\n",
    "                  '化学纤维',\n",
    "                  '黑色金属矿采',\n",
    "                  '黑色加工',\n",
    "                  '农副',\n",
    "                  '非金属矿物制品业']\n",
    "date = '2020-07-01'"
   ]
  },
  {
   "cell_type": "code",
   "execution_count": 9,
   "metadata": {},
   "outputs": [
    {
     "name": "stdout",
     "output_type": "stream",
     "text": [
      "即将输出各行业系数...\n",
      "          系数            p值\n",
      "0  -0.016240  4.605875e-02\n",
      "1   0.023955  1.029618e-06\n",
      "2   0.001452  2.880575e-01\n",
      "3   0.045923  3.750700e-13\n",
      "4   0.038232  1.785820e-06\n",
      "5   0.116156  1.127356e-08\n",
      "6   0.019049  3.494728e-02\n",
      "7   0.012686  1.133891e-02\n",
      "8   0.071743  1.001111e-20\n",
      "9   0.054330  1.533108e-03\n",
      "10  0.114700  7.240508e-12\n"
     ]
    },
    {
     "data": {
      "text/html": [
       "<div>\n",
       "<style scoped>\n",
       "    .dataframe tbody tr th:only-of-type {\n",
       "        vertical-align: middle;\n",
       "    }\n",
       "\n",
       "    .dataframe tbody tr th {\n",
       "        vertical-align: top;\n",
       "    }\n",
       "\n",
       "    .dataframe thead th {\n",
       "        text-align: right;\n",
       "    }\n",
       "</style>\n",
       "<table border=\"1\" class=\"dataframe\">\n",
       "  <thead>\n",
       "    <tr style=\"text-align: right;\">\n",
       "      <th></th>\n",
       "      <th>PPI环比</th>\n",
       "      <th>同比</th>\n",
       "    </tr>\n",
       "  </thead>\n",
       "  <tbody>\n",
       "    <tr>\n",
       "      <th>2020-03-31</th>\n",
       "      <td>-1.000000</td>\n",
       "      <td>-1.496478</td>\n",
       "    </tr>\n",
       "    <tr>\n",
       "      <th>2020-04-30</th>\n",
       "      <td>-1.300000</td>\n",
       "      <td>-3.067820</td>\n",
       "    </tr>\n",
       "    <tr>\n",
       "      <th>2020-05-31</th>\n",
       "      <td>-0.400000</td>\n",
       "      <td>-3.648252</td>\n",
       "    </tr>\n",
       "    <tr>\n",
       "      <th>2020-06-30</th>\n",
       "      <td>0.400000</td>\n",
       "      <td>-2.971760</td>\n",
       "    </tr>\n",
       "    <tr>\n",
       "      <th>2020-07-31</th>\n",
       "      <td>0.324533</td>\n",
       "      <td>-2.461796</td>\n",
       "    </tr>\n",
       "  </tbody>\n",
       "</table>\n",
       "</div>"
      ],
      "text/plain": [
       "               PPI环比        同比\n",
       "2020-03-31 -1.000000 -1.496478\n",
       "2020-04-30 -1.300000 -3.067820\n",
       "2020-05-31 -0.400000 -3.648252\n",
       "2020-06-30  0.400000 -2.971760\n",
       "2020-07-31  0.324533 -2.461796"
      ]
     },
     "execution_count": 9,
     "metadata": {},
     "output_type": "execute_result"
    }
   ],
   "source": [
    "PPI_predict = PPI_model(wb,date)\n",
    "# 用分行业法预测2020年6月PPI\n",
    "PPI_pre1 = PPI_predict.PPI_by_Industry(industry_names)\n",
    "PPI_pre1.tail(5)"
   ]
  },
  {
   "cell_type": "code",
   "execution_count": 11,
   "metadata": {},
   "outputs": [
    {
     "name": "stdout",
     "output_type": "stream",
     "text": [
      "从 2008-07-01 00:00:00 开始建模...\n"
     ]
    },
    {
     "data": {
      "text/html": [
       "<div>\n",
       "<style scoped>\n",
       "    .dataframe tbody tr th:only-of-type {\n",
       "        vertical-align: middle;\n",
       "    }\n",
       "\n",
       "    .dataframe tbody tr th {\n",
       "        vertical-align: top;\n",
       "    }\n",
       "\n",
       "    .dataframe thead th {\n",
       "        text-align: right;\n",
       "    }\n",
       "</style>\n",
       "<table border=\"1\" class=\"dataframe\">\n",
       "  <thead>\n",
       "    <tr style=\"text-align: right;\">\n",
       "      <th></th>\n",
       "      <th>PPI环比</th>\n",
       "      <th>同比</th>\n",
       "    </tr>\n",
       "  </thead>\n",
       "  <tbody>\n",
       "    <tr>\n",
       "      <th>2020-03-31</th>\n",
       "      <td>-1.000000</td>\n",
       "      <td>-1.496478</td>\n",
       "    </tr>\n",
       "    <tr>\n",
       "      <th>2020-04-30</th>\n",
       "      <td>-1.300000</td>\n",
       "      <td>-3.067820</td>\n",
       "    </tr>\n",
       "    <tr>\n",
       "      <th>2020-05-31</th>\n",
       "      <td>-0.400000</td>\n",
       "      <td>-3.648252</td>\n",
       "    </tr>\n",
       "    <tr>\n",
       "      <th>2020-06-30</th>\n",
       "      <td>0.400000</td>\n",
       "      <td>-2.971760</td>\n",
       "    </tr>\n",
       "    <tr>\n",
       "      <th>2020-07-31</th>\n",
       "      <td>0.450676</td>\n",
       "      <td>-2.339156</td>\n",
       "    </tr>\n",
       "  </tbody>\n",
       "</table>\n",
       "</div>"
      ],
      "text/plain": [
       "               PPI环比        同比\n",
       "2020-03-31 -1.000000 -1.496478\n",
       "2020-04-30 -1.300000 -3.067820\n",
       "2020-05-31 -0.400000 -3.648252\n",
       "2020-06-30  0.400000 -2.971760\n",
       "2020-07-31  0.450676 -2.339156"
      ]
     },
     "execution_count": 11,
     "metadata": {},
     "output_type": "execute_result"
    }
   ],
   "source": [
    "# 用PMI法预测2020年6月PPI\n",
    "PPI_pre2 = PPI_predict.PPI_by_PMI()\n",
    "PPI_pre2.tail()\n"
   ]
  },
  {
   "cell_type": "markdown",
   "metadata": {},
   "source": [
    "### 模型效果可视化"
   ]
  },
  {
   "cell_type": "code",
   "execution_count": 12,
   "metadata": {},
   "outputs": [
    {
     "name": "stdout",
     "output_type": "stream",
     "text": [
      "即将输出各行业系数...\n",
      "          系数            p值\n",
      "0  -0.017888  4.056812e-02\n",
      "1   0.026168  1.133425e-06\n",
      "2   0.002815  2.379403e-01\n",
      "3   0.042526  1.572904e-08\n",
      "4   0.033692  1.714214e-04\n",
      "5   0.121156  2.692429e-08\n",
      "6   0.023739  1.575605e-02\n",
      "7   0.011632  2.488423e-02\n",
      "8   0.070169  2.395871e-18\n",
      "9   0.061771  8.127844e-04\n",
      "10  0.117438  5.648173e-11\n",
      "从 2008-07-01 00:00:00 开始建模...\n",
      "即将输出各行业系数...\n",
      "          系数            p值\n",
      "0  -0.017262  4.520770e-02\n",
      "1   0.025977  1.094479e-06\n",
      "2   0.002843  2.307371e-01\n",
      "3   0.042989  8.218220e-09\n",
      "4   0.034334  1.094924e-04\n",
      "5   0.119352  2.405160e-08\n",
      "6   0.023827  1.483754e-02\n",
      "7   0.011806  2.197563e-02\n",
      "8   0.070049  1.500901e-18\n",
      "9   0.060832  8.637834e-04\n",
      "10  0.117432  4.311509e-11\n",
      "从 2008-07-01 00:00:00 开始建模...\n",
      "即将输出各行业系数...\n",
      "          系数            p值\n",
      "0  -0.017570  3.764075e-02\n",
      "1   0.025873  8.893776e-07\n",
      "2   0.002881  2.198494e-01\n",
      "3   0.043153  4.773123e-09\n",
      "4   0.034627  7.169107e-05\n",
      "5   0.118745  1.631697e-08\n",
      "6   0.023708  1.438608e-02\n",
      "7   0.011735  2.145560e-02\n",
      "8   0.070142  6.639182e-19\n",
      "9   0.060540  8.036624e-04\n",
      "10  0.117714  2.489480e-11\n",
      "从 2008-07-01 00:00:00 开始建模...\n",
      "即将输出各行业系数...\n",
      "          系数            p值\n",
      "0  -0.017723  3.166128e-02\n",
      "1   0.025785  5.341937e-07\n",
      "2   0.002898  2.122743e-01\n",
      "3   0.043227  2.824499e-09\n",
      "4   0.034845  3.215136e-05\n",
      "5   0.118420  8.833497e-09\n",
      "6   0.023741  1.343635e-02\n",
      "7   0.011692  2.041372e-02\n",
      "8   0.070138  3.452050e-19\n",
      "9   0.060666  6.898073e-04\n",
      "10  0.117991  8.598511e-12\n",
      "从 2008-07-01 00:00:00 开始建模...\n",
      "即将输出各行业系数...\n",
      "          系数            p值\n",
      "0  -0.017232  3.771612e-02\n",
      "1   0.024832  1.067252e-06\n",
      "2   0.001104  5.699698e-01\n",
      "3   0.046777  2.121234e-11\n",
      "4   0.035302  2.863362e-05\n",
      "5   0.117925  1.133249e-08\n",
      "6   0.019639  3.166928e-02\n",
      "7   0.012039  1.777279e-02\n",
      "8   0.072032  2.519299e-20\n",
      "9   0.057903  1.152149e-03\n",
      "10  0.114272  1.601081e-11\n",
      "从 2008-07-01 00:00:00 开始建模...\n",
      "即将输出各行业系数...\n",
      "          系数            p值\n",
      "0  -0.016542  4.505387e-02\n",
      "1   0.023821  1.493475e-06\n",
      "2   0.001000  6.063143e-01\n",
      "3   0.046805  1.890913e-11\n",
      "4   0.037891  3.043472e-06\n",
      "5   0.116295  1.396528e-08\n",
      "6   0.019285  3.462072e-02\n",
      "7   0.012531  1.335183e-02\n",
      "8   0.071885  2.025798e-20\n",
      "9   0.053993  1.793084e-03\n",
      "10  0.115155  1.053569e-11\n",
      "从 2008-07-01 00:00:00 开始建模...\n"
     ]
    }
   ],
   "source": [
    "df = read_from_excel(wb,'真实数据')\n",
    "train = df[df.date < '2020-01-31'][['date','PPI同比']]\n",
    "test = df[df.date >= '2020-01-31'][['date','PPI同比']]\n",
    "pre_date = ['2020-01-01','2020-02-01','2020-03-01','2020-04-01','2020-05-01','2020-06-01']\n",
    "\n",
    "pred = np.zeros(shape = (6,2))\n",
    "for i,date in enumerate(pre_date):\n",
    "    pred[i,0] = PPI_model(wb,date).PPI_by_Industry(industry_names).iloc[-1,-1]\n",
    "    pred[i,1] = PPI_model(wb,date).PPI_by_PMI(industry_names).iloc[-1,-1]\n",
    "\n"
   ]
  },
  {
   "cell_type": "code",
   "execution_count": 13,
   "metadata": {},
   "outputs": [],
   "source": [
    "pred_df = pd.DataFrame(pred,columns = ['分行业预测值','PMI预测值'])\n",
    "pred_df['date'] = pre_date"
   ]
  },
  {
   "cell_type": "code",
   "execution_count": 14,
   "metadata": {},
   "outputs": [
    {
     "data": {
      "text/html": [
       "        <script type=\"text/javascript\">\n",
       "        window.PlotlyConfig = {MathJaxConfig: 'local'};\n",
       "        if (window.MathJax) {MathJax.Hub.Config({SVG: {font: \"STIX-Web\"}});}\n",
       "        if (typeof require !== 'undefined') {\n",
       "        require.undef(\"plotly\");\n",
       "        requirejs.config({\n",
       "            paths: {\n",
       "                'plotly': ['https://cdn.plot.ly/plotly-latest.min']\n",
       "            }\n",
       "        });\n",
       "        require(['plotly'], function(Plotly) {\n",
       "            window._Plotly = Plotly;\n",
       "        });\n",
       "        }\n",
       "        </script>\n",
       "        "
      ]
     },
     "metadata": {},
     "output_type": "display_data"
    },
    {
     "data": {
      "application/vnd.plotly.v1+json": {
       "config": {
        "linkText": "Export to plot.ly",
        "plotlyServerURL": "https://plot.ly",
        "showLink": false
       },
       "data": [
        {
         "name": "训练集真实值",
         "type": "scatter",
         "x": [
          "2009-06-01",
          "2009-07-01",
          "2009-08-01",
          "2009-09-01",
          "2009-10-01",
          "2009-11-01",
          "2009-12-01",
          "2010-01-01",
          "2010-02-01",
          "2010-03-01",
          "2010-04-01",
          "2010-05-01",
          "2010-06-01",
          "2010-07-01",
          "2010-08-01",
          "2010-09-01",
          "2010-10-01",
          "2010-11-01",
          "2010-12-01",
          "2011-01-01",
          "2011-02-01",
          "2011-03-01",
          "2011-04-01",
          "2011-05-01",
          "2011-06-01",
          "2011-07-01",
          "2011-08-01",
          "2011-09-01",
          "2011-10-01",
          "2011-11-01",
          "2011-12-01",
          "2012-01-01",
          "2012-02-01",
          "2012-03-01",
          "2012-04-01",
          "2012-05-01",
          "2012-06-01",
          "2012-07-01",
          "2012-08-01",
          "2012-09-01",
          "2012-10-01",
          "2012-11-01",
          "2012-12-01",
          "2013-01-01",
          "2013-02-01",
          "2013-03-01",
          "2013-04-01",
          "2013-05-01",
          "2013-06-01",
          "2013-07-01",
          "2013-08-01",
          "2013-09-01",
          "2013-10-01",
          "2013-11-01",
          "2013-12-01",
          "2014-01-01",
          "2014-02-01",
          "2014-03-01",
          "2014-04-01",
          "2014-05-01",
          "2014-06-01",
          "2014-07-01",
          "2014-08-01",
          "2014-09-01",
          "2014-10-01",
          "2014-11-01",
          "2014-12-01",
          "2015-01-01",
          "2015-02-01",
          "2015-03-01",
          "2015-04-01",
          "2015-05-01",
          "2015-06-01",
          "2015-07-01",
          "2015-08-01",
          "2015-09-01",
          "2015-10-01",
          "2015-11-01",
          "2015-12-01",
          "2016-01-01",
          "2016-02-01",
          "2016-03-01",
          "2016-04-01",
          "2016-05-01",
          "2016-06-01",
          "2016-07-01",
          "2016-08-01",
          "2016-09-01",
          "2016-10-01",
          "2016-11-01",
          "2016-12-01",
          "2017-01-01",
          "2017-02-01",
          "2017-03-01",
          "2017-04-01",
          "2017-05-01",
          "2017-06-01",
          "2017-07-01",
          "2017-08-01",
          "2017-09-01",
          "2017-10-01",
          "2017-11-01",
          "2017-12-01",
          "2018-01-01",
          "2018-02-01",
          "2018-03-01",
          "2018-04-01",
          "2018-05-01",
          "2018-06-01",
          "2018-07-01",
          "2018-08-01",
          "2018-09-01",
          "2018-10-01",
          "2018-11-01",
          "2018-12-01",
          "2019-01-01",
          "2019-02-01",
          "2019-03-01",
          "2019-04-01",
          "2019-05-01",
          "2019-06-01",
          "2019-07-01",
          "2019-08-01",
          "2019-09-01",
          "2019-10-01",
          "2019-11-01",
          "2019-12-01",
          "2020-01-01"
         ],
         "y": [
          -7.71281,
          -7.98612,
          -7.89474,
          -6.59487,
          -4.98116,
          -1.04664,
          2.295699,
          4.266914,
          5.421935,
          6.267848,
          7.116294,
          7.651341,
          7.007364,
          5.524094,
          5.105348,
          5.105348,
          5.73535,
          6.576188,
          6.259625,
          6.650829,
          7.128846,
          7.256761,
          6.778884,
          6.502915,
          6.791338,
          7.252385,
          6.942592,
          6.326025,
          4.890043,
          2.738452,
          1.697804,
          0.75009,
          0.040793,
          -0.30719,
          -0.69387,
          -1.39655,
          -2.08698,
          -2.87005,
          -3.4813,
          -3.5585,
          -2.76242,
          -2.21416,
          -1.95911,
          -1.65497,
          -1.64515,
          -1.93942,
          -2.63453,
          -2.87885,
          -2.70275,
          -2.27132,
          -1.62294,
          -1.33747,
          -1.49508,
          -1.40632,
          -1.33726,
          -1.6227,
          -1.9665,
          -2.23127,
          -1.93379,
          -1.37636,
          -1.04295,
          -0.80725,
          -1.14185,
          -1.76323,
          -2.15618,
          -2.60894,
          -3.23189,
          -4.23965,
          -4.74877,
          -4.53076,
          -4.54301,
          -4.57748,
          -4.78337,
          -5.33928,
          -5.89301,
          -5.89442,
          -5.89442,
          -5.90142,
          -5.8733,
          -5.31097,
          -4.90024,
          -4.35607,
          -3.4353,
          -2.86389,
          -2.64039,
          -1.78181,
          -0.81011,
          0.087694,
          1.19308,
          3.227112,
          5.511817,
          6.890363,
          7.855271,
          7.640633,
          6.464817,
          5.617336,
          5.617336,
          5.617336,
          6.355182,
          6.884312,
          6.884312,
          5.831265,
          4.997948,
          4.477124,
          3.750146,
          3.232947,
          3.440242,
          4.166503,
          4.688379,
          4.5839,
          4.065644,
          3.653503,
          3.344704,
          2.624891,
          0.792303,
          -0.11211,
          -0.11211,
          0.18815,
          0.690095,
          0.489517,
          -0.11162,
          -0.41098,
          -0.90694,
          -1.39945,
          -1.69408,
          -1.59557,
          -0.60159,
          -0.0016
         ]
        },
        {
         "name": "预测集真实值",
         "type": "scatter",
         "x": [
          "2020-02-01",
          "2020-03-01",
          "2020-04-01",
          "2020-05-01",
          "2020-06-01"
         ],
         "y": [
          -0.40199,
          -1.49648,
          -3.06782,
          -3.64825,
          -3
         ]
        },
        {
         "mode": "markers",
         "name": "分行业预测值",
         "type": "scatter",
         "x": [
          "2020-01-01",
          "2020-02-01",
          "2020-03-01",
          "2020-04-01",
          "2020-05-01",
          "2020-06-01"
         ],
         "y": [
          0.007161580567995429,
          -0.28929174250963285,
          -1.7394964260703318,
          -2.723288728711296,
          -3.3464693024332206,
          -3.0759411376288313
         ]
        },
        {
         "mode": "markers",
         "name": "PMI预测值",
         "type": "scatter",
         "x": [
          "2020-01-01",
          "2020-02-01",
          "2020-03-01",
          "2020-04-01",
          "2020-05-01",
          "2020-06-01"
         ],
         "y": [
          0.08454188899273163,
          -0.06339215472594617,
          -1.2522574512181421,
          -2.843896169961198,
          -3.668147219554214,
          -3.265248209498523
         ]
        }
       ],
       "layout": {
        "template": {
         "data": {
          "bar": [
           {
            "error_x": {
             "color": "#2a3f5f"
            },
            "error_y": {
             "color": "#2a3f5f"
            },
            "marker": {
             "line": {
              "color": "#E5ECF6",
              "width": 0.5
             }
            },
            "type": "bar"
           }
          ],
          "barpolar": [
           {
            "marker": {
             "line": {
              "color": "#E5ECF6",
              "width": 0.5
             }
            },
            "type": "barpolar"
           }
          ],
          "carpet": [
           {
            "aaxis": {
             "endlinecolor": "#2a3f5f",
             "gridcolor": "white",
             "linecolor": "white",
             "minorgridcolor": "white",
             "startlinecolor": "#2a3f5f"
            },
            "baxis": {
             "endlinecolor": "#2a3f5f",
             "gridcolor": "white",
             "linecolor": "white",
             "minorgridcolor": "white",
             "startlinecolor": "#2a3f5f"
            },
            "type": "carpet"
           }
          ],
          "choropleth": [
           {
            "colorbar": {
             "outlinewidth": 0,
             "ticks": ""
            },
            "type": "choropleth"
           }
          ],
          "contour": [
           {
            "colorbar": {
             "outlinewidth": 0,
             "ticks": ""
            },
            "colorscale": [
             [
              0,
              "#0d0887"
             ],
             [
              0.1111111111111111,
              "#46039f"
             ],
             [
              0.2222222222222222,
              "#7201a8"
             ],
             [
              0.3333333333333333,
              "#9c179e"
             ],
             [
              0.4444444444444444,
              "#bd3786"
             ],
             [
              0.5555555555555556,
              "#d8576b"
             ],
             [
              0.6666666666666666,
              "#ed7953"
             ],
             [
              0.7777777777777778,
              "#fb9f3a"
             ],
             [
              0.8888888888888888,
              "#fdca26"
             ],
             [
              1,
              "#f0f921"
             ]
            ],
            "type": "contour"
           }
          ],
          "contourcarpet": [
           {
            "colorbar": {
             "outlinewidth": 0,
             "ticks": ""
            },
            "type": "contourcarpet"
           }
          ],
          "heatmap": [
           {
            "colorbar": {
             "outlinewidth": 0,
             "ticks": ""
            },
            "colorscale": [
             [
              0,
              "#0d0887"
             ],
             [
              0.1111111111111111,
              "#46039f"
             ],
             [
              0.2222222222222222,
              "#7201a8"
             ],
             [
              0.3333333333333333,
              "#9c179e"
             ],
             [
              0.4444444444444444,
              "#bd3786"
             ],
             [
              0.5555555555555556,
              "#d8576b"
             ],
             [
              0.6666666666666666,
              "#ed7953"
             ],
             [
              0.7777777777777778,
              "#fb9f3a"
             ],
             [
              0.8888888888888888,
              "#fdca26"
             ],
             [
              1,
              "#f0f921"
             ]
            ],
            "type": "heatmap"
           }
          ],
          "heatmapgl": [
           {
            "colorbar": {
             "outlinewidth": 0,
             "ticks": ""
            },
            "colorscale": [
             [
              0,
              "#0d0887"
             ],
             [
              0.1111111111111111,
              "#46039f"
             ],
             [
              0.2222222222222222,
              "#7201a8"
             ],
             [
              0.3333333333333333,
              "#9c179e"
             ],
             [
              0.4444444444444444,
              "#bd3786"
             ],
             [
              0.5555555555555556,
              "#d8576b"
             ],
             [
              0.6666666666666666,
              "#ed7953"
             ],
             [
              0.7777777777777778,
              "#fb9f3a"
             ],
             [
              0.8888888888888888,
              "#fdca26"
             ],
             [
              1,
              "#f0f921"
             ]
            ],
            "type": "heatmapgl"
           }
          ],
          "histogram": [
           {
            "marker": {
             "colorbar": {
              "outlinewidth": 0,
              "ticks": ""
             }
            },
            "type": "histogram"
           }
          ],
          "histogram2d": [
           {
            "colorbar": {
             "outlinewidth": 0,
             "ticks": ""
            },
            "colorscale": [
             [
              0,
              "#0d0887"
             ],
             [
              0.1111111111111111,
              "#46039f"
             ],
             [
              0.2222222222222222,
              "#7201a8"
             ],
             [
              0.3333333333333333,
              "#9c179e"
             ],
             [
              0.4444444444444444,
              "#bd3786"
             ],
             [
              0.5555555555555556,
              "#d8576b"
             ],
             [
              0.6666666666666666,
              "#ed7953"
             ],
             [
              0.7777777777777778,
              "#fb9f3a"
             ],
             [
              0.8888888888888888,
              "#fdca26"
             ],
             [
              1,
              "#f0f921"
             ]
            ],
            "type": "histogram2d"
           }
          ],
          "histogram2dcontour": [
           {
            "colorbar": {
             "outlinewidth": 0,
             "ticks": ""
            },
            "colorscale": [
             [
              0,
              "#0d0887"
             ],
             [
              0.1111111111111111,
              "#46039f"
             ],
             [
              0.2222222222222222,
              "#7201a8"
             ],
             [
              0.3333333333333333,
              "#9c179e"
             ],
             [
              0.4444444444444444,
              "#bd3786"
             ],
             [
              0.5555555555555556,
              "#d8576b"
             ],
             [
              0.6666666666666666,
              "#ed7953"
             ],
             [
              0.7777777777777778,
              "#fb9f3a"
             ],
             [
              0.8888888888888888,
              "#fdca26"
             ],
             [
              1,
              "#f0f921"
             ]
            ],
            "type": "histogram2dcontour"
           }
          ],
          "mesh3d": [
           {
            "colorbar": {
             "outlinewidth": 0,
             "ticks": ""
            },
            "type": "mesh3d"
           }
          ],
          "parcoords": [
           {
            "line": {
             "colorbar": {
              "outlinewidth": 0,
              "ticks": ""
             }
            },
            "type": "parcoords"
           }
          ],
          "pie": [
           {
            "automargin": true,
            "type": "pie"
           }
          ],
          "scatter": [
           {
            "marker": {
             "colorbar": {
              "outlinewidth": 0,
              "ticks": ""
             }
            },
            "type": "scatter"
           }
          ],
          "scatter3d": [
           {
            "line": {
             "colorbar": {
              "outlinewidth": 0,
              "ticks": ""
             }
            },
            "marker": {
             "colorbar": {
              "outlinewidth": 0,
              "ticks": ""
             }
            },
            "type": "scatter3d"
           }
          ],
          "scattercarpet": [
           {
            "marker": {
             "colorbar": {
              "outlinewidth": 0,
              "ticks": ""
             }
            },
            "type": "scattercarpet"
           }
          ],
          "scattergeo": [
           {
            "marker": {
             "colorbar": {
              "outlinewidth": 0,
              "ticks": ""
             }
            },
            "type": "scattergeo"
           }
          ],
          "scattergl": [
           {
            "marker": {
             "colorbar": {
              "outlinewidth": 0,
              "ticks": ""
             }
            },
            "type": "scattergl"
           }
          ],
          "scattermapbox": [
           {
            "marker": {
             "colorbar": {
              "outlinewidth": 0,
              "ticks": ""
             }
            },
            "type": "scattermapbox"
           }
          ],
          "scatterpolar": [
           {
            "marker": {
             "colorbar": {
              "outlinewidth": 0,
              "ticks": ""
             }
            },
            "type": "scatterpolar"
           }
          ],
          "scatterpolargl": [
           {
            "marker": {
             "colorbar": {
              "outlinewidth": 0,
              "ticks": ""
             }
            },
            "type": "scatterpolargl"
           }
          ],
          "scatterternary": [
           {
            "marker": {
             "colorbar": {
              "outlinewidth": 0,
              "ticks": ""
             }
            },
            "type": "scatterternary"
           }
          ],
          "surface": [
           {
            "colorbar": {
             "outlinewidth": 0,
             "ticks": ""
            },
            "colorscale": [
             [
              0,
              "#0d0887"
             ],
             [
              0.1111111111111111,
              "#46039f"
             ],
             [
              0.2222222222222222,
              "#7201a8"
             ],
             [
              0.3333333333333333,
              "#9c179e"
             ],
             [
              0.4444444444444444,
              "#bd3786"
             ],
             [
              0.5555555555555556,
              "#d8576b"
             ],
             [
              0.6666666666666666,
              "#ed7953"
             ],
             [
              0.7777777777777778,
              "#fb9f3a"
             ],
             [
              0.8888888888888888,
              "#fdca26"
             ],
             [
              1,
              "#f0f921"
             ]
            ],
            "type": "surface"
           }
          ],
          "table": [
           {
            "cells": {
             "fill": {
              "color": "#EBF0F8"
             },
             "line": {
              "color": "white"
             }
            },
            "header": {
             "fill": {
              "color": "#C8D4E3"
             },
             "line": {
              "color": "white"
             }
            },
            "type": "table"
           }
          ]
         },
         "layout": {
          "annotationdefaults": {
           "arrowcolor": "#2a3f5f",
           "arrowhead": 0,
           "arrowwidth": 1
          },
          "coloraxis": {
           "colorbar": {
            "outlinewidth": 0,
            "ticks": ""
           }
          },
          "colorscale": {
           "diverging": [
            [
             0,
             "#8e0152"
            ],
            [
             0.1,
             "#c51b7d"
            ],
            [
             0.2,
             "#de77ae"
            ],
            [
             0.3,
             "#f1b6da"
            ],
            [
             0.4,
             "#fde0ef"
            ],
            [
             0.5,
             "#f7f7f7"
            ],
            [
             0.6,
             "#e6f5d0"
            ],
            [
             0.7,
             "#b8e186"
            ],
            [
             0.8,
             "#7fbc41"
            ],
            [
             0.9,
             "#4d9221"
            ],
            [
             1,
             "#276419"
            ]
           ],
           "sequential": [
            [
             0,
             "#0d0887"
            ],
            [
             0.1111111111111111,
             "#46039f"
            ],
            [
             0.2222222222222222,
             "#7201a8"
            ],
            [
             0.3333333333333333,
             "#9c179e"
            ],
            [
             0.4444444444444444,
             "#bd3786"
            ],
            [
             0.5555555555555556,
             "#d8576b"
            ],
            [
             0.6666666666666666,
             "#ed7953"
            ],
            [
             0.7777777777777778,
             "#fb9f3a"
            ],
            [
             0.8888888888888888,
             "#fdca26"
            ],
            [
             1,
             "#f0f921"
            ]
           ],
           "sequentialminus": [
            [
             0,
             "#0d0887"
            ],
            [
             0.1111111111111111,
             "#46039f"
            ],
            [
             0.2222222222222222,
             "#7201a8"
            ],
            [
             0.3333333333333333,
             "#9c179e"
            ],
            [
             0.4444444444444444,
             "#bd3786"
            ],
            [
             0.5555555555555556,
             "#d8576b"
            ],
            [
             0.6666666666666666,
             "#ed7953"
            ],
            [
             0.7777777777777778,
             "#fb9f3a"
            ],
            [
             0.8888888888888888,
             "#fdca26"
            ],
            [
             1,
             "#f0f921"
            ]
           ]
          },
          "colorway": [
           "#636efa",
           "#EF553B",
           "#00cc96",
           "#ab63fa",
           "#FFA15A",
           "#19d3f3",
           "#FF6692",
           "#B6E880",
           "#FF97FF",
           "#FECB52"
          ],
          "font": {
           "color": "#2a3f5f"
          },
          "geo": {
           "bgcolor": "white",
           "lakecolor": "white",
           "landcolor": "#E5ECF6",
           "showlakes": true,
           "showland": true,
           "subunitcolor": "white"
          },
          "hoverlabel": {
           "align": "left"
          },
          "hovermode": "closest",
          "mapbox": {
           "style": "light"
          },
          "paper_bgcolor": "white",
          "plot_bgcolor": "#E5ECF6",
          "polar": {
           "angularaxis": {
            "gridcolor": "white",
            "linecolor": "white",
            "ticks": ""
           },
           "bgcolor": "#E5ECF6",
           "radialaxis": {
            "gridcolor": "white",
            "linecolor": "white",
            "ticks": ""
           }
          },
          "scene": {
           "xaxis": {
            "backgroundcolor": "#E5ECF6",
            "gridcolor": "white",
            "gridwidth": 2,
            "linecolor": "white",
            "showbackground": true,
            "ticks": "",
            "zerolinecolor": "white"
           },
           "yaxis": {
            "backgroundcolor": "#E5ECF6",
            "gridcolor": "white",
            "gridwidth": 2,
            "linecolor": "white",
            "showbackground": true,
            "ticks": "",
            "zerolinecolor": "white"
           },
           "zaxis": {
            "backgroundcolor": "#E5ECF6",
            "gridcolor": "white",
            "gridwidth": 2,
            "linecolor": "white",
            "showbackground": true,
            "ticks": "",
            "zerolinecolor": "white"
           }
          },
          "shapedefaults": {
           "line": {
            "color": "#2a3f5f"
           }
          },
          "ternary": {
           "aaxis": {
            "gridcolor": "white",
            "linecolor": "white",
            "ticks": ""
           },
           "baxis": {
            "gridcolor": "white",
            "linecolor": "white",
            "ticks": ""
           },
           "bgcolor": "#E5ECF6",
           "caxis": {
            "gridcolor": "white",
            "linecolor": "white",
            "ticks": ""
           }
          },
          "title": {
           "x": 0.05
          },
          "xaxis": {
           "automargin": true,
           "gridcolor": "white",
           "linecolor": "white",
           "ticks": "",
           "title": {
            "standoff": 15
           },
           "zerolinecolor": "white",
           "zerolinewidth": 2
          },
          "yaxis": {
           "automargin": true,
           "gridcolor": "white",
           "linecolor": "white",
           "ticks": "",
           "title": {
            "standoff": 15
           },
           "zerolinecolor": "white",
           "zerolinewidth": 2
          }
         }
        }
       }
      },
      "text/html": [
       "<div>\n",
       "        \n",
       "        \n",
       "            <div id=\"377f8de7-517c-4852-ad35-9f454784221b\" class=\"plotly-graph-div\" style=\"height:525px; width:100%;\"></div>\n",
       "            <script type=\"text/javascript\">\n",
       "                require([\"plotly\"], function(Plotly) {\n",
       "                    window.PLOTLYENV=window.PLOTLYENV || {};\n",
       "                    \n",
       "                if (document.getElementById(\"377f8de7-517c-4852-ad35-9f454784221b\")) {\n",
       "                    Plotly.newPlot(\n",
       "                        '377f8de7-517c-4852-ad35-9f454784221b',\n",
       "                        [{\"name\": \"\\u8bad\\u7ec3\\u96c6\\u771f\\u5b9e\\u503c\", \"type\": \"scatter\", \"x\": [\"2009-06-01\", \"2009-07-01\", \"2009-08-01\", \"2009-09-01\", \"2009-10-01\", \"2009-11-01\", \"2009-12-01\", \"2010-01-01\", \"2010-02-01\", \"2010-03-01\", \"2010-04-01\", \"2010-05-01\", \"2010-06-01\", \"2010-07-01\", \"2010-08-01\", \"2010-09-01\", \"2010-10-01\", \"2010-11-01\", \"2010-12-01\", \"2011-01-01\", \"2011-02-01\", \"2011-03-01\", \"2011-04-01\", \"2011-05-01\", \"2011-06-01\", \"2011-07-01\", \"2011-08-01\", \"2011-09-01\", \"2011-10-01\", \"2011-11-01\", \"2011-12-01\", \"2012-01-01\", \"2012-02-01\", \"2012-03-01\", \"2012-04-01\", \"2012-05-01\", \"2012-06-01\", \"2012-07-01\", \"2012-08-01\", \"2012-09-01\", \"2012-10-01\", \"2012-11-01\", \"2012-12-01\", \"2013-01-01\", \"2013-02-01\", \"2013-03-01\", \"2013-04-01\", \"2013-05-01\", \"2013-06-01\", \"2013-07-01\", \"2013-08-01\", \"2013-09-01\", \"2013-10-01\", \"2013-11-01\", \"2013-12-01\", \"2014-01-01\", \"2014-02-01\", \"2014-03-01\", \"2014-04-01\", \"2014-05-01\", \"2014-06-01\", \"2014-07-01\", \"2014-08-01\", \"2014-09-01\", \"2014-10-01\", \"2014-11-01\", \"2014-12-01\", \"2015-01-01\", \"2015-02-01\", \"2015-03-01\", \"2015-04-01\", \"2015-05-01\", \"2015-06-01\", \"2015-07-01\", \"2015-08-01\", \"2015-09-01\", \"2015-10-01\", \"2015-11-01\", \"2015-12-01\", \"2016-01-01\", \"2016-02-01\", \"2016-03-01\", \"2016-04-01\", \"2016-05-01\", \"2016-06-01\", \"2016-07-01\", \"2016-08-01\", \"2016-09-01\", \"2016-10-01\", \"2016-11-01\", \"2016-12-01\", \"2017-01-01\", \"2017-02-01\", \"2017-03-01\", \"2017-04-01\", \"2017-05-01\", \"2017-06-01\", \"2017-07-01\", \"2017-08-01\", \"2017-09-01\", \"2017-10-01\", \"2017-11-01\", \"2017-12-01\", \"2018-01-01\", \"2018-02-01\", \"2018-03-01\", \"2018-04-01\", \"2018-05-01\", \"2018-06-01\", \"2018-07-01\", \"2018-08-01\", \"2018-09-01\", \"2018-10-01\", \"2018-11-01\", \"2018-12-01\", \"2019-01-01\", \"2019-02-01\", \"2019-03-01\", \"2019-04-01\", \"2019-05-01\", \"2019-06-01\", \"2019-07-01\", \"2019-08-01\", \"2019-09-01\", \"2019-10-01\", \"2019-11-01\", \"2019-12-01\", \"2020-01-01\"], \"y\": [-7.71281, -7.98612, -7.89474, -6.59487, -4.98116, -1.04664, 2.295699, 4.266914, 5.421935, 6.267848, 7.116294, 7.651341, 7.007364, 5.524094, 5.105348, 5.105348, 5.73535, 6.576188, 6.259625, 6.650829, 7.128846, 7.256761, 6.778884, 6.502915, 6.791338, 7.252385, 6.942592, 6.326025, 4.890043, 2.738452, 1.697804, 0.75009, 0.040793, -0.30719, -0.69387, -1.39655, -2.08698, -2.87005, -3.4813, -3.5585, -2.76242, -2.21416, -1.95911, -1.65497, -1.64515, -1.93942, -2.63453, -2.87885, -2.70275, -2.27132, -1.62294, -1.33747, -1.49508, -1.40632, -1.33726, -1.6227, -1.9665, -2.23127, -1.93379, -1.37636, -1.04295, -0.80725, -1.14185, -1.76323, -2.15618, -2.60894, -3.23189, -4.23965, -4.74877, -4.53076, -4.54301, -4.57748, -4.78337, -5.33928, -5.89301, -5.89442, -5.89442, -5.90142, -5.8733, -5.31097, -4.90024, -4.35607, -3.4353, -2.86389, -2.64039, -1.78181, -0.81011, 0.087694, 1.19308, 3.227112, 5.511817, 6.890363, 7.855271, 7.640633, 6.464817, 5.617336, 5.617336, 5.617336, 6.355182, 6.884312, 6.884312, 5.831265, 4.997948, 4.477124, 3.750146, 3.232947, 3.440242, 4.166503, 4.688379, 4.5839, 4.065644, 3.653503, 3.344704, 2.624891, 0.792303, -0.11211, -0.11211, 0.18815, 0.690095, 0.489517, -0.11162, -0.41098, -0.90694, -1.39945, -1.69408, -1.59557, -0.60159, -0.0016]}, {\"name\": \"\\u9884\\u6d4b\\u96c6\\u771f\\u5b9e\\u503c\", \"type\": \"scatter\", \"x\": [\"2020-02-01\", \"2020-03-01\", \"2020-04-01\", \"2020-05-01\", \"2020-06-01\"], \"y\": [-0.40199, -1.49648, -3.06782, -3.64825, -3.0]}, {\"mode\": \"markers\", \"name\": \"\\u5206\\u884c\\u4e1a\\u9884\\u6d4b\\u503c\", \"type\": \"scatter\", \"x\": [\"2020-01-01\", \"2020-02-01\", \"2020-03-01\", \"2020-04-01\", \"2020-05-01\", \"2020-06-01\"], \"y\": [0.007161580567995429, -0.28929174250963285, -1.7394964260703318, -2.723288728711296, -3.3464693024332206, -3.0759411376288313]}, {\"mode\": \"markers\", \"name\": \"PMI\\u9884\\u6d4b\\u503c\", \"type\": \"scatter\", \"x\": [\"2020-01-01\", \"2020-02-01\", \"2020-03-01\", \"2020-04-01\", \"2020-05-01\", \"2020-06-01\"], \"y\": [0.08454188899273163, -0.06339215472594617, -1.2522574512181421, -2.843896169961198, -3.668147219554214, -3.265248209498523]}],\n",
       "                        {\"template\": {\"data\": {\"bar\": [{\"error_x\": {\"color\": \"#2a3f5f\"}, \"error_y\": {\"color\": \"#2a3f5f\"}, \"marker\": {\"line\": {\"color\": \"#E5ECF6\", \"width\": 0.5}}, \"type\": \"bar\"}], \"barpolar\": [{\"marker\": {\"line\": {\"color\": \"#E5ECF6\", \"width\": 0.5}}, \"type\": \"barpolar\"}], \"carpet\": [{\"aaxis\": {\"endlinecolor\": \"#2a3f5f\", \"gridcolor\": \"white\", \"linecolor\": \"white\", \"minorgridcolor\": \"white\", \"startlinecolor\": \"#2a3f5f\"}, \"baxis\": {\"endlinecolor\": \"#2a3f5f\", \"gridcolor\": \"white\", \"linecolor\": \"white\", \"minorgridcolor\": \"white\", \"startlinecolor\": \"#2a3f5f\"}, \"type\": \"carpet\"}], \"choropleth\": [{\"colorbar\": {\"outlinewidth\": 0, \"ticks\": \"\"}, \"type\": \"choropleth\"}], \"contour\": [{\"colorbar\": {\"outlinewidth\": 0, \"ticks\": \"\"}, \"colorscale\": [[0.0, \"#0d0887\"], [0.1111111111111111, \"#46039f\"], [0.2222222222222222, \"#7201a8\"], [0.3333333333333333, \"#9c179e\"], [0.4444444444444444, \"#bd3786\"], [0.5555555555555556, \"#d8576b\"], [0.6666666666666666, \"#ed7953\"], [0.7777777777777778, \"#fb9f3a\"], [0.8888888888888888, \"#fdca26\"], [1.0, \"#f0f921\"]], \"type\": \"contour\"}], \"contourcarpet\": [{\"colorbar\": {\"outlinewidth\": 0, \"ticks\": \"\"}, \"type\": \"contourcarpet\"}], \"heatmap\": [{\"colorbar\": {\"outlinewidth\": 0, \"ticks\": \"\"}, \"colorscale\": [[0.0, \"#0d0887\"], [0.1111111111111111, \"#46039f\"], [0.2222222222222222, \"#7201a8\"], [0.3333333333333333, \"#9c179e\"], [0.4444444444444444, \"#bd3786\"], [0.5555555555555556, \"#d8576b\"], [0.6666666666666666, \"#ed7953\"], [0.7777777777777778, \"#fb9f3a\"], [0.8888888888888888, \"#fdca26\"], [1.0, \"#f0f921\"]], \"type\": \"heatmap\"}], \"heatmapgl\": [{\"colorbar\": {\"outlinewidth\": 0, \"ticks\": \"\"}, \"colorscale\": [[0.0, \"#0d0887\"], [0.1111111111111111, \"#46039f\"], [0.2222222222222222, \"#7201a8\"], [0.3333333333333333, \"#9c179e\"], [0.4444444444444444, \"#bd3786\"], [0.5555555555555556, \"#d8576b\"], [0.6666666666666666, \"#ed7953\"], [0.7777777777777778, \"#fb9f3a\"], [0.8888888888888888, \"#fdca26\"], [1.0, \"#f0f921\"]], \"type\": \"heatmapgl\"}], \"histogram\": [{\"marker\": {\"colorbar\": {\"outlinewidth\": 0, \"ticks\": \"\"}}, \"type\": \"histogram\"}], \"histogram2d\": [{\"colorbar\": {\"outlinewidth\": 0, \"ticks\": \"\"}, \"colorscale\": [[0.0, \"#0d0887\"], [0.1111111111111111, \"#46039f\"], [0.2222222222222222, \"#7201a8\"], [0.3333333333333333, \"#9c179e\"], [0.4444444444444444, \"#bd3786\"], [0.5555555555555556, \"#d8576b\"], [0.6666666666666666, \"#ed7953\"], [0.7777777777777778, \"#fb9f3a\"], [0.8888888888888888, \"#fdca26\"], [1.0, \"#f0f921\"]], \"type\": \"histogram2d\"}], \"histogram2dcontour\": [{\"colorbar\": {\"outlinewidth\": 0, \"ticks\": \"\"}, \"colorscale\": [[0.0, \"#0d0887\"], [0.1111111111111111, \"#46039f\"], [0.2222222222222222, \"#7201a8\"], [0.3333333333333333, \"#9c179e\"], [0.4444444444444444, \"#bd3786\"], [0.5555555555555556, \"#d8576b\"], [0.6666666666666666, \"#ed7953\"], [0.7777777777777778, \"#fb9f3a\"], [0.8888888888888888, \"#fdca26\"], [1.0, \"#f0f921\"]], \"type\": \"histogram2dcontour\"}], \"mesh3d\": [{\"colorbar\": {\"outlinewidth\": 0, \"ticks\": \"\"}, \"type\": \"mesh3d\"}], \"parcoords\": [{\"line\": {\"colorbar\": {\"outlinewidth\": 0, \"ticks\": \"\"}}, \"type\": \"parcoords\"}], \"pie\": [{\"automargin\": true, \"type\": \"pie\"}], \"scatter\": [{\"marker\": {\"colorbar\": {\"outlinewidth\": 0, \"ticks\": \"\"}}, \"type\": \"scatter\"}], \"scatter3d\": [{\"line\": {\"colorbar\": {\"outlinewidth\": 0, \"ticks\": \"\"}}, \"marker\": {\"colorbar\": {\"outlinewidth\": 0, \"ticks\": \"\"}}, \"type\": \"scatter3d\"}], \"scattercarpet\": [{\"marker\": {\"colorbar\": {\"outlinewidth\": 0, \"ticks\": \"\"}}, \"type\": \"scattercarpet\"}], \"scattergeo\": [{\"marker\": {\"colorbar\": {\"outlinewidth\": 0, \"ticks\": \"\"}}, \"type\": \"scattergeo\"}], \"scattergl\": [{\"marker\": {\"colorbar\": {\"outlinewidth\": 0, \"ticks\": \"\"}}, \"type\": \"scattergl\"}], \"scattermapbox\": [{\"marker\": {\"colorbar\": {\"outlinewidth\": 0, \"ticks\": \"\"}}, \"type\": \"scattermapbox\"}], \"scatterpolar\": [{\"marker\": {\"colorbar\": {\"outlinewidth\": 0, \"ticks\": \"\"}}, \"type\": \"scatterpolar\"}], \"scatterpolargl\": [{\"marker\": {\"colorbar\": {\"outlinewidth\": 0, \"ticks\": \"\"}}, \"type\": \"scatterpolargl\"}], \"scatterternary\": [{\"marker\": {\"colorbar\": {\"outlinewidth\": 0, \"ticks\": \"\"}}, \"type\": \"scatterternary\"}], \"surface\": [{\"colorbar\": {\"outlinewidth\": 0, \"ticks\": \"\"}, \"colorscale\": [[0.0, \"#0d0887\"], [0.1111111111111111, \"#46039f\"], [0.2222222222222222, \"#7201a8\"], [0.3333333333333333, \"#9c179e\"], [0.4444444444444444, \"#bd3786\"], [0.5555555555555556, \"#d8576b\"], [0.6666666666666666, \"#ed7953\"], [0.7777777777777778, \"#fb9f3a\"], [0.8888888888888888, \"#fdca26\"], [1.0, \"#f0f921\"]], \"type\": \"surface\"}], \"table\": [{\"cells\": {\"fill\": {\"color\": \"#EBF0F8\"}, \"line\": {\"color\": \"white\"}}, \"header\": {\"fill\": {\"color\": \"#C8D4E3\"}, \"line\": {\"color\": \"white\"}}, \"type\": \"table\"}]}, \"layout\": {\"annotationdefaults\": {\"arrowcolor\": \"#2a3f5f\", \"arrowhead\": 0, \"arrowwidth\": 1}, \"coloraxis\": {\"colorbar\": {\"outlinewidth\": 0, \"ticks\": \"\"}}, \"colorscale\": {\"diverging\": [[0, \"#8e0152\"], [0.1, \"#c51b7d\"], [0.2, \"#de77ae\"], [0.3, \"#f1b6da\"], [0.4, \"#fde0ef\"], [0.5, \"#f7f7f7\"], [0.6, \"#e6f5d0\"], [0.7, \"#b8e186\"], [0.8, \"#7fbc41\"], [0.9, \"#4d9221\"], [1, \"#276419\"]], \"sequential\": [[0.0, \"#0d0887\"], [0.1111111111111111, \"#46039f\"], [0.2222222222222222, \"#7201a8\"], [0.3333333333333333, \"#9c179e\"], [0.4444444444444444, \"#bd3786\"], [0.5555555555555556, \"#d8576b\"], [0.6666666666666666, \"#ed7953\"], [0.7777777777777778, \"#fb9f3a\"], [0.8888888888888888, \"#fdca26\"], [1.0, \"#f0f921\"]], \"sequentialminus\": [[0.0, \"#0d0887\"], [0.1111111111111111, \"#46039f\"], [0.2222222222222222, \"#7201a8\"], [0.3333333333333333, \"#9c179e\"], [0.4444444444444444, \"#bd3786\"], [0.5555555555555556, \"#d8576b\"], [0.6666666666666666, \"#ed7953\"], [0.7777777777777778, \"#fb9f3a\"], [0.8888888888888888, \"#fdca26\"], [1.0, \"#f0f921\"]]}, \"colorway\": [\"#636efa\", \"#EF553B\", \"#00cc96\", \"#ab63fa\", \"#FFA15A\", \"#19d3f3\", \"#FF6692\", \"#B6E880\", \"#FF97FF\", \"#FECB52\"], \"font\": {\"color\": \"#2a3f5f\"}, \"geo\": {\"bgcolor\": \"white\", \"lakecolor\": \"white\", \"landcolor\": \"#E5ECF6\", \"showlakes\": true, \"showland\": true, \"subunitcolor\": \"white\"}, \"hoverlabel\": {\"align\": \"left\"}, \"hovermode\": \"closest\", \"mapbox\": {\"style\": \"light\"}, \"paper_bgcolor\": \"white\", \"plot_bgcolor\": \"#E5ECF6\", \"polar\": {\"angularaxis\": {\"gridcolor\": \"white\", \"linecolor\": \"white\", \"ticks\": \"\"}, \"bgcolor\": \"#E5ECF6\", \"radialaxis\": {\"gridcolor\": \"white\", \"linecolor\": \"white\", \"ticks\": \"\"}}, \"scene\": {\"xaxis\": {\"backgroundcolor\": \"#E5ECF6\", \"gridcolor\": \"white\", \"gridwidth\": 2, \"linecolor\": \"white\", \"showbackground\": true, \"ticks\": \"\", \"zerolinecolor\": \"white\"}, \"yaxis\": {\"backgroundcolor\": \"#E5ECF6\", \"gridcolor\": \"white\", \"gridwidth\": 2, \"linecolor\": \"white\", \"showbackground\": true, \"ticks\": \"\", \"zerolinecolor\": \"white\"}, \"zaxis\": {\"backgroundcolor\": \"#E5ECF6\", \"gridcolor\": \"white\", \"gridwidth\": 2, \"linecolor\": \"white\", \"showbackground\": true, \"ticks\": \"\", \"zerolinecolor\": \"white\"}}, \"shapedefaults\": {\"line\": {\"color\": \"#2a3f5f\"}}, \"ternary\": {\"aaxis\": {\"gridcolor\": \"white\", \"linecolor\": \"white\", \"ticks\": \"\"}, \"baxis\": {\"gridcolor\": \"white\", \"linecolor\": \"white\", \"ticks\": \"\"}, \"bgcolor\": \"#E5ECF6\", \"caxis\": {\"gridcolor\": \"white\", \"linecolor\": \"white\", \"ticks\": \"\"}}, \"title\": {\"x\": 0.05}, \"xaxis\": {\"automargin\": true, \"gridcolor\": \"white\", \"linecolor\": \"white\", \"ticks\": \"\", \"title\": {\"standoff\": 15}, \"zerolinecolor\": \"white\", \"zerolinewidth\": 2}, \"yaxis\": {\"automargin\": true, \"gridcolor\": \"white\", \"linecolor\": \"white\", \"ticks\": \"\", \"title\": {\"standoff\": 15}, \"zerolinecolor\": \"white\", \"zerolinewidth\": 2}}}},\n",
       "                        {\"responsive\": true}\n",
       "                    ).then(function(){\n",
       "                            \n",
       "var gd = document.getElementById('377f8de7-517c-4852-ad35-9f454784221b');\n",
       "var x = new MutationObserver(function (mutations, observer) {{\n",
       "        var display = window.getComputedStyle(gd).display;\n",
       "        if (!display || display === 'none') {{\n",
       "            console.log([gd, 'removed!']);\n",
       "            Plotly.purge(gd);\n",
       "            observer.disconnect();\n",
       "        }}\n",
       "}});\n",
       "\n",
       "// Listen for the removal of the full notebook cells\n",
       "var notebookContainer = gd.closest('#notebook-container');\n",
       "if (notebookContainer) {{\n",
       "    x.observe(notebookContainer, {childList: true});\n",
       "}}\n",
       "\n",
       "// Listen for the clearing of the current output cell\n",
       "var outputEl = gd.closest('.output');\n",
       "if (outputEl) {{\n",
       "    x.observe(outputEl, {childList: true});\n",
       "}}\n",
       "\n",
       "                        })\n",
       "                };\n",
       "                });\n",
       "            </script>\n",
       "        </div>"
      ]
     },
     "metadata": {},
     "output_type": "display_data"
    }
   ],
   "source": [
    "import plotly\n",
    "import plotly.graph_objs as go\n",
    "from plotly.offline import init_notebook_mode,iplot\n",
    "init_notebook_mode(connected=True)\n",
    "trace1 = go.Scatter(\n",
    "        x=train['date'],\n",
    "        y=train['PPI同比'],\n",
    "        name = '训练集真实值'\n",
    "    )\n",
    "trace2 = go.Scatter(\n",
    "        x=test['date'],\n",
    "        y=test['PPI同比'],\n",
    "        name = '预测集真实值'\n",
    "    )\n",
    "trace3 = go.Scatter(\n",
    "        x=pred_df['date'],\n",
    "        y=pred_df['分行业预测值'],\n",
    "        name = '分行业预测值', \n",
    "        mode=\"markers\"\n",
    "       )\n",
    "trace4 = go.Scatter(\n",
    "        x=pred_df['date'],\n",
    "        y=pred_df['PMI预测值'],\n",
    "        name = 'PMI预测值',  \n",
    "        mode=\"markers\"\n",
    "       )\n",
    "\n",
    "d = [trace1,trace2,trace3,trace4]\n",
    "\n",
    "fig = go.Figure(data = d)\n",
    "iplot(fig)"
   ]
  },
  {
   "cell_type": "code",
   "execution_count": null,
   "metadata": {},
   "outputs": [],
   "source": []
  }
 ],
 "metadata": {
  "kernelspec": {
   "display_name": "Python 3",
   "language": "python",
   "name": "python3"
  },
  "language_info": {
   "codemirror_mode": {
    "name": "ipython",
    "version": 3
   },
   "file_extension": ".py",
   "mimetype": "text/x-python",
   "name": "python",
   "nbconvert_exporter": "python",
   "pygments_lexer": "ipython3",
   "version": "3.7.6"
  }
 },
 "nbformat": 4,
 "nbformat_minor": 4
}
