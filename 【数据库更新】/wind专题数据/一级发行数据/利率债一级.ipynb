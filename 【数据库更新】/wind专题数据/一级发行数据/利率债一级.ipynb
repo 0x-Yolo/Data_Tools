{
 "cells": [
  {
   "cell_type": "code",
   "execution_count": 1,
   "metadata": {},
   "outputs": [
    {
     "data": {
      "text/html": [
       "        <script type=\"text/javascript\">\n",
       "        window.PlotlyConfig = {MathJaxConfig: 'local'};\n",
       "        if (window.MathJax) {MathJax.Hub.Config({SVG: {font: \"STIX-Web\"}});}\n",
       "        if (typeof require !== 'undefined') {\n",
       "        require.undef(\"plotly\");\n",
       "        requirejs.config({\n",
       "            paths: {\n",
       "                'plotly': ['https://cdn.plot.ly/plotly-latest.min']\n",
       "            }\n",
       "        });\n",
       "        require(['plotly'], function(Plotly) {\n",
       "            window._Plotly = Plotly;\n",
       "        });\n",
       "        }\n",
       "        </script>\n",
       "        "
      ]
     },
     "metadata": {},
     "output_type": "display_data"
    }
   ],
   "source": [
    "import pandas as pd\n",
    "import numpy as np\n",
    "import matplotlib.pyplot as plt\n",
    "%matplotlib inline\n",
    "import plotly as py\n",
    "import plotly.graph_objs as go\n",
    "from plotly.offline import init_notebook_mode,iplot\n",
    "init_notebook_mode(connected=True)\n",
    "import warnings\n",
    "warnings.filterwarnings('ignore')\n",
    "import plotly as py\n",
    "import plotly.graph_objs as go\n",
    "from IPython.core.interactiveshell import InteractiveShell\n",
    "InteractiveShell.ast_node_interactivity = \"all\"\n"
   ]
  },
  {
   "cell_type": "code",
   "execution_count": 2,
   "metadata": {},
   "outputs": [
    {
     "data": {
      "text/html": [
       "        <script type=\"text/javascript\">\n",
       "        window.PlotlyConfig = {MathJaxConfig: 'local'};\n",
       "        if (window.MathJax) {MathJax.Hub.Config({SVG: {font: \"STIX-Web\"}});}\n",
       "        if (typeof require !== 'undefined') {\n",
       "        require.undef(\"plotly\");\n",
       "        requirejs.config({\n",
       "            paths: {\n",
       "                'plotly': ['https://cdn.plot.ly/plotly-latest.min']\n",
       "            }\n",
       "        });\n",
       "        require(['plotly'], function(Plotly) {\n",
       "            window._Plotly = Plotly;\n",
       "        });\n",
       "        }\n",
       "        </script>\n",
       "        "
      ]
     },
     "metadata": {},
     "output_type": "display_data"
    },
    {
     "data": {
      "text/html": [
       "        <script type=\"text/javascript\">\n",
       "        window.PlotlyConfig = {MathJaxConfig: 'local'};\n",
       "        if (window.MathJax) {MathJax.Hub.Config({SVG: {font: \"STIX-Web\"}});}\n",
       "        if (typeof require !== 'undefined') {\n",
       "        require.undef(\"plotly\");\n",
       "        requirejs.config({\n",
       "            paths: {\n",
       "                'plotly': ['https://cdn.plot.ly/plotly-latest.min']\n",
       "            }\n",
       "        });\n",
       "        require(['plotly'], function(Plotly) {\n",
       "            window._Plotly = Plotly;\n",
       "        });\n",
       "        }\n",
       "        </script>\n",
       "        "
      ]
     },
     "metadata": {},
     "output_type": "display_data"
    },
    {
     "data": {
      "text/html": [
       "        <script type=\"text/javascript\">\n",
       "        window.PlotlyConfig = {MathJaxConfig: 'local'};\n",
       "        if (window.MathJax) {MathJax.Hub.Config({SVG: {font: \"STIX-Web\"}});}\n",
       "        if (typeof require !== 'undefined') {\n",
       "        require.undef(\"plotly\");\n",
       "        requirejs.config({\n",
       "            paths: {\n",
       "                'plotly': ['https://cdn.plot.ly/plotly-latest.min']\n",
       "            }\n",
       "        });\n",
       "        require(['plotly'], function(Plotly) {\n",
       "            window._Plotly = Plotly;\n",
       "        });\n",
       "        }\n",
       "        </script>\n",
       "        "
      ]
     },
     "metadata": {},
     "output_type": "display_data"
    },
    {
     "data": {
      "text/html": [
       "        <script type=\"text/javascript\">\n",
       "        window.PlotlyConfig = {MathJaxConfig: 'local'};\n",
       "        if (window.MathJax) {MathJax.Hub.Config({SVG: {font: \"STIX-Web\"}});}\n",
       "        if (typeof require !== 'undefined') {\n",
       "        require.undef(\"plotly\");\n",
       "        requirejs.config({\n",
       "            paths: {\n",
       "                'plotly': ['https://cdn.plot.ly/plotly-latest.min']\n",
       "            }\n",
       "        });\n",
       "        require(['plotly'], function(Plotly) {\n",
       "            window._Plotly = Plotly;\n",
       "        });\n",
       "        }\n",
       "        </script>\n",
       "        "
      ]
     },
     "metadata": {},
     "output_type": "display_data"
    }
   ],
   "source": [
    "from plotly.offline import download_plotlyjs, init_notebook_mode, plot, iplot\n",
    "import cufflinks as cf\n",
    "init_notebook_mode(connected=True)\n",
    "cf.go_offline()\n",
    "cf.set_config_file(offline=True, world_readable=True)"
   ]
  },
  {
   "cell_type": "code",
   "execution_count": 3,
   "metadata": {},
   "outputs": [],
   "source": [
    "df = pd.read_excel('利率一级.xlsx',sheet_name = '数据（导入）')"
   ]
  },
  {
   "cell_type": "code",
   "execution_count": 4,
   "metadata": {},
   "outputs": [],
   "source": [
    "# 这步是用来去除异常值的，之后有啥异常值还可以在这边改。\n",
    "df = df[df['综收较估值'] < 40]"
   ]
  },
  {
   "cell_type": "code",
   "execution_count": 5,
   "metadata": {},
   "outputs": [
    {
     "data": {
      "text/html": [
       "<div>\n",
       "<style scoped>\n",
       "    .dataframe tbody tr th:only-of-type {\n",
       "        vertical-align: middle;\n",
       "    }\n",
       "\n",
       "    .dataframe tbody tr th {\n",
       "        vertical-align: top;\n",
       "    }\n",
       "\n",
       "    .dataframe thead th {\n",
       "        text-align: right;\n",
       "    }\n",
       "</style>\n",
       "<table border=\"1\" class=\"dataframe\">\n",
       "  <thead>\n",
       "    <tr style=\"text-align: right;\">\n",
       "      <th></th>\n",
       "      <th>发行起始日</th>\n",
       "      <th>发行期限(年)</th>\n",
       "      <th>发行人全称</th>\n",
       "      <th>全场倍数</th>\n",
       "      <th>综收较估值</th>\n",
       "      <th>综收较二级</th>\n",
       "    </tr>\n",
       "  </thead>\n",
       "  <tbody>\n",
       "    <tr>\n",
       "      <th>0</th>\n",
       "      <td>2015-01-06</td>\n",
       "      <td>7.0</td>\n",
       "      <td>国家开发银行</td>\n",
       "      <td>1.78</td>\n",
       "      <td>10.239519</td>\n",
       "      <td>NaN</td>\n",
       "    </tr>\n",
       "    <tr>\n",
       "      <th>1</th>\n",
       "      <td>2015-01-06</td>\n",
       "      <td>5.0</td>\n",
       "      <td>国家开发银行</td>\n",
       "      <td>2.68</td>\n",
       "      <td>-2.147878</td>\n",
       "      <td>NaN</td>\n",
       "    </tr>\n",
       "    <tr>\n",
       "      <th>2</th>\n",
       "      <td>2015-01-06</td>\n",
       "      <td>10.0</td>\n",
       "      <td>国家开发银行</td>\n",
       "      <td>1.78</td>\n",
       "      <td>7.776245</td>\n",
       "      <td>NaN</td>\n",
       "    </tr>\n",
       "    <tr>\n",
       "      <th>3</th>\n",
       "      <td>2015-01-13</td>\n",
       "      <td>7.0</td>\n",
       "      <td>国家开发银行</td>\n",
       "      <td>2.70</td>\n",
       "      <td>3.439959</td>\n",
       "      <td>NaN</td>\n",
       "    </tr>\n",
       "    <tr>\n",
       "      <th>4</th>\n",
       "      <td>2015-01-13</td>\n",
       "      <td>3.0</td>\n",
       "      <td>国家开发银行</td>\n",
       "      <td>5.04</td>\n",
       "      <td>-1.087258</td>\n",
       "      <td>NaN</td>\n",
       "    </tr>\n",
       "    <tr>\n",
       "      <th>...</th>\n",
       "      <td>...</td>\n",
       "      <td>...</td>\n",
       "      <td>...</td>\n",
       "      <td>...</td>\n",
       "      <td>...</td>\n",
       "      <td>...</td>\n",
       "    </tr>\n",
       "    <tr>\n",
       "      <th>3651</th>\n",
       "      <td>2021-04-29</td>\n",
       "      <td>3.0</td>\n",
       "      <td>国家开发银行</td>\n",
       "      <td>6.60</td>\n",
       "      <td>-2.112951</td>\n",
       "      <td>-2.552951</td>\n",
       "    </tr>\n",
       "    <tr>\n",
       "      <th>3652</th>\n",
       "      <td>2021-04-29</td>\n",
       "      <td>10.0</td>\n",
       "      <td>国家开发银行</td>\n",
       "      <td>3.21</td>\n",
       "      <td>-0.720000</td>\n",
       "      <td>-0.720000</td>\n",
       "    </tr>\n",
       "    <tr>\n",
       "      <th>3653</th>\n",
       "      <td>2021-05-06</td>\n",
       "      <td>1.0</td>\n",
       "      <td>国家开发银行</td>\n",
       "      <td>4.14</td>\n",
       "      <td>2.120601</td>\n",
       "      <td>-3.879399</td>\n",
       "    </tr>\n",
       "    <tr>\n",
       "      <th>3654</th>\n",
       "      <td>2021-05-06</td>\n",
       "      <td>5.0</td>\n",
       "      <td>国家开发银行</td>\n",
       "      <td>4.30</td>\n",
       "      <td>-2.291036</td>\n",
       "      <td>-1.041036</td>\n",
       "    </tr>\n",
       "    <tr>\n",
       "      <th>3655</th>\n",
       "      <td>2021-05-06</td>\n",
       "      <td>10.0</td>\n",
       "      <td>国家开发银行</td>\n",
       "      <td>3.68</td>\n",
       "      <td>-0.880000</td>\n",
       "      <td>0.120000</td>\n",
       "    </tr>\n",
       "  </tbody>\n",
       "</table>\n",
       "<p>1285 rows × 6 columns</p>\n",
       "</div>"
      ],
      "text/plain": [
       "          发行起始日  发行期限(年)   发行人全称  全场倍数      综收较估值     综收较二级\n",
       "0    2015-01-06      7.0  国家开发银行  1.78  10.239519       NaN\n",
       "1    2015-01-06      5.0  国家开发银行  2.68  -2.147878       NaN\n",
       "2    2015-01-06     10.0  国家开发银行  1.78   7.776245       NaN\n",
       "3    2015-01-13      7.0  国家开发银行  2.70   3.439959       NaN\n",
       "4    2015-01-13      3.0  国家开发银行  5.04  -1.087258       NaN\n",
       "...         ...      ...     ...   ...        ...       ...\n",
       "3651 2021-04-29      3.0  国家开发银行  6.60  -2.112951 -2.552951\n",
       "3652 2021-04-29     10.0  国家开发银行  3.21  -0.720000 -0.720000\n",
       "3653 2021-05-06      1.0  国家开发银行  4.14   2.120601 -3.879399\n",
       "3654 2021-05-06      5.0  国家开发银行  4.30  -2.291036 -1.041036\n",
       "3655 2021-05-06     10.0  国家开发银行  3.68  -0.880000  0.120000\n",
       "\n",
       "[1285 rows x 6 columns]"
      ]
     },
     "execution_count": 5,
     "metadata": {},
     "output_type": "execute_result"
    }
   ],
   "source": [
    "df_gk = df[df['发行人全称']=='国家开发银行'][['发行起始日','发行期限(年)','发行人全称','全场倍数','综收较估值','综收较二级']]\n",
    "df_zj = df[(df['发行人全称'] == '国家开发银行')|(df['发行人全称'] == '中国农业发展银行')|(df['发行人全称'] == '中国进出口银行')][['发行起始日','发行期限(年)','发行人全称','全场倍数','综收较估值','综收较二级']]\n",
    "maturity = [3,5,7,10]\n",
    "df_gk"
   ]
  },
  {
   "cell_type": "code",
   "execution_count": 6,
   "metadata": {},
   "outputs": [],
   "source": [
    "qcbs_quantile_gk = df_gk.groupby('发行期限(年)').apply(lambda df:np.nanquantile(df['全场倍数'],[0.25,0.5,0.75]))\n",
    "zsjgz_quantile_gk = df_gk.groupby('发行期限(年)').apply(lambda df:np.nanquantile(df['综收较估值'],[0.25,0.5,0.75]))\n",
    "qcbs_quantile_zj = df_zj.groupby('发行期限(年)').apply(lambda df:np.nanquantile(df['全场倍数'],[0.25,0.5,0.75]))\n",
    "zsjgz_quantile_zj = df_zj.groupby('发行期限(年)').apply(lambda df:np.nanquantile(df['综收较估值'],[0.25,0.5,0.75]))\n",
    "\n"
   ]
  },
  {
   "cell_type": "code",
   "execution_count": 7,
   "metadata": {
    "scrolled": false
   },
   "outputs": [
    {
     "data": {
      "text/plain": [
       "'国开3年.html'"
      ]
     },
     "execution_count": 7,
     "metadata": {},
     "output_type": "execute_result"
    },
    {
     "data": {
      "text/plain": [
       "'国开5年.html'"
      ]
     },
     "execution_count": 7,
     "metadata": {},
     "output_type": "execute_result"
    },
    {
     "data": {
      "text/plain": [
       "'国开7年.html'"
      ]
     },
     "execution_count": 7,
     "metadata": {},
     "output_type": "execute_result"
    },
    {
     "data": {
      "text/plain": [
       "'国开10年.html'"
      ]
     },
     "execution_count": 7,
     "metadata": {},
     "output_type": "execute_result"
    }
   ],
   "source": [
    "pyplt = py.offline.plot\n",
    "\n",
    "for i in maturity:   \n",
    "    temp = df_gk[df_gk['发行期限(年)']==i]\n",
    "    trace1 = go.Scatter(\n",
    "        x = temp['发行起始日'],\n",
    "        y = temp['全场倍数'],\n",
    "        fill = 'tozeroy',\n",
    "        mode= 'none',# 无边界线\n",
    "        name = \"全场倍数\",\n",
    "        fillcolor = 'Lightblue'\n",
    "    )\n",
    "    trace2 = go.Scatter(\n",
    "        x = temp['发行起始日'],\n",
    "        y = temp['综收较估值'],\n",
    "        mode= 'lines',# 无边界线\n",
    "        name = \"综收较估值\",\n",
    "        yaxis=\"y2\",\n",
    "        line = {'color': 'Chocolate'}\n",
    "    )\n",
    "#    trace3 =  go.Scatter(\n",
    "#        x = temp['发行起始日'],\n",
    "#        y = temp['综收较二级'],\n",
    "#        mode= 'lines',# 无边界线\n",
    "#        name = \"综收较二级\",\n",
    "#        yaxis=\"y2\",\n",
    "#        line = {'color':'Cadetblue'}\n",
    "#    )\n",
    "    trace4 = go.Scatter(\n",
    "        x = temp['发行起始日'],\n",
    "        y = np.tile(qcbs_quantile_gk[qcbs_quantile_gk.index ==i].iloc[0][0],2000),\n",
    "        mode= 'lines',\n",
    "        name = \"全场倍数25%\",\n",
    "        line={\n",
    "        \"width\": 3,  \n",
    "        \"color\": \"Dodgerblue\",  \n",
    "        \"dash\": \"dash\"  # 指定为虚线\n",
    "        })\n",
    "    \n",
    "    trace5 = go.Scatter(\n",
    "        x = temp['发行起始日'],\n",
    "        y = np.tile(qcbs_quantile_gk[qcbs_quantile_gk.index ==i].iloc[0][1],2000),\n",
    "        mode= 'lines',\n",
    "        name = \"全场倍数50%\",\n",
    "        line={\n",
    "        \"width\": 1,  \n",
    "        \"color\": \"Dodgerblue\",  \n",
    "        \"dash\": \"dash\"  # 指定为虚线\n",
    "        }\n",
    "    )\n",
    "    trace6 =  go.Scatter(\n",
    "        x = temp['发行起始日'],\n",
    "        y = np.tile(qcbs_quantile_gk[qcbs_quantile_gk.index ==i].iloc[0][2],2000),\n",
    "        mode= 'lines',\n",
    "        name = \"全场倍数75%\",\n",
    "        line={\n",
    "        \"width\": 3,  \n",
    "        \"color\": \"Dodgerblue\",  \n",
    "        \"dash\": \"dash\"  # 指定为虚线\n",
    "        }\n",
    "    )\n",
    "    trace7= go.Scatter(\n",
    "        x = temp['发行起始日'],\n",
    "        y = np.tile(zsjgz_quantile_gk[zsjgz_quantile_gk.index ==i].iloc[0][0],2000),\n",
    "        mode= 'lines',\n",
    "        name = \"综收较估值25%\",\n",
    "        line={\n",
    "        \"width\": 3,  \n",
    "        \"color\": \"Brown\",  \n",
    "        \"dash\": \"dash\"  # 指定为虚线\n",
    "        },\n",
    "        yaxis=\"y2\"\n",
    "    )\n",
    "    trace8 = go.Scatter(\n",
    "        x = temp['发行起始日'],\n",
    "        y = np.tile(zsjgz_quantile_gk[zsjgz_quantile_gk.index ==i].iloc[0][1],2000),\n",
    "        mode= 'lines',\n",
    "        name = \"综收较估值50%\",\n",
    "        yaxis=\"y2\",\n",
    "        line={\n",
    "        \"width\": 1,  \n",
    "        \"color\": \"Brown\",  \n",
    "        \"dash\": \"dash\"  # 指定为虚线\n",
    "        },\n",
    "    )\n",
    "    trace9 =  go.Scatter(\n",
    "        x = temp['发行起始日'],\n",
    "        y = np.tile(zsjgz_quantile_gk[zsjgz_quantile_gk.index ==i].iloc[0][2],2000),\n",
    "        mode= 'lines',\n",
    "        name = \"综收较估值75%\",\n",
    "        yaxis=\"y2\",\n",
    "        line={\n",
    "        \"width\": 3,  \n",
    "        \"color\": \"Brown\",  \n",
    "        \"dash\": \"dash\"  # 指定为虚线\n",
    "        }\n",
    "    )   \n",
    "    data = [trace1, trace2,trace4,trace5,trace6,trace7,trace8,trace9]\n",
    "    layout = go.Layout(title =dict(text = ''.join(['国开',str(i),'年']),\n",
    "                                    x = 0.5,\n",
    "                                    yanchor = 'middle') ,\n",
    "                      yaxis = dict(title = '全场倍数'),\n",
    "                      yaxis2 = dict(title = '综收较估值',overlaying='y', side='right'),\n",
    "                       xaxis = dict( \n",
    "                      tickformat = '%Y-%m', \n",
    "                      tick0 = '2015-01-01',\n",
    "                      dtick = 'M3',\n",
    "                     ticks = 'inside'), # 设置每隔一季度就是一个tick\n",
    "                       legend=dict(orientation=\"h\"),\n",
    "              #         height = 800,\n",
    "              #        width = 1000)\n",
    "                      )\n",
    "                       \n",
    "                       \n",
    "    \n",
    "                    \n",
    "        \n",
    "    #设置图离图像四周的边距\n",
    "    \n",
    "    fig = go.Figure(data = data, layout = layout)#设置图像的大小\n",
    "    pyplt(fig, filename = ''.join(['国开',str(i),'年']))\n",
    "#    pyplt(fig, filename = ''.join(['国开债',str(i),'年']))\n"
   ]
  },
  {
   "cell_type": "code",
   "execution_count": 8,
   "metadata": {
    "scrolled": false
   },
   "outputs": [
    {
     "data": {
      "text/plain": [
       "'政金3年.html'"
      ]
     },
     "execution_count": 8,
     "metadata": {},
     "output_type": "execute_result"
    },
    {
     "data": {
      "text/plain": [
       "'政金5年.html'"
      ]
     },
     "execution_count": 8,
     "metadata": {},
     "output_type": "execute_result"
    },
    {
     "data": {
      "text/plain": [
       "'政金7年.html'"
      ]
     },
     "execution_count": 8,
     "metadata": {},
     "output_type": "execute_result"
    },
    {
     "data": {
      "text/plain": [
       "'政金10年.html'"
      ]
     },
     "execution_count": 8,
     "metadata": {},
     "output_type": "execute_result"
    }
   ],
   "source": [
    "for i in maturity:   \n",
    "    temp = df_zj[df_zj['发行期限(年)']==i]    \n",
    "    trace1 = go.Scatter(\n",
    "        x = temp.groupby('发行起始日').apply(lambda df: df['全场倍数'].mean()).sort_index().index,\n",
    "        y = temp.groupby('发行起始日').apply(lambda df: df['全场倍数'].mean()).sort_index(),\n",
    "        fill = 'tozeroy',\n",
    "        mode= 'none',# 无边界线\n",
    "        name = \"全场倍数\",\n",
    "        fillcolor = 'Lightblue'\n",
    "    )\n",
    "    trace2 = go.Scatter(\n",
    "        x = temp.groupby('发行起始日').apply(lambda df: df['综收较估值'].mean()).sort_index().index,\n",
    "        y = temp.groupby('发行起始日').apply(lambda df: df['综收较估值'].mean()).sort_index(),\n",
    "        mode= 'lines',# 无边界线\n",
    "        name = \"综收较估值\",\n",
    "        yaxis=\"y2\",\n",
    "        line = {'color': 'Chocolate'}\n",
    "    )\n",
    "#    trace3 =  go.Scatter(\n",
    "#        x = temp['发行起始日'],\n",
    "#        y = temp['综收较二级'],\n",
    "#        mode= 'lines',# 无边界线\n",
    "#        name = \"综收较二级\",\n",
    "#        yaxis=\"y2\",\n",
    "#        line = {'color':'Cadetblue'}\n",
    "#    )\n",
    "    trace4 = go.Scatter(\n",
    "        x = temp['发行起始日'],\n",
    "        y = np.tile(qcbs_quantile_zj[qcbs_quantile_zj.index ==i].iloc[0][0],2000),\n",
    "        mode= 'lines',\n",
    "        name = \"全场倍数25%\",\n",
    "        line={\n",
    "        \"width\": 3,  \n",
    "        \"color\": \"Dodgerblue\",  \n",
    "        \"dash\": \"dash\"  # 指定为虚线\n",
    "        })\n",
    "    \n",
    "    trace5 = go.Scatter(\n",
    "        x = temp['发行起始日'],\n",
    "        y = np.tile(qcbs_quantile_zj[qcbs_quantile_zj.index ==i].iloc[0][1],2000),\n",
    "        mode= 'lines',\n",
    "        name = \"全场倍数50%\",\n",
    "        line={\n",
    "        \"width\": 1,  \n",
    "        \"color\": \"Dodgerblue\",  \n",
    "        \"dash\": \"dash\"  # 指定为虚线\n",
    "        }\n",
    "    )\n",
    "    trace6 =  go.Scatter(\n",
    "        x = temp['发行起始日'],\n",
    "        y = np.tile(qcbs_quantile_zj[qcbs_quantile_zj.index ==i].iloc[0][2],2000),\n",
    "        mode= 'lines',\n",
    "        name = \"全场倍数75%\",\n",
    "        line={\n",
    "        \"width\": 3,  \n",
    "        \"color\": \"Dodgerblue\",  \n",
    "        \"dash\": \"dash\"  # 指定为虚线\n",
    "        }\n",
    "    )\n",
    "    trace7= go.Scatter(\n",
    "        x = temp['发行起始日'],\n",
    "        y = np.tile(zsjgz_quantile_zj[zsjgz_quantile_zj.index ==i].iloc[0][0],2000),\n",
    "        mode= 'lines',\n",
    "        name = \"综收较估值25%\",\n",
    "        line={\n",
    "        \"width\": 3,  \n",
    "        \"color\": \"Brown\",  \n",
    "        \"dash\": \"dash\"  # 指定为虚线\n",
    "        },\n",
    "        yaxis=\"y2\"\n",
    "    )\n",
    "    trace8 = go.Scatter(\n",
    "        x = temp['发行起始日'],\n",
    "        y = np.tile(zsjgz_quantile_zj[zsjgz_quantile_zj.index ==i].iloc[0][1],2000),\n",
    "        mode= 'lines',\n",
    "        name = \"综收较估值50%\",\n",
    "        yaxis=\"y2\",\n",
    "        line={\n",
    "        \"width\": 1,  \n",
    "        \"color\": \"Brown\",  \n",
    "        \"dash\": \"dash\"  # 指定为虚线\n",
    "        },\n",
    "    )\n",
    "    trace9 =  go.Scatter(\n",
    "        x = temp['发行起始日'],\n",
    "        y = np.tile(zsjgz_quantile_zj[zsjgz_quantile_zj.index ==i].iloc[0][2],2000),\n",
    "        mode= 'lines',\n",
    "        name = \"综收较估值75%\",\n",
    "        yaxis=\"y2\",\n",
    "        line={\n",
    "        \"width\": 3,  \n",
    "        \"color\": \"Brown\",  \n",
    "        \"dash\": \"dash\"  # 指定为虚线\n",
    "        }\n",
    "    )   \n",
    "    data = [trace1, trace2,trace4,trace5,trace6,trace7,trace8,trace9]\n",
    "    layout = go.Layout(title =dict(text = ''.join(['政金',str(i),'年']),\n",
    "                                    x = 0.5,\n",
    "                                    yanchor = 'middle') ,\n",
    "                      yaxis = dict(title = '全场倍数'),\n",
    "                      yaxis2 = dict(title = '综收较估值',overlaying='y', side='right'),\n",
    "                       xaxis = dict( \n",
    "                      tickformat = '%Y-%m', \n",
    "                      tick0 = '2015-01-01',\n",
    "                      dtick = 'M3',\n",
    "                     ticks = 'inside'), # 设置每隔一季度就是一个tick\n",
    "                       legend=dict(orientation=\"h\"),\n",
    "                  #     height = 750)\n",
    "                      )\n",
    "                       \n",
    "                       \n",
    "    \n",
    "                    \n",
    "        \n",
    "    #设置图离图像四周的边距\n",
    "    \n",
    "    fig = go.Figure(data = data, layout = layout)#设置图像的大小\n",
    "    pyplt(fig, filename = ''.join(['政金',str(i),'年']))\n"
   ]
  },
  {
   "cell_type": "code",
   "execution_count": 9,
   "metadata": {},
   "outputs": [],
   "source": [
    "df_2020 = df[df['发行起始日']>'2019-12-31'][['发行起始日','发行期限(年)','发行人全称','全场倍数','综收较估值','综收较二级']]\n",
    "maturity = [3,5,7,10]\n",
    "df_qcbs_quantile_2020 = df.groupby(['发行人全称','发行期限(年)']).apply(lambda df:np.nanquantile(df['全场倍数'],[0.25,0.5,0.75])).reset_index()\n",
    "df_zsjgz_quantile_2020 = df.groupby(['发行人全称','发行期限(年)']).apply(lambda df:np.nanquantile(df['综收较估值'],[0.25,0.5,0.75])).reset_index()\n"
   ]
  },
  {
   "cell_type": "code",
   "execution_count": 10,
   "metadata": {},
   "outputs": [
    {
     "data": {
      "text/html": [
       "<div>\n",
       "<style scoped>\n",
       "    .dataframe tbody tr th:only-of-type {\n",
       "        vertical-align: middle;\n",
       "    }\n",
       "\n",
       "    .dataframe tbody tr th {\n",
       "        vertical-align: top;\n",
       "    }\n",
       "\n",
       "    .dataframe thead th {\n",
       "        text-align: right;\n",
       "    }\n",
       "</style>\n",
       "<table border=\"1\" class=\"dataframe\">\n",
       "  <thead>\n",
       "    <tr style=\"text-align: right;\">\n",
       "      <th></th>\n",
       "      <th>发行起始日</th>\n",
       "      <th>发行期限(年)</th>\n",
       "      <th>发行人全称</th>\n",
       "      <th>全场倍数</th>\n",
       "      <th>综收较估值</th>\n",
       "      <th>综收较二级</th>\n",
       "    </tr>\n",
       "  </thead>\n",
       "  <tbody>\n",
       "    <tr>\n",
       "      <th>2360</th>\n",
       "      <td>2020-01-07</td>\n",
       "      <td>1.0</td>\n",
       "      <td>国家开发银行</td>\n",
       "      <td>2.72</td>\n",
       "      <td>-8.940578</td>\n",
       "      <td>-8.780578</td>\n",
       "    </tr>\n",
       "    <tr>\n",
       "      <th>2361</th>\n",
       "      <td>2020-01-16</td>\n",
       "      <td>1.0</td>\n",
       "      <td>国家开发银行</td>\n",
       "      <td>2.50</td>\n",
       "      <td>1.839750</td>\n",
       "      <td>1.009750</td>\n",
       "    </tr>\n",
       "    <tr>\n",
       "      <th>2362</th>\n",
       "      <td>2020-01-21</td>\n",
       "      <td>1.0</td>\n",
       "      <td>国家开发银行</td>\n",
       "      <td>4.18</td>\n",
       "      <td>0.764572</td>\n",
       "      <td>-1.255428</td>\n",
       "    </tr>\n",
       "    <tr>\n",
       "      <th>2363</th>\n",
       "      <td>2020-02-06</td>\n",
       "      <td>1.0</td>\n",
       "      <td>国家开发银行</td>\n",
       "      <td>11.85</td>\n",
       "      <td>-35.580000</td>\n",
       "      <td>-35.000000</td>\n",
       "    </tr>\n",
       "    <tr>\n",
       "      <th>2364</th>\n",
       "      <td>2020-02-13</td>\n",
       "      <td>1.0</td>\n",
       "      <td>国家开发银行</td>\n",
       "      <td>4.06</td>\n",
       "      <td>-8.387746</td>\n",
       "      <td>-7.457746</td>\n",
       "    </tr>\n",
       "  </tbody>\n",
       "</table>\n",
       "</div>"
      ],
      "text/plain": [
       "          发行起始日  发行期限(年)   发行人全称   全场倍数      综收较估值      综收较二级\n",
       "2360 2020-01-07      1.0  国家开发银行   2.72  -8.940578  -8.780578\n",
       "2361 2020-01-16      1.0  国家开发银行   2.50   1.839750   1.009750\n",
       "2362 2020-01-21      1.0  国家开发银行   4.18   0.764572  -1.255428\n",
       "2363 2020-02-06      1.0  国家开发银行  11.85 -35.580000 -35.000000\n",
       "2364 2020-02-13      1.0  国家开发银行   4.06  -8.387746  -7.457746"
      ]
     },
     "execution_count": 10,
     "metadata": {},
     "output_type": "execute_result"
    }
   ],
   "source": [
    "df_2020.head()"
   ]
  },
  {
   "cell_type": "code",
   "execution_count": 11,
   "metadata": {},
   "outputs": [],
   "source": [
    "maturity2020 = [1,3,5,7,10]"
   ]
  },
  {
   "cell_type": "code",
   "execution_count": 12,
   "metadata": {},
   "outputs": [
    {
     "data": {
      "text/plain": [
       "['国家开发银行', '中华人民共和国财政部', '中国农业发展银行', '中国进出口银行']"
      ]
     },
     "execution_count": 12,
     "metadata": {},
     "output_type": "execute_result"
    }
   ],
   "source": [
    "issuer = df['发行人全称'].unique().tolist()\n",
    "issuer"
   ]
  },
  {
   "cell_type": "code",
   "execution_count": 13,
   "metadata": {
    "scrolled": false
   },
   "outputs": [
    {
     "data": {
      "text/plain": [
       "'国家开发银行1年.html'"
      ]
     },
     "execution_count": 13,
     "metadata": {},
     "output_type": "execute_result"
    },
    {
     "data": {
      "text/plain": [
       "'国家开发银行3年.html'"
      ]
     },
     "execution_count": 13,
     "metadata": {},
     "output_type": "execute_result"
    },
    {
     "data": {
      "text/plain": [
       "'国家开发银行5年.html'"
      ]
     },
     "execution_count": 13,
     "metadata": {},
     "output_type": "execute_result"
    },
    {
     "data": {
      "text/plain": [
       "'国家开发银行7年.html'"
      ]
     },
     "execution_count": 13,
     "metadata": {},
     "output_type": "execute_result"
    },
    {
     "data": {
      "text/plain": [
       "'国家开发银行10年.html'"
      ]
     },
     "execution_count": 13,
     "metadata": {},
     "output_type": "execute_result"
    },
    {
     "data": {
      "text/plain": [
       "'中华人民共和国财政部1年.html'"
      ]
     },
     "execution_count": 13,
     "metadata": {},
     "output_type": "execute_result"
    },
    {
     "data": {
      "text/plain": [
       "'中华人民共和国财政部3年.html'"
      ]
     },
     "execution_count": 13,
     "metadata": {},
     "output_type": "execute_result"
    },
    {
     "data": {
      "text/plain": [
       "'中华人民共和国财政部5年.html'"
      ]
     },
     "execution_count": 13,
     "metadata": {},
     "output_type": "execute_result"
    },
    {
     "data": {
      "text/plain": [
       "'中华人民共和国财政部7年.html'"
      ]
     },
     "execution_count": 13,
     "metadata": {},
     "output_type": "execute_result"
    },
    {
     "data": {
      "text/plain": [
       "'中华人民共和国财政部10年.html'"
      ]
     },
     "execution_count": 13,
     "metadata": {},
     "output_type": "execute_result"
    },
    {
     "data": {
      "text/plain": [
       "'中国农业发展银行1年.html'"
      ]
     },
     "execution_count": 13,
     "metadata": {},
     "output_type": "execute_result"
    },
    {
     "data": {
      "text/plain": [
       "'中国农业发展银行3年.html'"
      ]
     },
     "execution_count": 13,
     "metadata": {},
     "output_type": "execute_result"
    },
    {
     "data": {
      "text/plain": [
       "'中国农业发展银行5年.html'"
      ]
     },
     "execution_count": 13,
     "metadata": {},
     "output_type": "execute_result"
    },
    {
     "data": {
      "text/plain": [
       "'中国农业发展银行7年.html'"
      ]
     },
     "execution_count": 13,
     "metadata": {},
     "output_type": "execute_result"
    },
    {
     "data": {
      "text/plain": [
       "'中国农业发展银行10年.html'"
      ]
     },
     "execution_count": 13,
     "metadata": {},
     "output_type": "execute_result"
    },
    {
     "data": {
      "text/plain": [
       "'中国进出口银行1年.html'"
      ]
     },
     "execution_count": 13,
     "metadata": {},
     "output_type": "execute_result"
    },
    {
     "data": {
      "text/plain": [
       "'中国进出口银行3年.html'"
      ]
     },
     "execution_count": 13,
     "metadata": {},
     "output_type": "execute_result"
    },
    {
     "data": {
      "text/plain": [
       "'中国进出口银行5年.html'"
      ]
     },
     "execution_count": 13,
     "metadata": {},
     "output_type": "execute_result"
    },
    {
     "data": {
      "text/plain": [
       "'中国进出口银行7年.html'"
      ]
     },
     "execution_count": 13,
     "metadata": {},
     "output_type": "execute_result"
    },
    {
     "data": {
      "text/plain": [
       "'中国进出口银行10年.html'"
      ]
     },
     "execution_count": 13,
     "metadata": {},
     "output_type": "execute_result"
    }
   ],
   "source": [
    "issuer = df['发行人全称'].unique().tolist()\n",
    "for i in issuer:\n",
    "    for year in maturity2020:\n",
    "        temp = df_2020[(df_2020['发行人全称']==i)&(df_2020['发行期限(年)']==year)]    \n",
    "        trace1 = go.Scatter(\n",
    "            x = temp.groupby('发行起始日').apply(lambda df: df['全场倍数'].mean()).sort_index().index,\n",
    "            y = temp.groupby('发行起始日').apply(lambda df: df['全场倍数'].mean()).sort_index(),\n",
    "            fill = 'tozeroy',\n",
    "            mode= 'none',# 无边界线\n",
    "            name = \"全场倍数\",\n",
    "            fillcolor = 'Lightblue'\n",
    "        )\n",
    "        trace2 = go.Scatter(\n",
    "            x = temp.groupby('发行起始日').apply(lambda df: df['综收较估值'].mean()).sort_index().index,\n",
    "            y = temp.groupby('发行起始日').apply(lambda df: df['综收较估值'].mean()).sort_index(),\n",
    "            mode= 'lines',# 无边界线\n",
    "            name = \"综收较估值\",\n",
    "            yaxis=\"y2\",\n",
    "            line = {'color': 'Chocolate'}\n",
    "        )\n",
    "        trace3 =  go.Scatter(\n",
    "            x = temp.groupby('发行起始日').apply(lambda df: df['综收较二级'].mean()).sort_index().index,\n",
    "            y = temp.groupby('发行起始日').apply(lambda df: df['综收较二级'].mean()).sort_index(),\n",
    "            mode= 'lines',# 无边界线\n",
    "            name = \"综收较二级\",\n",
    "            yaxis=\"y2\",\n",
    "            line = {'color':'Firebrick'}\n",
    "        )\n",
    "        trace4 = go.Scatter(\n",
    "            x = temp['发行起始日'],\n",
    "            y = np.tile(df_qcbs_quantile_2020[(df_qcbs_quantile_2020['发行人全称'] == i)&(df_qcbs_quantile_2020['发行期限(年)'] == year)].iloc[:,2].tolist()[0][0],200),\n",
    "            mode= 'lines',\n",
    "            name = \"全场倍数25%\",\n",
    "            line={\n",
    "            \"width\": 3,  \n",
    "            \"color\": \"Dodgerblue\",  \n",
    "            \"dash\": \"dash\"  # 指定为虚线\n",
    "            })\n",
    "\n",
    "        trace5 = go.Scatter(\n",
    "            x = temp['发行起始日'],\n",
    "            y = np.tile(df_qcbs_quantile_2020[(df_qcbs_quantile_2020['发行人全称'] == i)&(df_qcbs_quantile_2020['发行期限(年)'] == year)].iloc[:,2].tolist()[0][1],200),\n",
    "            mode= 'lines',\n",
    "            name = \"全场倍数50%\",\n",
    "            line={\n",
    "            \"width\": 1,  \n",
    "            \"color\": \"Dodgerblue\",  \n",
    "            \"dash\": \"dash\"  # 指定为虚线\n",
    "            }\n",
    "        )\n",
    "        trace6 =  go.Scatter(\n",
    "            x = temp['发行起始日'],\n",
    "            y = np.tile(df_qcbs_quantile_2020[(df_qcbs_quantile_2020['发行人全称'] == i)&(df_qcbs_quantile_2020['发行期限(年)'] == year)].iloc[:,2].tolist()[0][2],200),\n",
    "            mode= 'lines',\n",
    "            name = \"全场倍数75%\",\n",
    "            line={\n",
    "            \"width\": 3,  \n",
    "            \"color\": \"Dodgerblue\",  \n",
    "            \"dash\": \"dash\"  # 指定为虚线\n",
    "            }\n",
    "        )\n",
    "        trace7= go.Scatter(\n",
    "            x = temp['发行起始日'],\n",
    "            y = np.tile(df_zsjgz_quantile_2020[(df_zsjgz_quantile_2020['发行人全称'] == i)&(df_zsjgz_quantile_2020['发行期限(年)'] == year)].iloc[:,2].tolist()[0][0],200),\n",
    "            mode= 'lines',\n",
    "            name = \"综收较估值25%\",\n",
    "            line={\n",
    "            \"width\": 3,  \n",
    "            \"color\": \"Brown\",  \n",
    "            \"dash\": \"dash\"  # 指定为虚线\n",
    "            },\n",
    "            yaxis=\"y2\"\n",
    "        )\n",
    "        trace8 = go.Scatter(\n",
    "            x = temp['发行起始日'],\n",
    "            y = np.tile(df_zsjgz_quantile_2020[(df_zsjgz_quantile_2020['发行人全称'] == i)&(df_zsjgz_quantile_2020['发行期限(年)'] == year)].iloc[:,2].tolist()[0][1],200),\n",
    "            mode= 'lines',\n",
    "            name = \"综收较估值50%\",\n",
    "            yaxis=\"y2\",\n",
    "            line={\n",
    "            \"width\": 1,  \n",
    "            \"color\": \"Brown\",  \n",
    "            \"dash\": \"dash\"  # 指定为虚线\n",
    "            },\n",
    "        )\n",
    "        trace9 =  go.Scatter(\n",
    "            x = temp['发行起始日'],\n",
    "            y = np.tile(df_zsjgz_quantile_2020[(df_zsjgz_quantile_2020['发行人全称'] == i)&(df_zsjgz_quantile_2020['发行期限(年)'] == year)].iloc[:,2].tolist()[0][2],200),\n",
    "            mode= 'lines',\n",
    "            name = \"综收较估值75%\",\n",
    "            yaxis=\"y2\",\n",
    "            line={\n",
    "            \"width\": 3,  \n",
    "            \"color\": \"Brown\",  \n",
    "            \"dash\": \"dash\"  # 指定为虚线\n",
    "            }\n",
    "        )   \n",
    "        data = [trace1, trace2,trace3,trace4,trace5,trace6,trace7,trace8,trace9]\n",
    "        name = '国开'\n",
    "        if i == '中华人民共和国财政部':\n",
    "            name = '国债'\n",
    "        elif i == '中国农业发展银行':\n",
    "            name = '农发'\n",
    "        elif i == '中国进出口银行':\n",
    "            name = '口行'\n",
    "        \n",
    "        layout = go.Layout(title =dict(text = ''.join([name,str(year),'年']),\n",
    "                                        x = 0.5,\n",
    "                                        yanchor = 'middle') ,\n",
    "                          yaxis = dict(title = '全场倍数'),\n",
    "                          yaxis2 = dict(title = '综收较估值',overlaying='y', side='right'),\n",
    "                           xaxis = dict( \n",
    "                           type = 'date',\n",
    "                            tickformat = '%Y-%m-%d',\n",
    "                          tick0 = '2020-01-01',\n",
    "                          dtick = 86400000*15,\n",
    "                         ticks = 'inside'), # 设置每隔一季度就是一个tick\n",
    "                           legend=dict(orientation=\"h\")\n",
    "                     #      height = 750,\n",
    "                    #      width = 1400)\n",
    "                          )\n",
    "\n",
    "\n",
    "\n",
    "\n",
    "        #设置图离图像四周的边距\n",
    "\n",
    "        fig = go.Figure(data = data, layout = layout)#设置图像的大小\n",
    "        pyplt(fig, filename = ''.join([i,str(year),'年']))\n"
   ]
  },
  {
   "cell_type": "code",
   "execution_count": null,
   "metadata": {},
   "outputs": [],
   "source": [
    " "
   ]
  }
 ],
 "metadata": {
  "kernelspec": {
   "display_name": "Python 3",
   "language": "python",
   "name": "python3"
  },
  "language_info": {
   "codemirror_mode": {
    "name": "ipython",
    "version": 3
   },
   "file_extension": ".py",
   "mimetype": "text/x-python",
   "name": "python",
   "nbconvert_exporter": "python",
   "pygments_lexer": "ipython3",
   "version": "3.8.3"
  }
 },
 "nbformat": 4,
 "nbformat_minor": 4
}
